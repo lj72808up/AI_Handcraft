{
 "cells": [
  {
   "cell_type": "markdown",
   "metadata": {},
   "source": [
    "## $\\S$1. Jupyter-scala-spark\n",
    "#### 1. 安装scala kernel  \n",
    " ```bash\n",
    " git clone https://github.com/jupyter-scala/jupyter-scala.git\n",
    " bash jupyter-scala.sh\n",
    " \n",
    " # 验证\n",
    " jupyter kernelspec list\n",
    " ```\n",
    "#### 2. 安装toree  \n",
    " [下载toree](https://dist.apache.org/repos/dist/dev/incubator/toree/)\n",
    " ```bash\n",
    " pip install toree-0.2.0.dev1.tar.gz\n",
    " jupyter toree install --spark_home=/Users/lj/devkits/spark-2.3.0-bin-hadoop2.7 --interpreters=Scala,SQL\n",
    " ```"
   ]
  },
  {
   "cell_type": "markdown",
   "metadata": {},
   "source": [
    "## $\\S$2. Jupyter-python-spark\n",
    "#### 1. Update Spark environment to use Python 2.7\n",
    "```bash\n",
    "export PYSPARK_PYTHON=/opt/miniconda2/bin/python\n",
    "export PYSPARK_DRIVER_PYTHON=/opt/miniconda2/bin/python\n",
    "export SPARK_HOME=/opt/mapr/spark/spark-2.1.0\n",
    "```\n",
    "#### 2. ipython Notebook\n",
    "```bash\n",
    "# 1. 配置ipython kernel\n",
    "ipython profile create pyspark\n",
    "```\n",
    "```python\n",
    "# 2. Add ~/.ipython/profile_pyspark/startup/00-pyspark-setup.py\n",
    "import os\n",
    "import sys\n",
    "spark_home = os.environ.get('SPARK_HOME', None)\n",
    "if not spark_home:\n",
    "  raise ValueError('SPARK_HOME environment variable is not set')\n",
    "sys.path.insert(0, os.path.join(spark_home, 'python'))\n",
    "sys.path.insert(0, os.path.join(spark_home, 'python/lib/py4j-0.10.4-src.zip'))\n",
    "exec(open(os.path.join(spark_home, 'python/pyspark/shell.py')).read())\n",
    "```\n",
    "```bash\n",
    "# 3. Test\n",
    "ipython --profile=pyspark\n",
    "```\n",
    "#### 3. Jupyter Notebook\n",
    "```bash\n",
    "cd ~/.ipython/kernels/pyspark\n",
    "cat kernel.json\n",
    "{\n",
    "\"display_name\": \"pySpark (Spark 2.3.0)\",\n",
    "\"language\": \"python\",\n",
    "\"argv\": [\n",
    "\"/Users/lj/anaconda2/bin/python\",\n",
    "\"-m\",\n",
    "\"ipykernel\",\n",
    "\"-f\",\n",
    "\"{connection_file}\"\n",
    "],\n",
    "\"env\": {\n",
    "     \"CAPTURE_STANDARD_OUT\": \"true\",\n",
    "     \"CAPTURE_STANDARD_ERR\": \"true\",\n",
    "     \"SEND_EMPTY_OUTPUT\": \"false\",\n",
    "     \"SPARK_HOME\": \"/Users/lj/devkits/spark-2.3.0-bin-hadoop2.7\",\n",
    "     \"PYTHONSTARTUP\":\"/Users/lj/.ipython/profile_pyspark2.3/startup/00-pyspark-setup.py\"\n",
    " }\n",
    "}\n",
    "```"
   ]
  }
 ],
 "metadata": {
  "kernelspec": {
   "display_name": "Python 2",
   "language": "python",
   "name": "python2"
  },
  "language_info": {
   "codemirror_mode": {
    "name": "ipython",
    "version": 2
   },
   "file_extension": ".py",
   "mimetype": "text/x-python",
   "name": "python",
   "nbconvert_exporter": "python",
   "pygments_lexer": "ipython2",
   "version": "2.7.14"
  }
 },
 "nbformat": 4,
 "nbformat_minor": 2
}
