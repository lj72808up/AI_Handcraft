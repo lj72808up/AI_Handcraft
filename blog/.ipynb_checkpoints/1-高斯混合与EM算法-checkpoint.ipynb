{
 "cells": [
  {
   "cell_type": "markdown",
   "metadata": {},
   "source": [
    "## 高斯混合与EM算法\n",
    "### 一. EM算法\n",
    "1. Jensen不等式  \n",
    "( 1 ) 对于$x\\in R$,若$f^{ '' }\\left( x \\right) \\ge 0,$则$f\\left( x \\right)$为凸函数, 对应的Hessian矩阵为半正定的 . 若$f^{ '' }\\left( x \\right)>0$,则函数为严格凹函数,Hessian矩阵为正定的  \n",
    "( 2 ) 若$f$为凸函数,$X$为随机变量,则有$E\\left[ f(x) \\right] \\ge f\\left( E[X] \\right) $  \n",
    "( 3 ) 凹函数有相反不等式结果  \n",
    "\n",
    "2. EM算法的一般形式  \n",
    "( 1 ) 我们增加一个潜在随机变量$Z$,表示观测样本的分布,实在$Z$的条件下得到的分布. 给定样本$\\left\\{ { x }^{ (1) },{ x }^{ (2) }...{ x }^{ (m) } \\right\\} $, 要拟合出参数$\\theta $, 使用联合概率分布$p(x,z)$, 给出参数的对数极大似然:  \n",
    "&nbsp;&nbsp;&nbsp;&nbsp;$l(\\theta )=\\sum _{ i=1 }^{ m }{ logP(x;\\theta ) } \\\\ \\quad \\quad =\\sum _{ i=1 }^{ m }{ log\\left[ \\sum _{ z=1 }^{ k }{ P(x,z;\\theta ) }  \\right]  } \\\\ \\quad \\quad =\\sum _{ i=1 }^{ m }{ log\\left[ \\sum _{ j=1 }^{ k }{ Q(z=j)*\\frac { P(x,z;\\theta ) }{ Q(z=j) }  }  \\right]  } \\\\ \\quad \\quad \\ge \\sum _{ i=1 }^{ m }{ \\sum _{ j=1 }^{ k }{ Q(z=j)*\\log { \\frac { P(x,z;\\theta ) }{ Q(z=j) }  }  }  } $  \n",
    "上式中,Q为z的分布函数, 最后一步不等式, 使用了詹森不等式. 把$\\sum _{ j=1 }^{ k }{ Q(z=j)\\frac { P(x,z;\\theta ) }{ Q(z=j) }  } $看做一个分布的期望, 且$f=log$  \n",
    "( 2 ) 最终, 我们得出对数似然$l(\\theta )\\ge \\sum _{ i=1 }^{ m }{ \\sum _{ j=1 }^{ k }{ Q(z=j)*\\log { \\frac { P(x,z;\\theta ) }{ Q(z=j) }  }  }  } $. 该等式给出了$l(\\theta )$的下界.要使得对数似然最大化, 就应该把最后一步的Jessen不等式在等式下成立, 即$E\\left[ f(x) \\right] = f\\left( E[X] \\right) $, 所以$f\\left( x \\right) =c$, 得出$\\frac { P(x,z;\\theta ) }{ Q(z=j) } =c$. 得出如下推导:  \n",
    "&nbsp;&nbsp;&nbsp;&nbsp;$\\because \\sum _{ z }^{  }{ Q(z) } =1,\\quad 且\\frac { P(x,z;\\theta ) }{ Q(z=j) } =c\\\\ \\therefore \\sum _{ z }^{  }{ \\frac { P(x,z;\\theta ) }{ c }  } =1\\\\ \\therefore \\sum _{ z }^{  }{ P(x,z;\\theta ) } =c\\quad ,\\quad 代回式子\\frac { P(x,z;\\theta ) }{ Q(z=j) } =c有:\\\\ Q(z)=\\frac { P(x,z;\\theta ) }{ c } =\\frac { P(x,z;\\theta ) }{ \\sum _{ z }^{  }{ P(x,z;\\theta ) }  } =\\frac { P(x,z;\\theta ) }{ 某个样本在所有z取值下的全概率 } =\\frac { P(x,z;\\theta ) }{ P(x;\\theta ) } =p(z|x)$  \n",
    "即Q(z)为给定x后的z的后验概率  \n",
    "\n",
    "3. EM算法的步骤:  \n",
    "&nbsp;&nbsp;&nbsp;&nbsp;$Repeat\\quad until\\quad convergence\\{ \\\\ \\quad \\quad \\quad E-step\\quad :\\quad for\\quad each\\quad i,j\\quad 计算{ Q }_{ i }(z)=p(z=j|{ x }^{ i };\\theta )\\\\ \\quad \\quad \\quad M-step\\quad :\\quad 更新\\theta =\\underset { \\theta  }{ argmax } \\left[ \\sum _{ i=1 }^{ m }{ \\sum _{ j=1 }^{ k }{ Q(z=j)*\\log { \\frac { P(x,z;\\theta ) }{ Q(z=j) }  }  }  }  \\right] \\\\ \\} $\n",
    "\n",
    "\n",
    "### 二. 高斯混合\n",
    "1. 基本思路  \n",
    "给定样本$\\left\\{ { x }^{ (1) },{ x }^{ (2) }...{ x }^{ (m) } \\right\\} $,对其进行聚类.高斯混合假设样本的分布服从k个多元高斯分布, 认为存在一个潜在变量$Z$服从多项分布.即$p({ z }^{ (i) })={ \\phi  }_{ i }$, 因此对联合分布$p({ x }^{ (i) },{ z }^{ (i) })$进行建模. 该模型下, 每个样本都是在$Z$分别取到k个值的条件下的k个高斯分布产生的. 因此称作高斯混合  \n",
    "2. 多元高斯分布的概率密度函数  \n",
    "$\\frac { 1 }{ \\sqrt { { 2\\pi  }^{ n } } \\sqrt { |\\Sigma | }  } exp\\left[ -\\frac { 1 }{ 2 } { (x-\\mu ) }^{ T }{ \\Sigma  }^{ -1 }(x-\\mu ) \\right] $  \n",
    "3. 高斯混合的EM迭代步骤  \n",
    "( 1 )初始化k个高斯分布的均值,方差; 和潜在变量z的分布函数. 一般现在样本上使用k-means求出大致的中心点作为k个均值的坐标, 用k-means聚类的不同分布数据, 计算出各自的协方差矩阵.   \n",
    "( 2 )EM迭代    \n",
    " E-step:  \n",
    " &nbsp;&nbsp;&nbsp;&nbsp;for each i,j : ${ W }_{ j }^{ (i) }=p(z=j|{ x }^{ (i) };\\theta )=\\frac { p({ x }^{ (i) }|z=j)p(z=j) }{ \\sum _{ l=1 }^{ k }{ p({ x }^{ (i) }|z=l)p(z=l) }  } $  \n",
    "M-step :   \n",
    "&nbsp;&nbsp;&nbsp;&nbsp;$p(z):=\\frac { 1 }{ m } \\sum _{ i=1 }^{ m }{ { W }_{ j }^{ (i) } } ,\\\\ { \\mu  }_{ j }:=\\sum _{ i=1 }^{ m }{ { W }_{ j }^{ (i) }*{ x }^{ (i) } } /\\sum _{ i=1 }^{ m }{ { W }_{ j }^{ (i) } } \\\\ { \\Sigma  }_{ j }:=\\sum _{ i=1 }^{ m }{ { W }_{ j }^{ (i) }*{ (x }^{ (i) }-{ \\mu  }_{ j }){ { (x }^{ (i) }-{ \\mu  }_{ j }) }^{ T } } /\\sum _{ i=1 }^{ m }{ { W }_{ j }^{ (i) } } $\n",
    "\n",
    "\n"
   ]
  }
 ],
 "metadata": {
  "kernelspec": {
   "display_name": "Python 2",
   "language": "python",
   "name": "python2"
  },
  "language_info": {
   "codemirror_mode": {
    "name": "ipython",
    "version": 2
   },
   "file_extension": ".py",
   "mimetype": "text/x-python",
   "name": "python",
   "nbconvert_exporter": "python",
   "pygments_lexer": "ipython2",
   "version": "2.7.14"
  }
 },
 "nbformat": 4,
 "nbformat_minor": 2
}
