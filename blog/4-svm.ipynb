{
 "cells": [
  {
   "cell_type": "markdown",
   "metadata": {
    "collapsed": true
   },
   "source": [
    "### 一. 拉格朗日乘子\n",
    "\n",
    "#### 1. 最简单形式\n",
    "考虑这样一个问题, 要找到最大化函数$f\\left( { x }_{ 1 },{ x }_{ 2 } \\right) $时$x$的解, 并满足约束条件$g\\left( { x }_{ 1 },{ x }_{ 2 } \\right) =0$。  \n",
    "* 一种方法是 :   \n",
    " 将${ x }_{ 2 }$表示为${ x }_{ 1 }$的函数, 即${ x }_{ 2 }=h\\left( { x }_{ 1 } \\right) $, 带入方程求$f\\left( { x }_{ 1 },h\\left( { x }_{ 1 } \\right)  \\right) $的最大解. 这种方法的一个难点在于${ x }_{ 2 }$有时很难找到一个用${ x }_{ 1 }$显式表示的函数. 而且会破坏${ x }_{ 1 }$和${ x }_{ 2 }$的天然对称性  \n",
    "* 更优雅的方法 :   \n",
    " 将$g\\left( x \\right) =0$看做限制超平面, 其上面的点的梯度$\\nabla g\\left( x \\right) $与超平面正交. 且如果该限制平面上的点${ x }^{ * }$使得$f(x)$取得最大值, 则必满足$\\nabla g\\left( x \\right) $与$\\nabla f\\left( x \\right) $平行或逆向平行.(否则,沿限制超平面x移动一点距离就会使得$f(x)$增大一点). 有平行关系得出 : $$\\nabla f+\\lambda \\nabla g=0$$\n",
    " <img src=\"img/lagelangri1.PNG\" height=\"77%\" width=\"77%\">\n",
    " 由上述平行关系公式, 引入拉格朗日函数 : $$L\\left( x,\\lambda  \\right) \\equiv f\\left( x \\right) +\\lambda g\\left( x \\right) $$\n",
    " 该函数在$\\frac { \\partial L }{ \\partial x } =0$得到$\\nabla f+\\lambda \\nabla g=0$, 且在$\\frac { \\partial L }{ \\partial \\lambda  } =0$时得到限制超平面$g\\left( x \\right) =0$\n",
    " \n",
    "#### 2. 不等式条件下求解最大化函数\n",
    "到目前为止, 最大化函数$f(x)$是在等式约束条件$g(x)=0$下得出的, 如果约束条件为$g(x)\\succeq 0$时如何求解呢  \n",
    "此时求解分为2种情形 : \n",
    "* $g\\left( x \\right) >0$  \n",
    "这种情况下, 限制超平面$g(x)=0$不起作用, 解$x^*$只需满足$\\nabla f=0$. 仍使用拉格朗日函数表示$L\\left( x,\\lambda  \\right) \\equiv f\\left( x \\right) +\\lambda g\\left( x \\right) $, 但要求$\\lambda=0$\n",
    "* $g\\left( x \\right) =0$  \n",
    "这种情况下, 类比最简单情形的拉格朗日函数$L\\left( x,\\lambda  \\right) \\equiv f\\left( x \\right) +\\lambda g\\left( x \\right) $, 且$\\lambda \\neq 0$. 但要注意$\\lambda $的符号, 因为只有在梯度$\\nabla f$远离区域$g(x)>0$时, 函数$f(x)$才能取得最大值, 即$\\nabla f=-\\lambda \\nabla g$,且$\\lambda>0$  \n",
    "综合以上两种情形, 得出$\\lambda g\\left( x \\right) =0$. 将这个等式作为扩展条件, 得出求解最大化$f(x)$在$g\\left( x \\right) \\ge 0$约束下的3个条件$$\\begin{cases} g\\left( x \\right) \\ge 0 \\\\ \\lambda \\ge 0 \\\\ \\lambda g\\left( x \\right) =0 \\end{cases}$$称作KKT条件  \n",
    "需要注意, 若要最小化$f(x)$在$g\\left( x \\right) \\ge 0$约束下, 则拉格朗日函数变为$L\\left( x,\\lambda  \\right) \\equiv f\\left( x \\right) -\\lambda g\\left( x \\right) $,且$\\lambda \\ge 0$\n",
    "<img src=\"img/lagelangri2.PNG\" height=\"77%\" width=\"77%\">"
   ]
  },
  {
   "cell_type": "markdown",
   "metadata": {},
   "source": [
    "### 二. 最大间隔分类器\n",
    "1. margin  \n",
    "先从最简单的情形开始, 使用线性超平面进行二分类, 超平面为$$y\\left( x \\right) ={ W }^{ T }\\phi \\left( x \\right) +b$$其中$\\phi \\left( x \\right) $代表特征组合转换后的特征空间, 且显式的加上了偏差项$b$. 训练样本的标签集为$\\{-1,1\\}$; 预测新样本的标签需要判断$y(x)$的符号.  \n",
    "SVM规定, 决策边界到任何样本的最小距离为margin, 而SVM需要找到使margin最大时的参数求解"
   ]
  },
  {
   "cell_type": "markdown",
   "metadata": {},
   "source": [
    "2. 距离  \n",
    "符号$t_n$表示样本的标签, $y(x_n)$表示预测值. 假定所有样本均被正确分类, 则对于所有样本有${ t }_{ n }y\\left( { x }_{ n } \\right) >0$  \n",
    "规定样本点到超平面的距离为$$\\frac { { t }_{ n }y\\left( { x }_{ n } \\right)  }{ \\parallel w\\parallel  } =\\frac { { t }_{ n }\\left( { W }^{ T }\\phi \\left( x \\right) +b \\right)  }{ \\parallel w\\parallel  } , \\quad \\quad 因为{ t }_{ n }只能是1或-1, 所以分子在保证永远为正的情况下绝对值不变$$\n",
    "因此, 最大化margin的问题变成解决如下函数$$\\underset { w,b }{ argmax } \\left\\{ \\frac { 1 }{ \\parallel w\\parallel  } \\underset { n }{ min } \\left[ { t }_{ n }\\left( { W }^{ T }\\phi \\left( x \\right) +b \\right)  \\right]  \\right\\} $$"
   ]
  },
  {
   "cell_type": "code",
   "execution_count": null,
   "metadata": {},
   "outputs": [],
   "source": []
  }
 ],
 "metadata": {
  "kernelspec": {
   "display_name": "Python 3",
   "language": "python",
   "name": "python3"
  },
  "language_info": {
   "codemirror_mode": {
    "name": "ipython",
    "version": 3
   },
   "file_extension": ".py",
   "mimetype": "text/x-python",
   "name": "python",
   "nbconvert_exporter": "python",
   "pygments_lexer": "ipython3",
   "version": "3.6.5"
  }
 },
 "nbformat": 4,
 "nbformat_minor": 1
}
