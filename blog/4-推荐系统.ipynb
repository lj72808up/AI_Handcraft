{
 "cells": [
  {
   "cell_type": "markdown",
   "metadata": {
    "collapsed": true
   },
   "source": [
    "## 电影推荐系统\n",
    "\n",
    "### 一. 基于内容的推荐系统\n",
    "1. 所谓推荐,就是通过机器学习,对用户没有看过的电影,给出一个可能的评分.当这个评分大于一个阈值时,就推荐给用户.\n",
    "2. 因此,想到通过用户给其他电影的评分,和电影的feature找到每个用户专属的线性回归.然后预测新电影的评分.  \n",
    "当然这要求电影的每个feature都是已知的(比如:电影的动作成分占比,爱情成分占比)\n",
    "3. 但是往往这些电影的特征我们一开始并不知道,这时就无法简单的使用内容推荐系统,因此有了如下的协同过滤算法,来自动学习每个电影的feature"
   ]
  },
  {
   "cell_type": "markdown",
   "metadata": {},
   "source": [
    "### 二. 协同过滤算法\n",
    "\n",
    "1. 由于我们不知道电影的feature,所以我们转而取调查用户.我们可以询问用户对动作类,爱情类电影的喜好程度.假设一个电影名字叫\"love forever\",我们找到所有对该电影的评分,并找到给出评分的每个人对不同类型电影的喜好程度,一次来训练一个线性回归,找到这部电影的feature(动作占比,爱情占比)\n",
    "2. 通过上面的方法学习到电影的feature后,再根据基于内容的方法重新计算每个用户的口味偏好,预测电影评分.这有点像先有蛋还是先有鸡的问题.因此,我们可以一上来就假设一组参数$\\theta$表示用户口味偏好,通过线性回归计算出电影的feature向量$x$,此后在根据$x$学习每个用户的口味偏好$\\theta$,经过不断交替学习,最终收敛到一个合适的$\\theta$和$x$\n",
    "3. 然而,以上的交替学习$\\theta$和$x$方法,并不高效.我们需要一种能够一起计算出$\\theta$(用户口味偏好)和$x$电影类型占比的协同过滤.  \n",
    "想要同时学习$\\theta$和$x$,只要把$\\theta$和$x$一起写入cost function,对所有的$\\theta$和$x$同时进行梯度下降,新的cost function为:   \n",
    "我们使用${ n }_{ u }$表示用户数量,${ n }_{ m }$表示电影数量,则优化函数为:  \n",
    "$J(\\theta ;x)=\\frac { 1 }{ 2 } \\sum _{ i=1 }^{ { n }_{ u } }{ \\sum _{ j=1 }^{ { n }_{ m } }{ { ({ \\theta  }_{ j }^{ (i) }{ x }^{ (i) }-{ y }_{ j }^{ (i) }) }^{ 2 } }  } +\\frac { \\lambda  }{ 2 } \\sum _{ i=1 }^{ { n }_{ u } }{ \\sum _{ j=1 }^{ { n }_{ m } }{ { ({ x }_{ j }^{ (i) }) }^{ 2 } }  } +\\frac { \\lambda  }{ 2 } \\sum _{ i=1 }^{ { n }_{ u } }{ \\sum _{ j=1 }^{ { n }_{ m } }{ { ({ \\theta  }_{ j }^{ (i) }) }^{ 2 } }  } $  \n",
    "因此在后面求偏导时,$x$的偏导不包含$\\theta$,而$\\theta$的偏导不包含$x$\n"
   ]
  }
 ],
 "metadata": {
  "kernelspec": {
   "display_name": "Python 2",
   "language": "python",
   "name": "python2"
  },
  "language_info": {
   "codemirror_mode": {
    "name": "ipython",
    "version": 2
   },
   "file_extension": ".py",
   "mimetype": "text/x-python",
   "name": "python",
   "nbconvert_exporter": "python",
   "pygments_lexer": "ipython2",
   "version": "2.7.14"
  }
 },
 "nbformat": 4,
 "nbformat_minor": 1
}
