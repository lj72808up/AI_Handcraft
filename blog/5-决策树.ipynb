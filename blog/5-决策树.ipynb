{
 "cells": [
  {
   "cell_type": "markdown",
   "metadata": {},
   "source": [
    "# 决策树\n",
    "------------\n",
    "1. 何为决策树  \n",
    "( 1 ) 决策树是基于树结构进行决策的，这恰是人类面临决策问题时的一种自然处理机制。决策过程的每个判定问题是对某个属性的\"测试\"。 \n",
    "( 2 ) 决策树由节点和有向边组成. 节点有两种类型: 内部节点和叶节点. 内部节点表示一个特征和属性,叶节点表示一个分类  \n",
    "( 3 ) 决策树本质上是从训练集中归纳出一个基于属性的分类规则. 与训练集不矛盾的决策树可能有多个,也可能一个没有. 我们需要找到一个与训练集矛盾最小的决策树, 同时具有很好的泛化能力.  \n",
    "( 4 ) 从损失函数的角度看问题: 决策树的损失函数通常是正则化的极大似然函数. 决策树的策略是以损失函数为目标函数的最小化问题. 而这个问题是一个NP完全问题 (指解决一个问题, 没有一个公式可以直接求出, 只能通过间接猜想来求解, 然后告诉你这个猜想结果是正确还是错误的). 现实中的决策树学习算法通常采用启发式近似求解, 这样得到的决策树是次最优的. 常用的ID3,C4.5,CART就是解决了决策树的特征选择,决策树的生成和剪枝过程.\n",
    "\n",
    "2. "
   ]
  },
  {
   "cell_type": "code",
   "execution_count": null,
   "metadata": {},
   "outputs": [],
   "source": []
  }
 ],
 "metadata": {
  "kernelspec": {
   "display_name": "Python 2",
   "language": "python",
   "name": "python2"
  },
  "language_info": {
   "codemirror_mode": {
    "name": "ipython",
    "version": 2
   },
   "file_extension": ".py",
   "mimetype": "text/x-python",
   "name": "python",
   "nbconvert_exporter": "python",
   "pygments_lexer": "ipython2",
   "version": "2.7.14"
  }
 },
 "nbformat": 4,
 "nbformat_minor": 2
}
