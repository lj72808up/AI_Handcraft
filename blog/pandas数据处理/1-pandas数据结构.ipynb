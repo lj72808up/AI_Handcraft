{
 "cells": [
  {
   "cell_type": "code",
   "execution_count": 1,
   "metadata": {
    "collapsed": true
   },
   "outputs": [],
   "source": [
    "import pandas as pd\n",
    "from pandas import Series\n",
    "from pandas import DataFrame\n",
    "import numpy as np"
   ]
  },
  {
   "cell_type": "markdown",
   "metadata": {},
   "source": [
    "pandas基于numpy的数组结构创建的, 虽然保留了numpy的数组操作, 但其主要任务为处理表格和混杂数据\n",
    "\n",
    "### 1.1 Series\n",
    "#### 1. Series结构 = index + 一维数组.  \n",
    "  1. index获取 : Series.index属性  \n",
    "    1. 创建Series时, 若没有指定index, 则默认添加从0开始递增1的索引\n",
    "    2. 若想创建Series时指定索引, 可以使用Series(values,index=[..])\n",
    "  2. 一维数组获取 : Series.values属性  \n"
   ]
  },
  {
   "cell_type": "code",
   "execution_count": 2,
   "metadata": {},
   "outputs": [
    {
     "name": "stdout",
     "output_type": "stream",
     "text": [
      "0    1\n",
      "1    3\n",
      "2    2\n",
      "3    5\n",
      "dtype: int64\n",
      "=============[1]============\n",
      "RangeIndex(start=0, stop=4, step=1)\n",
      "[1 3 2 5]\n",
      "=============[2]============\n"
     ]
    },
    {
     "data": {
      "text/plain": [
       "Index([u'a', u'b', u'c', u'd'], dtype='object')"
      ]
     },
     "execution_count": 2,
     "metadata": {},
     "output_type": "execute_result"
    }
   ],
   "source": [
    "obj = Series([1,3,2,5])\n",
    "# Series显示 : 左侧为index,右侧为一维数组\n",
    "print obj  \n",
    "print \"=============[1]============\"\n",
    "print obj.index\n",
    "print obj.values\n",
    "print \"=============[2]============\"\n",
    "# 创建带index的Series\n",
    "obj = Series([1,2,3,4],index=['a','b','c','d'])\n",
    "obj.index"
   ]
  },
  {
   "cell_type": "markdown",
   "metadata": {},
   "source": [
    "#### 2. 与numpy不同, pandas可以通过索引选取元素  \n",
    "  1. 使用Series[index]选取元素\n",
    "  2. 使用Series[index] = newVal更新元素值\n",
    "  3. 使用Series[[index1,index2..]]选取多个元素, 返回一个新的Series(index不变)\n",
    "  3. 使用numpy的数组函数会保留Series的index. 仍返回Series"
   ]
  },
  {
   "cell_type": "code",
   "execution_count": 3,
   "metadata": {},
   "outputs": [
    {
     "name": "stdout",
     "output_type": "stream",
     "text": [
      "obj[a] = 1\n",
      "=============[1]============\n",
      "a     1\n",
      "b    99\n",
      "dtype: int64\n",
      "========numpy的数组函数不改变Series的index=======\n"
     ]
    },
    {
     "data": {
      "text/plain": [
       "a    2.718282e+00\n",
       "b    9.889030e+42\n",
       "dtype: float64"
      ]
     },
     "execution_count": 3,
     "metadata": {},
     "output_type": "execute_result"
    }
   ],
   "source": [
    "print \"obj[a] = %s\" % obj['a']\n",
    "print \"=============[1]============\"\n",
    "obj2 = obj[['a','b']]\n",
    "obj2['b'] = 99\n",
    "print obj2\n",
    "print \"========numpy的数组函数不改变Series的index=======\"\n",
    "np.exp(obj2)"
   ]
  },
  {
   "cell_type": "markdown",
   "metadata": {},
   "source": [
    "#### 3. Series与字典\n",
    "1. 可以看做一个定长有序字典, 因为他是多对(index->value)的映射. 因此Series可以使用大部分字典函数\n",
    "2. 可以通过字典直接创建Series. 字典为(rowIdx->value)\n",
    "3. 仅通过字典创建的Series, 其元素自动按照字典的key进行排列.若创建Series时指定index的顺序, 则Series元素按照index的顺序排序\n",
    "4. 可以使用pandas的isnull判断Series的字典中的value是否为NaN数据 (空数据)"
   ]
  },
  {
   "cell_type": "code",
   "execution_count": 4,
   "metadata": {},
   "outputs": [
    {
     "name": "stdout",
     "output_type": "stream",
     "text": [
      "True\n",
      "{'a': 1, 'c': 7, 'b': 5, 'd': 9}\n",
      "a    1\n",
      "b    5\n",
      "c    7\n",
      "d    9\n",
      "dtype: int64\n",
      "=============[1]============\n",
      "b    5\n",
      "a    1\n",
      "c    7\n",
      "d    9\n",
      "dtype: int64\n",
      "=============[2]============\n",
      "b    False\n",
      "a    False\n",
      "c    False\n",
      "d    False\n",
      "dtype: bool\n"
     ]
    }
   ],
   "source": [
    "# 使用字典函数操作Series\n",
    "print ('a' in obj)\n",
    "# 通过字典直接创建Series\n",
    "data = {'d':9,'b':5,'c':7,'a':1}\n",
    "obj = Series(data)  # 自动排列\n",
    "print data\n",
    "print obj\n",
    "print \"=============[1]============\"\n",
    "obj = Series(data,index=['b','a','c','d'])\n",
    "print obj\n",
    "print \"=============[2]============\"\n",
    "print pd.isnull(obj) # value是否为NaN"
   ]
  },
  {
   "cell_type": "markdown",
   "metadata": {},
   "source": [
    "#### 4. Series的一些其他概念\n",
    "1. Series之间进行数据运算时, 会按照index对齐数据\n",
    "2. Series自身和其index对象, 都有name属性, 该属性和其他关键功能密切相关\n",
    "3. Series的index可以通过赋值而改变"
   ]
  },
  {
   "cell_type": "code",
   "execution_count": 5,
   "metadata": {},
   "outputs": [
    {
     "name": "stdout",
     "output_type": "stream",
     "text": [
      "a    2.0\n",
      "b    3.0\n",
      "c    4.0\n",
      "d    NaN\n",
      "e    NaN\n",
      "dtype: float64\n",
      "=============[1]============\n",
      "state\n",
      "a    1\n",
      "b    1\n",
      "c    1\n",
      "d    1\n",
      "Name: population, dtype: int64\n",
      "=============[2]============\n",
      "aa    1\n",
      "bb    1\n",
      "cc    1\n",
      "dd    1\n",
      "Name: population, dtype: int64\n"
     ]
    }
   ],
   "source": [
    "# index对齐数据\n",
    "obj1 = Series([1,1,1,1],index=[\"a\",\"b\",\"c\",\"d\"])\n",
    "obj2 = Series([1,2,3,4],index=[\"a\",\"b\",\"c\",\"e\"])\n",
    "print obj1+obj2\n",
    "print \"=============[1]============\"\n",
    "# name属性\n",
    "obj1.name = \"population\"\n",
    "obj1.index.name = \"state\"\n",
    "print obj1\n",
    "print \"=============[2]============\"\n",
    "# index改变\n",
    "obj1.index = ['aa','bb','cc','dd']\n",
    "print obj1"
   ]
  },
  {
   "cell_type": "markdown",
   "metadata": {},
   "source": [
    "## 1.2 DataFrame\n",
    "\n",
    "#### 1. DataFrame基本概念\n",
    "1. 一个DataFrame就是一个表格.由一组Series组成. 这些Series长度相同, 且共用一个索引\n",
    "2. DataFrame也可看做Series组成的字典,字典形式为(columnIdx->Series)\n",
    "3. DataFrame有航索引和列索引\n",
    "\n",
    "#### 2. DataFrame创建\n",
    "1. DataFrame也可以看做一个字典, 其字典形式为(columnIdx,一维数组).因此可以通过字典创建DataFrame, \n",
    "2. 若创建时同时指定了字典和columnIdx, 则会按照columnIdx的顺序构造DataFrame.   \n",
    " 若columnIdx中包含字典中不存在的key, 则DataFrame这列值为NaN"
   ]
  },
  {
   "cell_type": "code",
   "execution_count": 6,
   "metadata": {},
   "outputs": [
    {
     "name": "stdout",
     "output_type": "stream",
     "text": [
      "   age      name\n",
      "0   22  zhangsan\n",
      "1   27      lisi\n",
      "2   25    wangwu\n",
      "=============[1]============\n",
      "   age      name score\n",
      "0   22  zhangsan   NaN\n",
      "1   27      lisi   NaN\n",
      "2   25    wangwu   NaN\n"
     ]
    }
   ],
   "source": [
    "data = {'name':['zhangsan','lisi','wangwu'],\n",
    "       'age':[22,27,25]}\n",
    "df = DataFrame(data)\n",
    "print df\n",
    "print (\"=============[1]============\")\n",
    "df2 = DataFrame(data,columns=['age','name','score'])\n",
    "print df2"
   ]
  },
  {
   "cell_type": "markdown",
   "metadata": {},
   "source": [
    "#### 3. DataFrame元素选取\n",
    "1. 通过DataFrame对应字典的key,选取一维数组. 返回Series\n",
    "2. DataFrame对应字典的key已经作为DataFrame的属性存在. 因此可以通过DataFrame.\"key name\"选取一维数组Series\n",
    "[注]: 无论哪种方式选取DataFrame中的Series, 返回的Series都和DataFrame有相同的索引(但不共用)"
   ]
  },
  {
   "cell_type": "code",
   "execution_count": 7,
   "metadata": {},
   "outputs": [
    {
     "name": "stdout",
     "output_type": "stream",
     "text": [
      "0    22\n",
      "1    27\n",
      "2    25\n",
      "Name: age, dtype: int64\n",
      "=============[1]============\n",
      "0    22\n",
      "1    27\n",
      "2    25\n",
      "Name: age, dtype: int64\n"
     ]
    }
   ],
   "source": [
    "print df['age']\n",
    "print (\"=============[1]============\")\n",
    "obj = df.age\n",
    "print obj"
   ]
  },
  {
   "cell_type": "markdown",
   "metadata": {},
   "source": [
    "#### 4. 通过赋值方式更新DataFrame的Series\n",
    "1. 指定DataFrame的某列Series为一个标量, 则该Series的所有元素值都等于这个标量值\n",
    "2. 指定DataFrame的某列Series为一个新的Series, 则这两个Series之间的rowindex会一一对应进行匹配\n",
    "3. del关键字可以物理删除DataFrame的一个Series\n",
    "4. 通过DataFrame['newColumnIdx']添加一个新的Series"
   ]
  },
  {
   "cell_type": "code",
   "execution_count": 8,
   "metadata": {},
   "outputs": [
    {
     "name": "stdout",
     "output_type": "stream",
     "text": [
      "   age      name  score\n",
      "0   22  zhangsan    100\n",
      "1   27      lisi    100\n",
      "2   25    wangwu    100\n",
      "==============[1]============\n",
      "   age      name  score\n",
      "0   22  zhangsan     99\n",
      "1   27      lisi    100\n",
      "2   25    wangwu     98\n",
      "==============[2]============\n",
      "   age      name\n",
      "0   22  zhangsan\n",
      "1   27      lisi\n",
      "2   25    wangwu\n",
      "==============[3]============\n",
      "   age      name  ageBool\n",
      "0   22  zhangsan    False\n",
      "1   27      lisi     True\n",
      "2   25    wangwu    False\n"
     ]
    }
   ],
   "source": [
    "df2['score'] = 100\n",
    "print df2\n",
    "print (\"==============[1]============\")\n",
    "df2['score'] = Series([99,100,98])\n",
    "print df2\n",
    "print (\"==============[2]============\")\n",
    "del df2['score']\n",
    "print df2\n",
    "print (\"==============[3]============\")\n",
    "df2['ageBool'] = df2['age']>25\n",
    "print df2"
   ]
  },
  {
   "cell_type": "markdown",
   "metadata": {},
   "source": [
    "#### 5. DataFrame的其他概念\n",
    "1. DataFrame的创建方式有很多种, 例如\n",
    "  1. DataFrame(二维ndArray)\n",
    "  2. DataFrame(dict('columnIdx'->List))\n",
    "  3. DataFrame(dict('columnIdx'->Series))\n",
    "  4. DataFrame(dict('columnIdx'->dict('rowIdx'->标量值) ))\n",
    "2. DataFrame的index和columns都由name属性"
   ]
  },
  {
   "cell_type": "markdown",
   "metadata": {
    "collapsed": true
   },
   "source": [
    "### 1.3 索引对象\n",
    "#### 1. Index对象的基本概念\n",
    "1. Index对象是不可变的, 因此可以再多个数据结构中共享Index对象. 使用pd.Index([数组])创建索引对象\n",
    "2. Index对象类似固定大小的集合. 可使用关键字in查看集合中是否有某个元素\n",
    "3. pandas的Index和python的集合不同, Index中可以包含重复数据"
   ]
  },
  {
   "cell_type": "code",
   "execution_count": 16,
   "metadata": {},
   "outputs": [
    {
     "name": "stdout",
     "output_type": "stream",
     "text": [
      "True\n",
      "False\n",
      "==============[1]============\n",
      "a    0\n",
      "a    1\n",
      "b    2\n",
      "c    3\n",
      "dtype: int64\n"
     ]
    }
   ],
   "source": [
    "labels = pd.Index(range(0,3))\n",
    "obj = Series([99,98,100],index=labels)\n",
    "obj2 = DataFrame({'a':[1,2,3],'b':[4,4,4]},index=labels)\n",
    "# is关键字: 判断id(obj1)和id(obj2)是否相等\n",
    "# ==:判断2两对象的value是否相等\n",
    "print obj.index is obj2.index\n",
    "print 4 in labels\n",
    "print (\"==============[1]============\")\n",
    "# Index包含重复数据\n",
    "labels = pd.Index(['a','a','b','c'])\n",
    "obj1 = Series(range(0,4),index=labels)\n",
    "print obj1"
   ]
  },
  {
   "cell_type": "markdown",
   "metadata": {},
   "source": [
    "#### 2. 重建索引reindex : 使用新的索引来重构数据, 并可指定原先不包含的索引对应数据的填充策略 \n",
    "1. Series的数据可以通过重建索引来重排数据 (返回新对象)\n",
    "2. 指定原先不包含的索引对应数据的填充策略, 包括: ffill(front向前填充,直到填充到下一个有值的地方),bfill(backword向后填充,知道下一个有值得地方)  \n",
    "3. DataFrame重建索引默认为行索引,重建列索引需要声明columns=[newIndex]"
   ]
  },
  {
   "cell_type": "code",
   "execution_count": 36,
   "metadata": {},
   "outputs": [
    {
     "name": "stdout",
     "output_type": "stream",
     "text": [
      "0    a\n",
      "1    a\n",
      "2    a\n",
      "3    b\n",
      "4    b\n",
      "5    c\n",
      "dtype: object\n",
      "   apple  orange  banana\n",
      "c    6.0     7.0     8.0\n",
      "b    3.0     4.0     5.0\n",
      "d    NaN     NaN     NaN\n"
     ]
    },
    {
     "data": {
      "text/html": [
       "<div>\n",
       "<style>\n",
       "    .dataframe thead tr:only-child th {\n",
       "        text-align: right;\n",
       "    }\n",
       "\n",
       "    .dataframe thead th {\n",
       "        text-align: left;\n",
       "    }\n",
       "\n",
       "    .dataframe tbody tr th {\n",
       "        vertical-align: top;\n",
       "    }\n",
       "</style>\n",
       "<table border=\"1\" class=\"dataframe\">\n",
       "  <thead>\n",
       "    <tr style=\"text-align: right;\">\n",
       "      <th></th>\n",
       "      <th>apple</th>\n",
       "      <th>banana</th>\n",
       "      <th>xixi</th>\n",
       "    </tr>\n",
       "  </thead>\n",
       "  <tbody>\n",
       "    <tr>\n",
       "      <th>a</th>\n",
       "      <td>0</td>\n",
       "      <td>2</td>\n",
       "      <td>NaN</td>\n",
       "    </tr>\n",
       "    <tr>\n",
       "      <th>b</th>\n",
       "      <td>3</td>\n",
       "      <td>5</td>\n",
       "      <td>NaN</td>\n",
       "    </tr>\n",
       "    <tr>\n",
       "      <th>c</th>\n",
       "      <td>6</td>\n",
       "      <td>8</td>\n",
       "      <td>NaN</td>\n",
       "    </tr>\n",
       "  </tbody>\n",
       "</table>\n",
       "</div>"
      ],
      "text/plain": [
       "   apple  banana  xixi\n",
       "a      0       2   NaN\n",
       "b      3       5   NaN\n",
       "c      6       8   NaN"
      ]
     },
     "execution_count": 36,
     "metadata": {},
     "output_type": "execute_result"
    }
   ],
   "source": [
    "# 1. 重排数据\n",
    "obj = Series([2,3,1,4],index=['b','c','a','d'])\n",
    "obj2 = obj.reindex(['a','b','c','d','e'])\n",
    "obj2\n",
    "# 2. 填充缺失索引对应的数值\n",
    "obj = Series(['a','b','c'],index=[2,4,6])\n",
    "obj2 = obj.reindex(range(0,6),method='bfill')\n",
    "print obj2\n",
    "# 3. DataFrame重建索引\n",
    "df = DataFrame(np.arange(0,9).reshape(3,3),index=['a','b','c'],columns=['apple','orange','banana'])\n",
    "df2 = df.reindex(['c','b','d'])\n",
    "print df2\n",
    "df3 = df.reindex(columns=['apple','banana','xixi'])\n",
    "df3"
   ]
  },
  {
   "cell_type": "markdown",
   "metadata": {},
   "source": [
    "#### 3. 删除指定索引上的一行或一列数据\n",
    "1. Series和DataFrame都由drop方法, 使用时指定一个索引名/索引数组即可  \n",
    " DataFrame根据索引删除行/列时, axis=0为行, axis=1为列\n"
   ]
  },
  {
   "cell_type": "code",
   "execution_count": 44,
   "metadata": {},
   "outputs": [
    {
     "name": "stdout",
     "output_type": "stream",
     "text": [
      "b    1\n",
      "c    2\n",
      "d    3\n",
      "e    4\n",
      "dtype: int64\n"
     ]
    },
    {
     "data": {
      "text/html": [
       "<div>\n",
       "<style>\n",
       "    .dataframe thead tr:only-child th {\n",
       "        text-align: right;\n",
       "    }\n",
       "\n",
       "    .dataframe thead th {\n",
       "        text-align: left;\n",
       "    }\n",
       "\n",
       "    .dataframe tbody tr th {\n",
       "        vertical-align: top;\n",
       "    }\n",
       "</style>\n",
       "<table border=\"1\" class=\"dataframe\">\n",
       "  <thead>\n",
       "    <tr style=\"text-align: right;\">\n",
       "      <th></th>\n",
       "      <th>orange</th>\n",
       "    </tr>\n",
       "  </thead>\n",
       "  <tbody>\n",
       "    <tr>\n",
       "      <th>a</th>\n",
       "      <td>1</td>\n",
       "    </tr>\n",
       "    <tr>\n",
       "      <th>b</th>\n",
       "      <td>4</td>\n",
       "    </tr>\n",
       "    <tr>\n",
       "      <th>c</th>\n",
       "      <td>7</td>\n",
       "    </tr>\n",
       "  </tbody>\n",
       "</table>\n",
       "</div>"
      ],
      "text/plain": [
       "   orange\n",
       "a       1\n",
       "b       4\n",
       "c       7"
      ]
     },
     "execution_count": 44,
     "metadata": {},
     "output_type": "execute_result"
    }
   ],
   "source": [
    "obj = Series(np.arange(0,5),index=['a','b','c','d','e'])\n",
    "obj2 = obj.drop('a')\n",
    "print obj2\n",
    "# DataFrame.drop(indexName) : axis=1为列,axis=0为行\n",
    "df = DataFrame(np.arange(0,9).reshape(3,3),index=['a','b','c'],columns=['apple','orange','banana'])\n",
    "df2 = df.drop(['apple','banana'],axis=1)\n",
    "df2"
   ]
  },
  {
   "cell_type": "markdown",
   "metadata": {},
   "source": [
    "#### 4. 选取索引上的数据\n",
    "1. 无论是Series还是DataFrame都能通过loc[],iloc[]来选取数据. loc按\"索引值\"选取, iloc按\"索引序号\"选取\n",
    "2. 条件选取: 通常会根据一个where条件选取DataFrame中的某些行, pandas的实现逻辑分两种情况:  \n",
    "  1. bool型Series作索引\n",
    "    1. 将一个bool型Series,放到DataFrame的索引数组中进行选取. DataFrame只选取Series中value=True的索引\n",
    "    2. 这些value=True的索引可供下一步进行索引选取\n",
    "  2. bool型DataFrame做索引\n",
    "    1. 将这个bool型DataFrame中为True元素的(rowIdx,columnIdx)作为组合去选取数据"
   ]
  },
  {
   "cell_type": "code",
   "execution_count": 82,
   "metadata": {},
   "outputs": [
    {
     "name": "stdout",
     "output_type": "stream",
     "text": [
      "   apple  orange  banana\n",
      "a      0       1       2\n",
      "b      3       4       5\n",
      "c      6       7       8\n",
      "==============[1]============\n",
      "a    0\n",
      "b    3\n",
      "c    6\n",
      "Name: apple, dtype: int64\n",
      "a    0\n",
      "b    3\n",
      "c    6\n",
      "Name: apple, dtype: int64\n",
      "==============[2]============\n",
      "   apple  orange  banana\n",
      "b      3       4       5\n",
      "c      6       7       8\n",
      "==============[3]============\n"
     ]
    },
    {
     "data": {
      "text/plain": [
       "apple     True\n",
       "orange    True\n",
       "banana    True\n",
       "Name: a, dtype: bool"
      ]
     },
     "execution_count": 82,
     "metadata": {},
     "output_type": "execute_result"
    }
   ],
   "source": [
    "df = DataFrame(np.arange(0,9).reshape(3,3),index=['a','b','c'],columns=['apple','orange','banana'])\n",
    "print df\n",
    "print (\"==============[1]============\")\n",
    "# 下述选取方式等价\n",
    "print df.loc[:,'apple']\n",
    "print df.iloc[:,0]\n",
    "print (\"==============[2]============\")\n",
    "# 选取df中apple列大于1的所有行\n",
    "print df.loc[df.apple>1,:]"
   ]
  },
  {
   "cell_type": "markdown",
   "metadata": {},
   "source": [
    "#### 4. iloc和loc在索引值为整数情况下的小歧义\n",
    "1. iloc由于是根据索引序号选取, 所以是[a,b)区间的选取  \n",
    " loc是索引值得选取, 所以为[a,b]区间的索引.  \n",
    " 此时, 当索引值也为整数时, 就要格外小心, 选取的行/列是否包含最后一个值"
   ]
  },
  {
   "cell_type": "code",
   "execution_count": 89,
   "metadata": {},
   "outputs": [
    {
     "name": "stdout",
     "output_type": "stream",
     "text": [
      "0    0\n",
      "Name: 0, dtype: int64\n",
      "0    0\n",
      "1    3\n",
      "Name: 0, dtype: int64\n"
     ]
    }
   ],
   "source": [
    "df = DataFrame(np.arange(0,9).reshape(3,3))\n",
    "print df.iloc[:1,0] # 只有rowIdx=0的行\n",
    "print df.loc[:1,0] # 有rowIdx=0和1的两行"
   ]
  },
  {
   "cell_type": "markdown",
   "metadata": {},
   "source": [
    "### 1.4 pandas的数据对齐\n",
    "1. pandas的Series之间/DataFrame之间进行算术运算时, 需要对齐两个Series/DataFrame的索引再进行元素之间运算  \n",
    " 如果存在没有对其的索引, 就会将值设置为缺失值NaN\n",
    "2. 对于没对齐的索引, 所以通过设置fill_value属性, 填充双方没对齐的元素的缺省值(对df1,df2都成立)"
   ]
  },
  {
   "cell_type": "code",
   "execution_count": 98,
   "metadata": {},
   "outputs": [
    {
     "name": "stdout",
     "output_type": "stream",
     "text": [
      "   a  b  c\n",
      "0  0  1  2\n",
      "1  3  4  5\n",
      "2  6  7  8\n",
      "   b  c  d\n",
      "0  0  1  2\n",
      "1  3  4  5\n",
      "2  6  7  8\n",
      "==============[1]============\n",
      "    a   b   c   d\n",
      "0 NaN   1   3 NaN\n",
      "1 NaN   7   9 NaN\n",
      "2 NaN  13  15 NaN\n",
      "     a   b   c    d\n",
      "0  0.0   1   3  2.0\n",
      "1  3.0   7   9  5.0\n",
      "2  6.0  13  15  8.0\n"
     ]
    }
   ],
   "source": [
    "df1 = DataFrame(np.arange(0,9).reshape(3,3),columns=list('abc'))\n",
    "print df1\n",
    "df2 = DataFrame(np.arange(0,9).reshape(3,3),columns=list('bcd'))\n",
    "print df2\n",
    "print \"==============[1]============\"\n",
    "# 对df1的缺失索引元素与df2的缺失索引元素都填充0\n",
    "print df1 + df2\n",
    "print df1.add(df2,fill_value=0)"
   ]
  },
  {
   "cell_type": "code",
   "execution_count": null,
   "metadata": {
    "collapsed": true
   },
   "outputs": [],
   "source": []
  }
 ],
 "metadata": {
  "kernelspec": {
   "display_name": "Python 2",
   "language": "python",
   "name": "python2"
  },
  "language_info": {
   "codemirror_mode": {
    "name": "ipython",
    "version": 2
   },
   "file_extension": ".py",
   "mimetype": "text/x-python",
   "name": "python",
   "nbconvert_exporter": "python",
   "pygments_lexer": "ipython2",
   "version": "2.7.14"
  }
 },
 "nbformat": 4,
 "nbformat_minor": 2
}
