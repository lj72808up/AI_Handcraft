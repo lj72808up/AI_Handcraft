{
 "cells": [
  {
   "cell_type": "code",
   "execution_count": 2,
   "metadata": {
    "collapsed": true
   },
   "outputs": [],
   "source": [
    "import pandas as pd\n",
    "from pandas import Series\n",
    "from pandas import DataFrame\n",
    "import numpy as np"
   ]
  },
  {
   "cell_type": "markdown",
   "metadata": {},
   "source": [
    "pandas基于numpy的数组结构创建的, 虽然保留了numpy的数组操作, 但其主要任务为处理表格和混杂数据\n",
    "\n",
    "### 1.1 Series\n",
    "#### 1. Series结构 = index + 一维数组.  \n",
    "  1. index获取 : Series.index属性  \n",
    "    1. 创建Series时, 若没有指定index, 则默认添加从0开始递增1的索引\n",
    "    2. 若想创建Series时指定索引, 可以使用Series(values,index=[..])\n",
    "  2. 一维数组获取 : Series.values属性  \n"
   ]
  },
  {
   "cell_type": "code",
   "execution_count": 3,
   "metadata": {},
   "outputs": [
    {
     "name": "stdout",
     "output_type": "stream",
     "text": [
      "0    1\n",
      "1    3\n",
      "2    2\n",
      "3    5\n",
      "dtype: int64\n",
      "=============[1]============\n",
      "RangeIndex(start=0, stop=4, step=1)\n",
      "[1 3 2 5]\n",
      "=============[2]============\n"
     ]
    },
    {
     "data": {
      "text/plain": [
       "Index([u'a', u'b', u'c', u'd'], dtype='object')"
      ]
     },
     "execution_count": 3,
     "metadata": {},
     "output_type": "execute_result"
    }
   ],
   "source": [
    "obj = Series([1,3,2,5])\n",
    "# Series显示 : 左侧为index,右侧为一维数组\n",
    "print obj  \n",
    "print \"=============[1]============\"\n",
    "print obj.index\n",
    "print obj.values\n",
    "print \"=============[2]============\"\n",
    "# 创建带index的Series\n",
    "obj = Series([1,2,3,4],index=['a','b','c','d'])\n",
    "obj.index"
   ]
  },
  {
   "cell_type": "markdown",
   "metadata": {},
   "source": [
    "#### 2. 与numpy不同, pandas可以通过索引选取元素  \n",
    "  1. 使用Series[index]选取元素\n",
    "  2. 使用Series[index] = newVal更新元素值\n",
    "  3. 使用Series[[index1,index2..]]选取多个元素, 返回一个新的Series(index不变)\n",
    "  3. 使用numpy的数组函数会保留Series的index. 仍返回Series"
   ]
  },
  {
   "cell_type": "code",
   "execution_count": 4,
   "metadata": {},
   "outputs": [
    {
     "name": "stdout",
     "output_type": "stream",
     "text": [
      "obj[a] = 1\n",
      "=============[1]============\n",
      "a     1\n",
      "b    99\n",
      "dtype: int64\n",
      "========numpy的数组函数不改变Series的index=======\n"
     ]
    },
    {
     "data": {
      "text/plain": [
       "a    2.718282e+00\n",
       "b    9.889030e+42\n",
       "dtype: float64"
      ]
     },
     "execution_count": 4,
     "metadata": {},
     "output_type": "execute_result"
    }
   ],
   "source": [
    "print \"obj[a] = %s\" % obj['a']\n",
    "print \"=============[1]============\"\n",
    "obj2 = obj[['a','b']]\n",
    "obj2['b'] = 99\n",
    "print obj2\n",
    "print \"========numpy的数组函数不改变Series的index=======\"\n",
    "np.exp(obj2)"
   ]
  },
  {
   "cell_type": "markdown",
   "metadata": {},
   "source": [
    "#### 3. Series与字典\n",
    "1. 可以看做一个定长有序字典, 因为他是多对(index->value)的映射. 因此Series可以使用大部分字典函数\n",
    "2. 可以通过字典直接创建Series. 字典为(rowIdx->value)\n",
    "3. 仅通过字典创建的Series, 其元素自动按照字典的key进行排列.若创建Series时指定index的顺序, 则Series元素按照index的顺序排序\n",
    "4. 可以使用pandas的isnull判断Series的字典中的value是否为NaN数据 (空数据)"
   ]
  },
  {
   "cell_type": "code",
   "execution_count": 5,
   "metadata": {},
   "outputs": [
    {
     "name": "stdout",
     "output_type": "stream",
     "text": [
      "True\n",
      "{'a': 1, 'c': 7, 'b': 5, 'd': 9}\n",
      "a    1\n",
      "b    5\n",
      "c    7\n",
      "d    9\n",
      "dtype: int64\n",
      "=============[1]============\n",
      "b    5\n",
      "a    1\n",
      "c    7\n",
      "d    9\n",
      "dtype: int64\n",
      "=============[2]============\n",
      "b    False\n",
      "a    False\n",
      "c    False\n",
      "d    False\n",
      "dtype: bool\n"
     ]
    }
   ],
   "source": [
    "# 使用字典函数操作Series\n",
    "print ('a' in obj)\n",
    "# 通过字典直接创建Series\n",
    "data = {'d':9,'b':5,'c':7,'a':1}\n",
    "obj = Series(data)  # 自动排列\n",
    "print data\n",
    "print obj\n",
    "print \"=============[1]============\"\n",
    "obj = Series(data,index=['b','a','c','d'])\n",
    "print obj\n",
    "print \"=============[2]============\"\n",
    "print pd.isnull(obj) # value是否为NaN"
   ]
  },
  {
   "cell_type": "markdown",
   "metadata": {},
   "source": [
    "#### 4. Series的一些其他概念\n",
    "1. Series之间进行数据运算时, 会按照index对齐数据\n",
    "2. Series自身和其index对象, 都有name属性, 该属性和其他关键功能密切相关\n",
    "3. Series的index可以通过赋值而改变"
   ]
  },
  {
   "cell_type": "code",
   "execution_count": 6,
   "metadata": {},
   "outputs": [
    {
     "name": "stdout",
     "output_type": "stream",
     "text": [
      "a    2.0\n",
      "b    3.0\n",
      "c    4.0\n",
      "d    NaN\n",
      "e    NaN\n",
      "dtype: float64\n",
      "=============[1]============\n",
      "state\n",
      "a    1\n",
      "b    1\n",
      "c    1\n",
      "d    1\n",
      "Name: population, dtype: int64\n",
      "=============[2]============\n",
      "aa    1\n",
      "bb    1\n",
      "cc    1\n",
      "dd    1\n",
      "Name: population, dtype: int64\n"
     ]
    }
   ],
   "source": [
    "# index对齐数据\n",
    "obj1 = Series([1,1,1,1],index=[\"a\",\"b\",\"c\",\"d\"])\n",
    "obj2 = Series([1,2,3,4],index=[\"a\",\"b\",\"c\",\"e\"])\n",
    "print obj1+obj2\n",
    "print \"=============[1]============\"\n",
    "# name属性\n",
    "obj1.name = \"population\"\n",
    "obj1.index.name = \"state\"\n",
    "print obj1\n",
    "print \"=============[2]============\"\n",
    "# index改变\n",
    "obj1.index = ['aa','bb','cc','dd']\n",
    "print obj1"
   ]
  },
  {
   "cell_type": "markdown",
   "metadata": {},
   "source": [
    "## 1.2 DataFrame\n",
    "\n",
    "#### 1. DataFrame基本概念\n",
    "1. 一个DataFrame就是一个表格.由一组Series组成. 这些Series长度相同, 且共用一个索引\n",
    "2. DataFrame也可看做Series组成的字典,字典形式为(columnIdx->Series)\n",
    "3. DataFrame有航索引和列索引\n",
    "\n",
    "#### 2. DataFrame创建\n",
    "1. DataFrame也可以看做一个字典, 其字典形式为(columnIdx,一维数组).因此可以通过字典创建DataFrame, \n",
    "2. 若创建时同时指定了字典和columnIdx, 则会按照columnIdx的顺序构造DataFrame.   \n",
    " 若columnIdx中包含字典中不存在的key, 则DataFrame这列值为NaN"
   ]
  },
  {
   "cell_type": "code",
   "execution_count": 7,
   "metadata": {},
   "outputs": [
    {
     "name": "stdout",
     "output_type": "stream",
     "text": [
      "   age      name\n",
      "0   22  zhangsan\n",
      "1   27      lisi\n",
      "2   25    wangwu\n",
      "=============[1]============\n",
      "   age      name score\n",
      "0   22  zhangsan   NaN\n",
      "1   27      lisi   NaN\n",
      "2   25    wangwu   NaN\n"
     ]
    }
   ],
   "source": [
    "data = {'name':['zhangsan','lisi','wangwu'],\n",
    "       'age':[22,27,25]}\n",
    "df = DataFrame(data)\n",
    "print df\n",
    "print (\"=============[1]============\")\n",
    "df2 = DataFrame(data,columns=['age','name','score'])\n",
    "print df2"
   ]
  },
  {
   "cell_type": "markdown",
   "metadata": {},
   "source": [
    "#### 3. DataFrame元素选取\n",
    "1. 通过DataFrame对应字典的key,选取一维数组. 返回Series\n",
    "2. DataFrame对应字典的key已经作为DataFrame的属性存在. 因此可以通过DataFrame.\"key name\"选取一维数组Series\n",
    "[注]: 无论哪种方式选取DataFrame中的Series, 返回的Series都和DataFrame有相同的索引(但不共用)"
   ]
  },
  {
   "cell_type": "code",
   "execution_count": 8,
   "metadata": {},
   "outputs": [
    {
     "name": "stdout",
     "output_type": "stream",
     "text": [
      "0    22\n",
      "1    27\n",
      "2    25\n",
      "Name: age, dtype: int64\n",
      "=============[1]============\n",
      "0    22\n",
      "1    27\n",
      "2    25\n",
      "Name: age, dtype: int64\n"
     ]
    }
   ],
   "source": [
    "print df['age']\n",
    "print (\"=============[1]============\")\n",
    "obj = df.age\n",
    "print obj"
   ]
  },
  {
   "cell_type": "markdown",
   "metadata": {},
   "source": [
    "#### 4. 通过赋值方式更新DataFrame的Series\n",
    "1. 指定DataFrame的某列Series为一个标量, 则该Series的所有元素值都等于这个标量值\n",
    "2. 指定DataFrame的某列Series为一个新的Series, 则这两个Series之间的rowindex会一一对应进行匹配\n",
    "3. del关键字可以物理删除DataFrame的一个Series\n",
    "4. 通过DataFrame['newColumnIdx']添加一个新的Series"
   ]
  },
  {
   "cell_type": "code",
   "execution_count": 9,
   "metadata": {},
   "outputs": [
    {
     "name": "stdout",
     "output_type": "stream",
     "text": [
      "   age      name  score\n",
      "0   22  zhangsan    100\n",
      "1   27      lisi    100\n",
      "2   25    wangwu    100\n",
      "==============[1]============\n",
      "   age      name  score\n",
      "0   22  zhangsan     99\n",
      "1   27      lisi    100\n",
      "2   25    wangwu     98\n",
      "==============[2]============\n",
      "   age      name\n",
      "0   22  zhangsan\n",
      "1   27      lisi\n",
      "2   25    wangwu\n",
      "==============[3]============\n",
      "   age      name  ageBool\n",
      "0   22  zhangsan    False\n",
      "1   27      lisi     True\n",
      "2   25    wangwu    False\n"
     ]
    }
   ],
   "source": [
    "df2['score'] = 100\n",
    "print df2\n",
    "print (\"==============[1]============\")\n",
    "df2['score'] = Series([99,100,98])\n",
    "print df2\n",
    "print (\"==============[2]============\")\n",
    "del df2['score']\n",
    "print df2\n",
    "print (\"==============[3]============\")\n",
    "df2['ageBool'] = df2['age']>25\n",
    "print df2"
   ]
  },
  {
   "cell_type": "markdown",
   "metadata": {},
   "source": [
    "#### 5. DataFrame的其他概念\n",
    "1. DataFrame的创建方式有很多种, 例如\n",
    "  1. DataFrame(二维ndArray)\n",
    "  2. DataFrame(dict('columnIdx'->List))\n",
    "  3. DataFrame(dict('columnIdx'->Series))\n",
    "  4. DataFrame(dict('columnIdx'->dict('rowIdx'->标量值) ))\n",
    "2. DataFrame的index和columns都由name属性"
   ]
  },
  {
   "cell_type": "markdown",
   "metadata": {
    "collapsed": true
   },
   "source": [
    "### 1.3 索引对象\n",
    "#### 1. Index对象的基本概念\n",
    "1. Index对象是不可变的, 因此可以再多个数据结构中共享Index对象. 使用pd.Index([数组])创建索引对象\n",
    "2. Index对象类似固定大小的集合. 可使用关键字in查看集合中是否有某个元素\n",
    "3. pandas的Index和python的集合不同, Index中可以包含重复数据"
   ]
  },
  {
   "cell_type": "code",
   "execution_count": 10,
   "metadata": {},
   "outputs": [
    {
     "name": "stdout",
     "output_type": "stream",
     "text": [
      "True\n",
      "False\n",
      "==============[1]============\n",
      "a    0\n",
      "a    1\n",
      "b    2\n",
      "c    3\n",
      "dtype: int64\n"
     ]
    }
   ],
   "source": [
    "labels = pd.Index(range(0,3))\n",
    "obj = Series([99,98,100],index=labels)\n",
    "obj2 = DataFrame({'a':[1,2,3],'b':[4,4,4]},index=labels)\n",
    "# is关键字: 判断id(obj1)和id(obj2)是否相等\n",
    "# ==:判断2两对象的value是否相等\n",
    "print obj.index is obj2.index\n",
    "print 4 in labels\n",
    "print (\"==============[1]============\")\n",
    "# Index包含重复数据\n",
    "labels = pd.Index(['a','a','b','c'])\n",
    "obj1 = Series(range(0,4),index=labels)\n",
    "print obj1"
   ]
  },
  {
   "cell_type": "markdown",
   "metadata": {},
   "source": [
    "#### 2. 重建索引reindex : 使用新的索引来重构数据, 并可指定原先不包含的索引对应数据的填充策略 \n",
    "1. Series的数据可以通过重建索引来重排数据 (返回新对象)\n",
    "2. 指定原先不包含的索引对应数据的填充策略, 包括: ffill(front向前填充,直到填充到下一个有值的地方),bfill(backword向后填充,知道下一个有值得地方)  \n",
    "3. DataFrame重建索引默认为行索引,重建列索引需要声明columns=[newIndex]"
   ]
  },
  {
   "cell_type": "code",
   "execution_count": 11,
   "metadata": {},
   "outputs": [
    {
     "name": "stdout",
     "output_type": "stream",
     "text": [
      "a    1.0\n",
      "b    2.0\n",
      "c    3.0\n",
      "d    4.0\n",
      "e    NaN\n",
      "dtype: float64\n",
      "0    a\n",
      "1    a\n",
      "2    a\n",
      "3    b\n",
      "4    b\n",
      "5    c\n",
      "dtype: object\n",
      "   apple  orange  banana\n",
      "c    6.0     7.0     8.0\n",
      "b    3.0     4.0     5.0\n",
      "d    NaN     NaN     NaN\n"
     ]
    },
    {
     "data": {
      "text/html": [
       "<div>\n",
       "<style>\n",
       "    .dataframe thead tr:only-child th {\n",
       "        text-align: right;\n",
       "    }\n",
       "\n",
       "    .dataframe thead th {\n",
       "        text-align: left;\n",
       "    }\n",
       "\n",
       "    .dataframe tbody tr th {\n",
       "        vertical-align: top;\n",
       "    }\n",
       "</style>\n",
       "<table border=\"1\" class=\"dataframe\">\n",
       "  <thead>\n",
       "    <tr style=\"text-align: right;\">\n",
       "      <th></th>\n",
       "      <th>apple</th>\n",
       "      <th>banana</th>\n",
       "      <th>xixi</th>\n",
       "    </tr>\n",
       "  </thead>\n",
       "  <tbody>\n",
       "    <tr>\n",
       "      <th>a</th>\n",
       "      <td>0</td>\n",
       "      <td>2</td>\n",
       "      <td>NaN</td>\n",
       "    </tr>\n",
       "    <tr>\n",
       "      <th>b</th>\n",
       "      <td>3</td>\n",
       "      <td>5</td>\n",
       "      <td>NaN</td>\n",
       "    </tr>\n",
       "    <tr>\n",
       "      <th>c</th>\n",
       "      <td>6</td>\n",
       "      <td>8</td>\n",
       "      <td>NaN</td>\n",
       "    </tr>\n",
       "  </tbody>\n",
       "</table>\n",
       "</div>"
      ],
      "text/plain": [
       "   apple  banana  xixi\n",
       "a      0       2   NaN\n",
       "b      3       5   NaN\n",
       "c      6       8   NaN"
      ]
     },
     "execution_count": 11,
     "metadata": {},
     "output_type": "execute_result"
    }
   ],
   "source": [
    "# 1. 重排数据\n",
    "obj = Series([2,3,1,4],index=['b','c','a','d'])\n",
    "obj2 = obj.reindex(['a','b','c','d','e'])\n",
    "print obj2\n",
    "# 2. 填充缺失索引对应的数值\n",
    "obj = Series(['a','b','c'],index=[2,4,6])\n",
    "obj2 = obj.reindex(range(0,6),method='bfill')\n",
    "print obj2\n",
    "# 3. DataFrame重建索引\n",
    "df = DataFrame(np.arange(0,9).reshape(3,3),index=['a','b','c'],columns=['apple','orange','banana'])\n",
    "df2 = df.reindex(['c','b','d'])\n",
    "print df2\n",
    "df3 = df.reindex(columns=['apple','banana','xixi'])\n",
    "df3"
   ]
  },
  {
   "cell_type": "markdown",
   "metadata": {},
   "source": [
    "#### 3. 删除指定索引上的一行或一列数据\n",
    "1. Series和DataFrame都由drop方法, 使用时指定一个索引名/索引数组即可  \n",
    " DataFrame根据索引删除行/列时, axis=0为行, axis=1为列\n"
   ]
  },
  {
   "cell_type": "code",
   "execution_count": 12,
   "metadata": {},
   "outputs": [
    {
     "name": "stdout",
     "output_type": "stream",
     "text": [
      "b    1\n",
      "c    2\n",
      "d    3\n",
      "e    4\n",
      "dtype: int64\n"
     ]
    },
    {
     "data": {
      "text/html": [
       "<div>\n",
       "<style>\n",
       "    .dataframe thead tr:only-child th {\n",
       "        text-align: right;\n",
       "    }\n",
       "\n",
       "    .dataframe thead th {\n",
       "        text-align: left;\n",
       "    }\n",
       "\n",
       "    .dataframe tbody tr th {\n",
       "        vertical-align: top;\n",
       "    }\n",
       "</style>\n",
       "<table border=\"1\" class=\"dataframe\">\n",
       "  <thead>\n",
       "    <tr style=\"text-align: right;\">\n",
       "      <th></th>\n",
       "      <th>orange</th>\n",
       "    </tr>\n",
       "  </thead>\n",
       "  <tbody>\n",
       "    <tr>\n",
       "      <th>a</th>\n",
       "      <td>1</td>\n",
       "    </tr>\n",
       "    <tr>\n",
       "      <th>b</th>\n",
       "      <td>4</td>\n",
       "    </tr>\n",
       "    <tr>\n",
       "      <th>c</th>\n",
       "      <td>7</td>\n",
       "    </tr>\n",
       "  </tbody>\n",
       "</table>\n",
       "</div>"
      ],
      "text/plain": [
       "   orange\n",
       "a       1\n",
       "b       4\n",
       "c       7"
      ]
     },
     "execution_count": 12,
     "metadata": {},
     "output_type": "execute_result"
    }
   ],
   "source": [
    "obj = Series(np.arange(0,5),index=['a','b','c','d','e'])\n",
    "obj2 = obj.drop('a')\n",
    "print obj2\n",
    "# DataFrame.drop(indexName) : axis=1为列,axis=0为行\n",
    "df = DataFrame(np.arange(0,9).reshape(3,3),index=['a','b','c'],columns=['apple','orange','banana'])\n",
    "df2 = df.drop(['apple','banana'],axis=1)\n",
    "df2"
   ]
  },
  {
   "cell_type": "markdown",
   "metadata": {},
   "source": [
    "#### 4. 选取索引上的数据\n",
    "1. 无论是Series还是DataFrame都能通过loc[],iloc[]来选取数据. loc按\"索引值\"选取, iloc按\"索引序号\"选取\n",
    "2. 条件选取: 通常会根据一个where条件选取DataFrame中的某些行, pandas的实现逻辑分两种情况:  \n",
    "  1. bool型Series作索引\n",
    "    1. 将一个bool型Series,放到DataFrame的索引数组中进行选取. DataFrame只选取Series中value=True的索引\n",
    "    2. 这些value=True的索引可供下一步进行索引选取\n",
    "  2. bool型DataFrame做索引\n",
    "    1. 将这个bool型DataFrame中为True元素的(rowIdx,columnIdx)作为组合去选取数据"
   ]
  },
  {
   "cell_type": "code",
   "execution_count": 13,
   "metadata": {},
   "outputs": [
    {
     "name": "stdout",
     "output_type": "stream",
     "text": [
      "   apple  orange  banana\n",
      "a      0       1       2\n",
      "b      3       4       5\n",
      "c      6       7       8\n",
      "==============[1]============\n",
      "a    0\n",
      "b    3\n",
      "c    6\n",
      "Name: apple, dtype: int64\n",
      "a    0\n",
      "b    3\n",
      "c    6\n",
      "Name: apple, dtype: int64\n",
      "==============[2]============\n",
      "   apple  orange  banana\n",
      "b      3       4       5\n",
      "c      6       7       8\n"
     ]
    }
   ],
   "source": [
    "df = DataFrame(np.arange(0,9).reshape(3,3),index=['a','b','c'],columns=['apple','orange','banana'])\n",
    "print df\n",
    "print (\"==============[1]============\")\n",
    "# 下述选取方式等价\n",
    "print df.loc[:,'apple']\n",
    "print df.iloc[:,0]\n",
    "print (\"==============[2]============\")\n",
    "# 选取df中apple列大于1的所有行\n",
    "print df.loc[df.apple>1,:]"
   ]
  },
  {
   "cell_type": "markdown",
   "metadata": {},
   "source": [
    "#### 4. iloc和loc在索引值为整数情况下的小歧义\n",
    "1. iloc由于是根据索引序号选取, 所以是[a,b)区间的选取  \n",
    " loc是索引值得选取, 所以为[a,b]区间的索引.  \n",
    " 此时, 当索引值也为整数时, 就要格外小心, 选取的行/列是否包含最后一个值"
   ]
  },
  {
   "cell_type": "code",
   "execution_count": 14,
   "metadata": {},
   "outputs": [
    {
     "name": "stdout",
     "output_type": "stream",
     "text": [
      "0    0\n",
      "Name: 0, dtype: int64\n",
      "0    0\n",
      "1    3\n",
      "Name: 0, dtype: int64\n"
     ]
    }
   ],
   "source": [
    "df = DataFrame(np.arange(0,9).reshape(3,3))\n",
    "print df.iloc[:1,0] # 只有rowIdx=0的行\n",
    "print df.loc[:1,0] # 有rowIdx=0和1的两行"
   ]
  },
  {
   "cell_type": "markdown",
   "metadata": {},
   "source": [
    "#### 5. 数据结构.reset_index与数据结构.set_index\n",
    "1. set_index可以将数据结构的columnIdx变成index  \n",
    "  1. keys : columnIdx的列表  \n",
    "  2. drop : 原index是否被删除 (Boolean, 默认为True)  \n",
    "  3. append : set_index默认会覆盖原有数据结构的index, 可设置append=True保留原索引  \n",
    "2. reset_index, 将index转变为columnIdx  \n",
    "  1. level : 将哪层的index变成columnIdx (string,int,List)  \n",
    "  2. drop : 是否直接删除这个索引(Boolean)  \n",
    "  3. col_level : 当columnIdx有多层时, 决定转变为列的index名字妨碍第几层. 默认放在最高层 (int)\n",
    "  4. col_fill : 当columnIdx有多层时, 决定其它层的columnIdx名字是什么"
   ]
  },
  {
   "cell_type": "code",
   "execution_count": 20,
   "metadata": {},
   "outputs": [
    {
     "data": {
      "text/html": [
       "<div>\n",
       "<style>\n",
       "    .dataframe thead tr:only-child th {\n",
       "        text-align: right;\n",
       "    }\n",
       "\n",
       "    .dataframe thead th {\n",
       "        text-align: left;\n",
       "    }\n",
       "\n",
       "    .dataframe tbody tr th {\n",
       "        vertical-align: top;\n",
       "    }\n",
       "</style>\n",
       "<table border=\"1\" class=\"dataframe\">\n",
       "  <thead>\n",
       "    <tr style=\"text-align: right;\">\n",
       "      <th></th>\n",
       "      <th>month</th>\n",
       "      <th>sale</th>\n",
       "      <th>year</th>\n",
       "    </tr>\n",
       "  </thead>\n",
       "  <tbody>\n",
       "    <tr>\n",
       "      <th>0</th>\n",
       "      <td>1</td>\n",
       "      <td>55</td>\n",
       "      <td>2012</td>\n",
       "    </tr>\n",
       "    <tr>\n",
       "      <th>1</th>\n",
       "      <td>4</td>\n",
       "      <td>40</td>\n",
       "      <td>2014</td>\n",
       "    </tr>\n",
       "    <tr>\n",
       "      <th>2</th>\n",
       "      <td>7</td>\n",
       "      <td>84</td>\n",
       "      <td>2013</td>\n",
       "    </tr>\n",
       "    <tr>\n",
       "      <th>3</th>\n",
       "      <td>10</td>\n",
       "      <td>31</td>\n",
       "      <td>2014</td>\n",
       "    </tr>\n",
       "  </tbody>\n",
       "</table>\n",
       "</div>"
      ],
      "text/plain": [
       "   month  sale  year\n",
       "0      1    55  2012\n",
       "1      4    40  2014\n",
       "2      7    84  2013\n",
       "3     10    31  2014"
      ]
     },
     "execution_count": 20,
     "metadata": {},
     "output_type": "execute_result"
    }
   ],
   "source": [
    "# 数据结构.set_index\n",
    "df = pd.DataFrame({'month': [1, 4, 7, 10],\n",
    "                   'year': [2012, 2014, 2013, 2014],\n",
    "                   'sale':[55, 40, 84, 31]})\n",
    "df"
   ]
  },
  {
   "cell_type": "code",
   "execution_count": 23,
   "metadata": {},
   "outputs": [
    {
     "name": "stdout",
     "output_type": "stream",
     "text": [
      "       sale  year\n",
      "month            \n",
      "1        55  2012\n",
      "4        40  2014\n",
      "7        84  2013\n",
      "10       31  2014\n"
     ]
    },
    {
     "data": {
      "text/html": [
       "<div>\n",
       "<style>\n",
       "    .dataframe thead tr:only-child th {\n",
       "        text-align: right;\n",
       "    }\n",
       "\n",
       "    .dataframe thead th {\n",
       "        text-align: left;\n",
       "    }\n",
       "\n",
       "    .dataframe tbody tr th {\n",
       "        vertical-align: top;\n",
       "    }\n",
       "</style>\n",
       "<table border=\"1\" class=\"dataframe\">\n",
       "  <thead>\n",
       "    <tr style=\"text-align: right;\">\n",
       "      <th></th>\n",
       "      <th></th>\n",
       "      <th></th>\n",
       "      <th>sale</th>\n",
       "    </tr>\n",
       "    <tr>\n",
       "      <th></th>\n",
       "      <th>month</th>\n",
       "      <th>year</th>\n",
       "      <th></th>\n",
       "    </tr>\n",
       "  </thead>\n",
       "  <tbody>\n",
       "    <tr>\n",
       "      <th>0</th>\n",
       "      <th>1</th>\n",
       "      <th>2012</th>\n",
       "      <td>55</td>\n",
       "    </tr>\n",
       "    <tr>\n",
       "      <th>1</th>\n",
       "      <th>4</th>\n",
       "      <th>2014</th>\n",
       "      <td>40</td>\n",
       "    </tr>\n",
       "    <tr>\n",
       "      <th>2</th>\n",
       "      <th>7</th>\n",
       "      <th>2013</th>\n",
       "      <td>84</td>\n",
       "    </tr>\n",
       "    <tr>\n",
       "      <th>3</th>\n",
       "      <th>10</th>\n",
       "      <th>2014</th>\n",
       "      <td>31</td>\n",
       "    </tr>\n",
       "  </tbody>\n",
       "</table>\n",
       "</div>"
      ],
      "text/plain": [
       "              sale\n",
       "  month year      \n",
       "0 1     2012    55\n",
       "1 4     2014    40\n",
       "2 7     2013    84\n",
       "3 10    2014    31"
      ]
     },
     "execution_count": 23,
     "metadata": {},
     "output_type": "execute_result"
    }
   ],
   "source": [
    "print df.set_index('month')\n",
    "df.set_index(keys=['month','year'],append=True)"
   ]
  },
  {
   "cell_type": "code",
   "execution_count": 41,
   "metadata": {},
   "outputs": [
    {
     "data": {
      "text/html": [
       "<div>\n",
       "<style>\n",
       "    .dataframe thead tr:only-child th {\n",
       "        text-align: right;\n",
       "    }\n",
       "\n",
       "    .dataframe thead th {\n",
       "        text-align: left;\n",
       "    }\n",
       "\n",
       "    .dataframe tbody tr th {\n",
       "        vertical-align: top;\n",
       "    }\n",
       "</style>\n",
       "<table border=\"1\" class=\"dataframe\">\n",
       "  <thead>\n",
       "    <tr style=\"text-align: right;\">\n",
       "      <th></th>\n",
       "      <th>class</th>\n",
       "      <th>max_speed</th>\n",
       "    </tr>\n",
       "    <tr>\n",
       "      <th>aaa</th>\n",
       "      <th></th>\n",
       "      <th></th>\n",
       "    </tr>\n",
       "  </thead>\n",
       "  <tbody>\n",
       "    <tr>\n",
       "      <th>falcon</th>\n",
       "      <td>bird</td>\n",
       "      <td>389.0</td>\n",
       "    </tr>\n",
       "    <tr>\n",
       "      <th>parrot</th>\n",
       "      <td>bird</td>\n",
       "      <td>24.0</td>\n",
       "    </tr>\n",
       "    <tr>\n",
       "      <th>lion</th>\n",
       "      <td>mammal</td>\n",
       "      <td>80.5</td>\n",
       "    </tr>\n",
       "    <tr>\n",
       "      <th>monkey</th>\n",
       "      <td>mammal</td>\n",
       "      <td>NaN</td>\n",
       "    </tr>\n",
       "  </tbody>\n",
       "</table>\n",
       "</div>"
      ],
      "text/plain": [
       "         class  max_speed\n",
       "aaa                      \n",
       "falcon    bird      389.0\n",
       "parrot    bird       24.0\n",
       "lion    mammal       80.5\n",
       "monkey  mammal        NaN"
      ]
     },
     "execution_count": 41,
     "metadata": {},
     "output_type": "execute_result"
    }
   ],
   "source": [
    "# reset_index\n",
    "df = pd.DataFrame([('bird',    389.0),('bird',     24.0),('mammal',   80.5),('mammal', np.nan)],\n",
    "                  index=['falcon', 'parrot', 'lion', 'monkey'],\n",
    "                  columns=('class', 'max_speed'))\n",
    "df.index.name='aaa'\n",
    "df"
   ]
  },
  {
   "cell_type": "code",
   "execution_count": 44,
   "metadata": {},
   "outputs": [
    {
     "name": "stdout",
     "output_type": "stream",
     "text": [
      "      aaa   class  max_speed\n",
      "0  falcon    bird      389.0\n",
      "1  parrot    bird       24.0\n",
      "2    lion  mammal       80.5\n",
      "3  monkey  mammal        NaN\n",
      "    class  max_speed\n",
      "0    bird      389.0\n",
      "1    bird       24.0\n",
      "2  mammal       80.5\n",
      "3  mammal        NaN\n"
     ]
    },
    {
     "data": {
      "text/html": [
       "<div>\n",
       "<style>\n",
       "    .dataframe thead tr:only-child th {\n",
       "        text-align: right;\n",
       "    }\n",
       "\n",
       "    .dataframe thead th {\n",
       "        text-align: left;\n",
       "    }\n",
       "\n",
       "    .dataframe tbody tr th {\n",
       "        vertical-align: top;\n",
       "    }\n",
       "</style>\n",
       "<table border=\"1\" class=\"dataframe\">\n",
       "  <thead>\n",
       "    <tr style=\"text-align: right;\">\n",
       "      <th></th>\n",
       "      <th>aaa</th>\n",
       "      <th>class</th>\n",
       "      <th>max_speed</th>\n",
       "    </tr>\n",
       "  </thead>\n",
       "  <tbody>\n",
       "    <tr>\n",
       "      <th>0</th>\n",
       "      <td>falcon</td>\n",
       "      <td>bird</td>\n",
       "      <td>389.0</td>\n",
       "    </tr>\n",
       "    <tr>\n",
       "      <th>1</th>\n",
       "      <td>parrot</td>\n",
       "      <td>bird</td>\n",
       "      <td>24.0</td>\n",
       "    </tr>\n",
       "    <tr>\n",
       "      <th>2</th>\n",
       "      <td>lion</td>\n",
       "      <td>mammal</td>\n",
       "      <td>80.5</td>\n",
       "    </tr>\n",
       "    <tr>\n",
       "      <th>3</th>\n",
       "      <td>monkey</td>\n",
       "      <td>mammal</td>\n",
       "      <td>NaN</td>\n",
       "    </tr>\n",
       "  </tbody>\n",
       "</table>\n",
       "</div>"
      ],
      "text/plain": [
       "      aaa   class  max_speed\n",
       "0  falcon    bird      389.0\n",
       "1  parrot    bird       24.0\n",
       "2    lion  mammal       80.5\n",
       "3  monkey  mammal        NaN"
      ]
     },
     "execution_count": 44,
     "metadata": {},
     "output_type": "execute_result"
    }
   ],
   "source": [
    "# 将index变成columnIdx\n",
    "print df.reset_index()\n",
    "# 删除索引\n",
    "print df.reset_index(drop=True)\n",
    "df.reset_index(level = \"aaa\")"
   ]
  },
  {
   "cell_type": "markdown",
   "metadata": {},
   "source": [
    "### 1.4 pandas的数据对齐\n",
    "1. pandas的Series之间/DataFrame之间进行算术运算时, 需要对齐两个Series/DataFrame的索引再进行元素之间运算  \n",
    " 如果存在没有对其的索引, 就会将值设置为缺失值NaN\n",
    "2. 对于没对齐的索引, 所以通过设置fill_value属性, 填充双方没对齐的元素的缺省值(对df1,df2都成立)  \n",
    "  1. add +\n",
    "  2. sub -\n",
    "  3. div /\n",
    "  4. mul *\n",
    "  5. pow **\n",
    "  6. floordiv //"
   ]
  },
  {
   "cell_type": "code",
   "execution_count": 16,
   "metadata": {},
   "outputs": [
    {
     "name": "stdout",
     "output_type": "stream",
     "text": [
      "   a  b  c\n",
      "0  0  1  2\n",
      "1  3  4  5\n",
      "2  6  7  8\n",
      "   b  c  d\n",
      "0  0  1  2\n",
      "1  3  4  5\n",
      "2  6  7  8\n",
      "==============[1]============\n",
      "    a   b   c   d\n",
      "0 NaN   1   3 NaN\n",
      "1 NaN   7   9 NaN\n",
      "2 NaN  13  15 NaN\n",
      "     a   b   c    d\n",
      "0  0.0   1   3  2.0\n",
      "1  3.0   7   9  5.0\n",
      "2  6.0  13  15  8.0\n"
     ]
    }
   ],
   "source": [
    "df1 = DataFrame(np.arange(0,9).reshape(3,3),columns=list('abc'))\n",
    "print df1\n",
    "df2 = DataFrame(np.arange(0,9).reshape(3,3),columns=list('bcd'))\n",
    "print df2\n",
    "print \"==============[1]============\"\n",
    "# 对df1的缺失索引元素与df2的缺失索引元素都填充0\n",
    "print df1 + df2\n",
    "print df1.add(df2,fill_value=0)"
   ]
  },
  {
   "cell_type": "markdown",
   "metadata": {
    "collapsed": true
   },
   "source": [
    "#### 3. numpy函数应用在pandas数据结构上\n",
    "1. numpy函数可以应用在pandas数据结构上, 且不改变pandas数据结构的rowIdx和colmnIdx\n",
    "2. DataFrame.apply(lambda func) :   \n",
    " 默认在DataFrame的每列上执行, 可通过指定apply(axis=1)设置在行上执行\n",
    "3. Series.map(lambda func), 应用函数在元素级别"
   ]
  },
  {
   "cell_type": "code",
   "execution_count": 17,
   "metadata": {},
   "outputs": [
    {
     "name": "stdout",
     "output_type": "stream",
     "text": [
      "               a         b         c\n",
      "Utah    1.624345  0.611756  0.528172\n",
      "Ohio    1.072969  0.865408  2.301539\n",
      "Texas   1.744812  0.761207  0.319039\n",
      "Oregon  0.249370  1.462108  2.060141\n",
      "==============[1]============\n",
      "a    2.817780\n",
      "b    2.223315\n",
      "c    2.620578\n",
      "dtype: float64\n",
      "==============[2]============\n",
      "Utah      2.236102\n",
      "Ohio      3.166946\n",
      "Texas     2.506019\n",
      "Oregon    3.522249\n",
      "dtype: float64\n"
     ]
    },
    {
     "data": {
      "text/plain": [
       "Utah      3.624345\n",
       "Ohio      0.927031\n",
       "Texas     3.744812\n",
       "Oregon    1.750630\n",
       "Name: a, dtype: float64"
      ]
     },
     "execution_count": 17,
     "metadata": {},
     "output_type": "execute_result"
    }
   ],
   "source": [
    "np.random.seed(1)\n",
    "df = DataFrame(np.random.randn(4,3),columns=list('abc'),index=['Utah', 'Ohio', 'Texas', 'Oregon'])\n",
    "# numpy方法应用到DataFrame上\n",
    "print np.abs(df)\n",
    "print (\"==============[1]============\")\n",
    "# DataFrame赢用函数在列/行的Series上\n",
    "f = lambda x : x.max()-x.min()\n",
    "print df.apply(f)\n",
    "print (\"==============[2]============\")\n",
    "print df.apply(f,axis=1)\n",
    "# Series应用函数在元素级别\n",
    "f2 = lambda x:x+2\n",
    "# df['a']为df.loc[:,'a']的简写形式\n",
    "df.loc[:,'a'].map(f2)\n"
   ]
  },
  {
   "cell_type": "markdown",
   "metadata": {},
   "source": [
    "### 1.5 数据结构的排序与排名\n",
    "#### 1. 排序\n",
    "1. 按照索引排序  \n",
    "  1. Series.sort_index(): 按照index排序\n",
    "  2. DataFrame.sort_index() : 按照rowIdx排序, DataFrame.sort(axis=1)按照columnIdx排序\n",
    "2. 按照元素值排序  \n",
    "  1. Series.sort_values() : 按照元素值排序\n",
    "  2. DataFrame.Sort_index(by=['columnIdx']) : 按照上的元素值排序\n",
    "  \n",
    "#### 2. 按元素出现位置排名\n",
    "排名: 当数据结构排好序后, 出现的位置+1就是元素的排名(排名范围:1~n)  \n",
    "一个有用的参数method : {'average', 'min', 'max', 'first', 'dense'}: 为当元素值重复时, 会在多个排名上出现这个元素, 那么如何取排名呢?   \n",
    "(分别是: group的平均排名,最先出现,最后出现,按照排序中出现的顺序输出,最先出现(元素值重复时,排名在group上加1))\n",
    "\n",
    "1. Series.rank() : 返回一个新的Series,   \n",
    " 新Series的元素值为老Series元素排序后出现的位置 \n",
    "2. DataFrame.rank() : 返回新的DataFrame  \n",
    " 新DataFrame的元素为老DataFrame在列上的排名"
   ]
  },
  {
   "cell_type": "code",
   "execution_count": 18,
   "metadata": {},
   "outputs": [
    {
     "name": "stdout",
     "output_type": "stream",
     "text": [
      "a    5\n",
      "c    4\n",
      "d    9\n",
      "v    3\n",
      "dtype: int64\n",
      "   apple  orange\n",
      "c      4       3\n",
      "b      4       8\n",
      "v      6       3\n",
      "==============[1]============\n",
      "v    3\n",
      "c    4\n",
      "a    5\n",
      "d    9\n",
      "dtype: int64\n",
      "   orange  apple\n",
      "c       3      4\n",
      "v       3      6\n",
      "b       8      4\n",
      "   orange  apple\n",
      "c       3      4\n",
      "b       8      4\n",
      "v       3      6\n",
      "==============[2]============\n",
      "c    2.0\n",
      "v    1.0\n",
      "d    4.0\n",
      "a    3.0\n",
      "dtype: float64\n",
      "   orange  apple\n",
      "c     2.0    2.0\n",
      "b     3.0    2.0\n",
      "v     2.0    3.0\n"
     ]
    }
   ],
   "source": [
    "obj = Series([4,3,9,5],index=list('cvda'))\n",
    "df = DataFrame(np.array([[3,4],[8,4],[3,6]]),index=list('cbv'),columns=['orange','apple'])\n",
    "# 按索引排序\n",
    "print obj.sort_index()\n",
    "print df.sort_index(axis=1)\n",
    "#按元素值排序\n",
    "print (\"==============[1]============\")\n",
    "print obj.sort_values()\n",
    "print df.sort_values(by=['orange','apple'])\n",
    "print df.sort_values(by=['apple','orange'])\n",
    "print (\"==============[2]============\")\n",
    "# 按照元素出现位置排名\n",
    "print obj.rank()  # 参考obj,sort()\n",
    "print df.rank(method=\"max\")"
   ]
  },
  {
   "cell_type": "markdown",
   "metadata": {},
   "source": [
    "### 1.6 数据结构的汇总和统计指标\n",
    "#### 一. DataFrame的算术操作, 默认在列上上进行, 且自动抛弃nan值\n",
    "1. 通过指定参数(skipna=False)来包括nan值\n",
    "2. 通过指定参数(axis=1)设置在行上计算"
   ]
  },
  {
   "cell_type": "code",
   "execution_count": 38,
   "metadata": {},
   "outputs": [
    {
     "name": "stdout",
     "output_type": "stream",
     "text": [
      "    one   two\n",
      "a  1.40   NaN\n",
      "b  7.10 -4.50\n",
      "c   NaN   NaN\n",
      "d  0.75 -0.13\n",
      "================[1]===============\n",
      "one    9.25\n",
      "two   -4.63\n",
      "dtype: float64\n",
      "================[2]===============\n",
      "one    7.10\n",
      "two   -0.13\n",
      "dtype: float64\n",
      "================[3]===============\n",
      "one    b\n",
      "two    d\n",
      "dtype: object\n",
      "================[4]===============\n",
      "    one   two\n",
      "a  1.40   NaN\n",
      "b  8.50 -4.50\n",
      "c   NaN   NaN\n",
      "d  9.25 -4.63\n",
      "================[5]===============\n",
      "    one  two\n",
      "a  1.40  NaN\n",
      "b  1.40 -4.5\n",
      "c   NaN  NaN\n",
      "d  0.75 -4.5\n"
     ]
    },
    {
     "data": {
      "text/html": [
       "<div>\n",
       "<style>\n",
       "    .dataframe thead tr:only-child th {\n",
       "        text-align: right;\n",
       "    }\n",
       "\n",
       "    .dataframe thead th {\n",
       "        text-align: left;\n",
       "    }\n",
       "\n",
       "    .dataframe tbody tr th {\n",
       "        vertical-align: top;\n",
       "    }\n",
       "</style>\n",
       "<table border=\"1\" class=\"dataframe\">\n",
       "  <thead>\n",
       "    <tr style=\"text-align: right;\">\n",
       "      <th></th>\n",
       "      <th>one</th>\n",
       "      <th>two</th>\n",
       "    </tr>\n",
       "  </thead>\n",
       "  <tbody>\n",
       "    <tr>\n",
       "      <th>a</th>\n",
       "      <td>1.40</td>\n",
       "      <td>NaN</td>\n",
       "    </tr>\n",
       "    <tr>\n",
       "      <th>b</th>\n",
       "      <td>7.10</td>\n",
       "      <td>-4.50</td>\n",
       "    </tr>\n",
       "    <tr>\n",
       "      <th>c</th>\n",
       "      <td>NaN</td>\n",
       "      <td>NaN</td>\n",
       "    </tr>\n",
       "    <tr>\n",
       "      <th>d</th>\n",
       "      <td>0.75</td>\n",
       "      <td>-0.13</td>\n",
       "    </tr>\n",
       "  </tbody>\n",
       "</table>\n",
       "</div>"
      ],
      "text/plain": [
       "    one   two\n",
       "a  1.40   NaN\n",
       "b  7.10 -4.50\n",
       "c   NaN   NaN\n",
       "d  0.75 -0.13"
      ]
     },
     "execution_count": 38,
     "metadata": {},
     "output_type": "execute_result"
    }
   ],
   "source": [
    "df = pd.DataFrame(np.array([[1.4,np.nan],[7.1,-4.5],[np.nan,np.nan],[0.75,-0.13]]),\n",
    "                  index=list('abcd'),columns=['one','two'])\n",
    "print df\n",
    "print \"================[1]===============\"\n",
    "# 1. 列上求和\n",
    "print df.sum()\n",
    "print \"================[2]===============\"\n",
    "# 2. 列上的最大值\n",
    "print df.max()\n",
    "print \"================[3]===============\"\n",
    "# 3. 列上最大值所在索引值\n",
    "print df.idxmax()\n",
    "print \"================[4]===============\"\n",
    "# 列上计算累加和 (自动忽略nan值)\n",
    "print df.cumsum()\n",
    "print \"================[5]===============\"\n",
    "# 列上计算, \"展示到\"此位置时,产生的最小值\n",
    "print df.cummin()\n",
    "df"
   ]
  },
  {
   "cell_type": "markdown",
   "metadata": {},
   "source": [
    "#### 二. \n",
    "1. 唯一值unique : Series.unique(),返回ndarray, 找出Series里的唯一值  \n",
    "  1. 可以继续用ndarray.sort()来对返回结果排序\n",
    "  2. Pandas中, 排序使用Series.sort_index()或Series.sort_values()  \n",
    "2. 值计数Series.value_counts() : 统计Series中各值出现的次数, 返回Series\n",
    "3. Series/DataFrame.isin([..]) : 查看每个元素是否在参数给出的List中. 返回Boolean的Series或DataFrame  \n",
    " DataFrame本身没有value_counts()方法, 但蛋壳通过DataFrame.apply(np.value_counts)方法, 在DataFrame的每个列上执行value_counts(), 且返回1个新的DataFrame,其行索引包括所有列中的值, 列表示\"该值在列上出现的次数\"\n",
    "4. Series/DataFrame.isin(list)返回Boolean的Series/DataFrame. 类似的, \n",
    "```python\n",
    "index = Index()\n",
    "index.get_indexer(Series/DataFrame)返回Series/DataFrame中的元素在索引中的第几个. 返回ndarray\n",
    "```"
   ]
  },
  {
   "cell_type": "code",
   "execution_count": 64,
   "metadata": {},
   "outputs": [
    {
     "name": "stdout",
     "output_type": "stream",
     "text": [
      "0    c\n",
      "1    a\n",
      "2    d\n",
      "3    a\n",
      "4    a\n",
      "5    b\n",
      "6    b\n",
      "7    c\n",
      "8    c\n",
      "dtype: object\n",
      "================[1]===============\n",
      "['c' 'a' 'd' 'b']\n",
      "c    3\n",
      "a    3\n",
      "b    2\n",
      "d    1\n",
      "dtype: int64\n",
      "0     True\n",
      "1    False\n",
      "2    False\n",
      "3    False\n",
      "4    False\n",
      "5     True\n",
      "6     True\n",
      "7     True\n",
      "8     True\n",
      "dtype: bool\n",
      "================[2]===============\n",
      "0    c\n",
      "5    b\n",
      "6    b\n",
      "7    c\n",
      "8    c\n",
      "dtype: object\n",
      "================[3]===============\n",
      "    one   two\n",
      "a  1.40   NaN\n",
      "b  7.10 -4.50\n",
      "c   NaN   NaN\n",
      "d  0.75 -0.13\n"
     ]
    },
    {
     "data": {
      "text/html": [
       "<div>\n",
       "<style>\n",
       "    .dataframe thead tr:only-child th {\n",
       "        text-align: right;\n",
       "    }\n",
       "\n",
       "    .dataframe thead th {\n",
       "        text-align: left;\n",
       "    }\n",
       "\n",
       "    .dataframe tbody tr th {\n",
       "        vertical-align: top;\n",
       "    }\n",
       "</style>\n",
       "<table border=\"1\" class=\"dataframe\">\n",
       "  <thead>\n",
       "    <tr style=\"text-align: right;\">\n",
       "      <th></th>\n",
       "      <th>one</th>\n",
       "      <th>two</th>\n",
       "    </tr>\n",
       "  </thead>\n",
       "  <tbody>\n",
       "    <tr>\n",
       "      <th>-4.50</th>\n",
       "      <td>NaN</td>\n",
       "      <td>1.0</td>\n",
       "    </tr>\n",
       "    <tr>\n",
       "      <th>-0.13</th>\n",
       "      <td>NaN</td>\n",
       "      <td>1.0</td>\n",
       "    </tr>\n",
       "    <tr>\n",
       "      <th>0.75</th>\n",
       "      <td>1.0</td>\n",
       "      <td>NaN</td>\n",
       "    </tr>\n",
       "    <tr>\n",
       "      <th>1.40</th>\n",
       "      <td>1.0</td>\n",
       "      <td>NaN</td>\n",
       "    </tr>\n",
       "    <tr>\n",
       "      <th>7.10</th>\n",
       "      <td>1.0</td>\n",
       "      <td>NaN</td>\n",
       "    </tr>\n",
       "  </tbody>\n",
       "</table>\n",
       "</div>"
      ],
      "text/plain": [
       "       one  two\n",
       "-4.50  NaN  1.0\n",
       "-0.13  NaN  1.0\n",
       " 0.75  1.0  NaN\n",
       " 1.40  1.0  NaN\n",
       " 7.10  1.0  NaN"
      ]
     },
     "execution_count": 64,
     "metadata": {},
     "output_type": "execute_result"
    }
   ],
   "source": [
    "obj = Series(['c', 'a', 'd', 'a', 'a', 'b', 'b', 'c', 'c'])\n",
    "print obj\n",
    "print \"================[1]===============\"\n",
    "print obj.unique()\n",
    "print obj.value_counts()\n",
    "print obj.isin(['b','c'])\n",
    "print \"================[2]===============\"\n",
    "# 查找Series中元素值为'b'或'c'的元素\n",
    "print obj[obj.isin(['b','c'])]\n",
    "print \"================[3]===============\"\n",
    "indexarr = pd.Index(list('acb'))\n",
    "# obj每个元素在indexarr中的第几个, 不再index中的返回-1\n",
    "indexarr.get_indexer(obj)\n",
    "# DataFrame的value_counts()\n",
    "print df\n",
    "df.apply(pd.value_counts)"
   ]
  },
  {
   "cell_type": "code",
   "execution_count": null,
   "metadata": {
    "collapsed": true
   },
   "outputs": [],
   "source": []
  }
 ],
 "metadata": {
  "kernelspec": {
   "display_name": "Python 2",
   "language": "python",
   "name": "python2"
  },
  "language_info": {
   "codemirror_mode": {
    "name": "ipython",
    "version": 2
   },
   "file_extension": ".py",
   "mimetype": "text/x-python",
   "name": "python",
   "nbconvert_exporter": "python",
   "pygments_lexer": "ipython2",
   "version": "2.7.14"
  }
 },
 "nbformat": 4,
 "nbformat_minor": 2
}
