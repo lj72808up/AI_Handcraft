{
 "cells": [
  {
   "cell_type": "code",
   "execution_count": 51,
   "metadata": {
    "collapsed": true
   },
   "outputs": [],
   "source": [
    "import pandas as pd\n",
    "from pandas import Series\n",
    "from pandas import DataFrame\n",
    "import numpy as np"
   ]
  },
  {
   "cell_type": "markdown",
   "metadata": {},
   "source": [
    "pandas基于numpy的数组结构创建的, 虽然保留了numpy的数组操作, 但其主要任务为处理表格和混杂数据\n",
    "\n",
    "### 1.1 Series\n",
    "#### 1. Series结构 = index + 一维数组.  \n",
    "  1. index获取 : Series.index属性  \n",
    "    1. 创建Series时, 若没有指定index, 则默认添加从0开始递增1的索引\n",
    "    2. 若想创建Series时指定索引, 可以使用Series(values,index=[..])\n",
    "  2. 一维数组获取 : Series.values属性  \n"
   ]
  },
  {
   "cell_type": "code",
   "execution_count": 18,
   "metadata": {},
   "outputs": [
    {
     "name": "stdout",
     "output_type": "stream",
     "text": [
      "0    1\n",
      "1    3\n",
      "2    2\n",
      "3    5\n",
      "dtype: int64\n",
      "=============[1]============\n",
      "RangeIndex(start=0, stop=4, step=1)\n",
      "[1 3 2 5]\n",
      "=============[2]============\n"
     ]
    },
    {
     "data": {
      "text/plain": [
       "Index([u'a', u'b', u'c', u'd'], dtype='object')"
      ]
     },
     "execution_count": 18,
     "metadata": {},
     "output_type": "execute_result"
    }
   ],
   "source": [
    "obj = Series([1,3,2,5])\n",
    "# Series显示 : 左侧为index,右侧为一维数组\n",
    "print obj  \n",
    "print \"=============[1]============\"\n",
    "print obj.index\n",
    "print obj.values\n",
    "print \"=============[2]============\"\n",
    "# 创建带index的Series\n",
    "obj = Series([1,2,3,4],index=['a','b','c','d'])\n",
    "obj.index"
   ]
  },
  {
   "cell_type": "markdown",
   "metadata": {},
   "source": [
    "#### 2. 与numpy不同, pandas可以通过索引选取元素  \n",
    "  1. 使用Series[index]选取元素\n",
    "  2. 使用Series[index] = newVal更新元素值\n",
    "  3. 使用Series[[index1,index2..]]选取多个元素, 返回一个新的Series(index不变)\n",
    "  3. 使用numpy的数组函数会保留Series的index. 仍返回Series"
   ]
  },
  {
   "cell_type": "code",
   "execution_count": 27,
   "metadata": {},
   "outputs": [
    {
     "name": "stdout",
     "output_type": "stream",
     "text": [
      "obj[a] = 1\n",
      "=============[1]============\n",
      "a     1\n",
      "b    99\n",
      "dtype: int64\n",
      "========numpy的数组函数不改变Series的index=======\n"
     ]
    },
    {
     "data": {
      "text/plain": [
       "a    2.718282e+00\n",
       "b    9.889030e+42\n",
       "dtype: float64"
      ]
     },
     "execution_count": 27,
     "metadata": {},
     "output_type": "execute_result"
    }
   ],
   "source": [
    "print \"obj[a] = %s\" % obj['a']\n",
    "print \"=============[1]============\"\n",
    "obj2 = obj[['a','b']]\n",
    "obj2['b'] = 99\n",
    "print obj2\n",
    "print \"========numpy的数组函数不改变Series的index=======\"\n",
    "np.exp(obj2)"
   ]
  },
  {
   "cell_type": "markdown",
   "metadata": {},
   "source": [
    "#### 3. Series与字典\n",
    "1. 可以看做一个定长有序字典, 因为他是多对(index->value)的映射. 因此Series可以使用大部分字典函数\n",
    "2. 可以通过字典直接创建Series. 字典为(rowIdx->value)\n",
    "3. 仅通过字典创建的Series, 其元素自动按照字典的key进行排列.若创建Series时指定index的顺序, 则Series元素按照index的顺序排序\n",
    "4. 可以使用pandas的isnull判断Series的字典中的value是否为NaN数据 (空数据)"
   ]
  },
  {
   "cell_type": "code",
   "execution_count": 45,
   "metadata": {},
   "outputs": [
    {
     "name": "stdout",
     "output_type": "stream",
     "text": [
      "True\n",
      "{'a': 1, 'c': 7, 'b': 5, 'd': 9}\n",
      "a    1\n",
      "b    5\n",
      "c    7\n",
      "d    9\n",
      "dtype: int64\n",
      "=============[1]============\n",
      "b    5\n",
      "a    1\n",
      "c    7\n",
      "d    9\n",
      "dtype: int64\n",
      "=============[2]============\n",
      "b    False\n",
      "a    False\n",
      "c    False\n",
      "d    False\n",
      "dtype: bool\n"
     ]
    }
   ],
   "source": [
    "# 使用字典函数操作Series\n",
    "print ('a' in obj)\n",
    "# 通过字典直接创建Series\n",
    "data = {'d':9,'b':5,'c':7,'a':1}\n",
    "obj = Series(data)  # 自动排列\n",
    "print data\n",
    "print obj\n",
    "print \"=============[1]============\"\n",
    "obj = Series(data,index=['b','a','c','d'])\n",
    "print obj\n",
    "print \"=============[2]============\"\n",
    "print pd.isnull(obj) # value是否为NaN"
   ]
  },
  {
   "cell_type": "markdown",
   "metadata": {},
   "source": [
    "#### 4. Series的一些其他概念\n",
    "1. Series之间进行数据运算时, 会按照index对齐数据\n",
    "2. Series自身和其index对象, 都有name属性, 该属性和其他关键功能密切相关\n",
    "3. Series的index可以通过赋值而改变"
   ]
  },
  {
   "cell_type": "code",
   "execution_count": 50,
   "metadata": {},
   "outputs": [
    {
     "name": "stdout",
     "output_type": "stream",
     "text": [
      "a    2.0\n",
      "b    3.0\n",
      "c    4.0\n",
      "d    NaN\n",
      "e    NaN\n",
      "dtype: float64\n",
      "=============[1]============\n",
      "state\n",
      "a    1\n",
      "b    1\n",
      "c    1\n",
      "d    1\n",
      "Name: population, dtype: int64\n",
      "=============[2]============\n",
      "aa    1\n",
      "bb    1\n",
      "cc    1\n",
      "dd    1\n",
      "Name: population, dtype: int64\n"
     ]
    }
   ],
   "source": [
    "# index对齐数据\n",
    "obj1 = Series([1,1,1,1],index=[\"a\",\"b\",\"c\",\"d\"])\n",
    "obj2 = Series([1,2,3,4],index=[\"a\",\"b\",\"c\",\"e\"])\n",
    "print obj1+obj2\n",
    "print \"=============[1]============\"\n",
    "# name属性\n",
    "obj1.name = \"population\"\n",
    "obj1.index.name = \"state\"\n",
    "print obj1\n",
    "print \"=============[2]============\"\n",
    "# index改变\n",
    "obj1.index = ['aa','bb','cc','dd']\n",
    "print obj1"
   ]
  },
  {
   "cell_type": "markdown",
   "metadata": {},
   "source": [
    "## 1.2 DataFrame\n",
    "\n",
    "#### 1. DataFrame基本概念\n",
    "1. 一个DataFrame就是一个表格.由一组Series组成. 这些Series长度相同, 且共用一个索引\n",
    "2. DataFrame也可看做Series组成的字典,字典形式为(columnIdx->Series)\n",
    "3. DataFrame有航索引和列索引\n",
    "\n",
    "#### 2. DataFrame创建\n",
    "1. DataFrame也可以看做一个字典, 其字典形式为(columnIdx,一维数组).因此可以通过字典创建DataFrame, \n",
    "2. 若创建时同时指定了字典和columnIdx, 则会按照columnIdx的顺序构造DataFrame.   \n",
    " 若columnIdx中包含字典中不存在的key, 则DataFrame这列值为NaN"
   ]
  },
  {
   "cell_type": "code",
   "execution_count": 56,
   "metadata": {},
   "outputs": [
    {
     "name": "stdout",
     "output_type": "stream",
     "text": [
      "   age      name\n",
      "0   22  zhangsan\n",
      "1   27      lisi\n",
      "2   25    wangwu\n",
      "=============[1]============\n",
      "   age      name score\n",
      "0   22  zhangsan   NaN\n",
      "1   27      lisi   NaN\n",
      "2   25    wangwu   NaN\n"
     ]
    }
   ],
   "source": [
    "data = {'name':['zhangsan','lisi','wangwu'],\n",
    "       'age':[22,27,25]}\n",
    "df = DataFrame(data)\n",
    "print df\n",
    "print (\"=============[1]============\")\n",
    "df2 = DataFrame(data,columns=['age','name','score'])\n",
    "print df2"
   ]
  },
  {
   "cell_type": "markdown",
   "metadata": {},
   "source": [
    "#### 3. DataFrame元素选取\n",
    "1. 通过DataFrame对应字典的key,选取一维数组. 返回Series\n",
    "2. DataFrame对应字典的key已经作为DataFrame的属性存在. 因此可以通过DataFrame.\"key name\"选取一维数组Series\n",
    "[注]: 无论哪种方式选取DataFrame中的Series, 返回的Series都和DataFrame有相同的索引(但不共用)"
   ]
  },
  {
   "cell_type": "code",
   "execution_count": 62,
   "metadata": {},
   "outputs": [
    {
     "name": "stdout",
     "output_type": "stream",
     "text": [
      "a    22\n",
      "b    27\n",
      "c    25\n",
      "Name: age, dtype: int64\n",
      "=============[1]============\n",
      "a    22\n",
      "b    27\n",
      "c    25\n",
      "Name: age, dtype: int64\n"
     ]
    }
   ],
   "source": [
    "print df['age']\n",
    "print (\"=============[1]============\")\n",
    "obj = df.age\n",
    "print obj"
   ]
  },
  {
   "cell_type": "markdown",
   "metadata": {},
   "source": [
    "#### 4. 通过赋值方式更新DataFrame的Series\n",
    "1. 指定DataFrame的某列Series为一个标量, 则该Series的所有元素值都等于这个标量值\n",
    "2. 指定DataFrame的某列Series为一个新的Series, 则这两个Series之间的rowindex会一一对应进行匹配\n",
    "3. del关键字可以物理删除DataFrame的一个Series\n",
    "4. 通过DataFrame['newColumnIdx']添加一个新的Series"
   ]
  },
  {
   "cell_type": "code",
   "execution_count": 68,
   "metadata": {},
   "outputs": [
    {
     "name": "stdout",
     "output_type": "stream",
     "text": [
      "   age      name  score\n",
      "0   22  zhangsan    100\n",
      "1   27      lisi    100\n",
      "2   25    wangwu    100\n",
      "==============[1]============\n",
      "   age      name  score\n",
      "0   22  zhangsan     99\n",
      "1   27      lisi    100\n",
      "2   25    wangwu     98\n",
      "==============[2]============\n",
      "   age      name\n",
      "0   22  zhangsan\n",
      "1   27      lisi\n",
      "2   25    wangwu\n",
      "==============[3]============\n",
      "   age      name  ageBool\n",
      "0   22  zhangsan    False\n",
      "1   27      lisi     True\n",
      "2   25    wangwu    False\n"
     ]
    }
   ],
   "source": [
    "df2['score'] = 100\n",
    "print df2\n",
    "print (\"==============[1]============\")\n",
    "df2['score'] = Series([99,100,98])\n",
    "print df2\n",
    "print (\"==============[2]============\")\n",
    "del df2['score']\n",
    "print df2\n",
    "print (\"==============[3]============\")\n",
    "df2['ageBool'] = df2['age']>25\n",
    "print df2"
   ]
  },
  {
   "cell_type": "markdown",
   "metadata": {},
   "source": [
    "#### 5. DataFrame的其他概念\n",
    "1. DataFrame的创建方式有很多种, 例如\n",
    "  1. DataFrame(二维ndArray)\n",
    "  2. DataFrame(dict('columnIdx'->List))\n",
    "  3. DataFrame(dict('columnIdx'->Series))\n",
    "  4. DataFrame(dict('columnIdx'->dict('rowIdx'->标量值) ))\n",
    "2. DataFrame的index和columns都由name属性"
   ]
  },
  {
   "cell_type": "code",
   "execution_count": null,
   "metadata": {
    "collapsed": true
   },
   "outputs": [],
   "source": []
  }
 ],
 "metadata": {
  "kernelspec": {
   "display_name": "Python 2",
   "language": "python",
   "name": "python2"
  },
  "language_info": {
   "codemirror_mode": {
    "name": "ipython",
    "version": 2
   },
   "file_extension": ".py",
   "mimetype": "text/x-python",
   "name": "python",
   "nbconvert_exporter": "python",
   "pygments_lexer": "ipython2",
   "version": "2.7.14"
  }
 },
 "nbformat": 4,
 "nbformat_minor": 2
}
