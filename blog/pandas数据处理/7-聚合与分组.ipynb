{
 "cells": [
  {
   "cell_type": "code",
   "execution_count": 4,
   "metadata": {},
   "outputs": [],
   "source": [
    "import pandas as pd\n",
    "from pandas import Series,DataFrame\n",
    "import numpy as np"
   ]
  },
  {
   "cell_type": "markdown",
   "metadata": {
    "collapsed": true
   },
   "source": [
    "### 7.1 GroupBy机制\n",
    "\n",
    "#### 一.  基本概念\n",
    "1. groupby在R语言中又叫做,\"split-apply-combine\"  \n",
    "  1. pandas数据结构根据传进来的key拆分为多个分组\n",
    "  2. 将一个函数应用到每个分组产生各自的结果\n",
    "  3. 组合这些结果到新的对象, 作为返回\n",
    "2. 分组中的缺失值会被自动忽略.   \n",
    "3. 查看分组情况 :  \n",
    " GroupBy.size()返回一个Series, 该Series的多层index表示分组数值. 数据为该分组内有几个数据 \n",
    "  \n",
    "#### 二.  Series的分组  \n",
    "  1. `Series.groupBy(otherSeries)` : 按照`otherSeries`的值分组, 然后把分组后的index复用到Series上, 形成分组信息\n",
    "  2. Series分组后进行聚合操作, 产生的新Series结构为:  \n",
    "   index: otherSeries分好组后的值.  \n",
    "   `index.name=otherSeries.index.name`\n",
    "   新Series的data = 聚合后的数据\n",
    "  3. `Series.groupby(otherSeries1,otherSeries2, ..)` : 按照多个Series进行分组  \n",
    "   按照多个otherSeries分组, 则产生的新Series的索引时多层级的. 第一层为otherSeries1的值, 第二层为otherSeries2的值\n",
    "   \n",
    "#### 三. DataFrame.groupby('columnIdx')  \n",
    "1. DataFrame默认把所有列, 按照`df['columnIdx']`这个Series进行分组   \n",
    " 若分组后执行的聚合函数为mean这种数值函数, 则mean()会自动忽略非数值列\n",
    " \n",
    "2. DataFrame语法糖  \n",
    " `df.groupby('columnidx')['show_columnidx'] = df['show_columnidx'].groupby('columnidx')`"
   ]
  },
  {
   "cell_type": "code",
   "execution_count": 5,
   "metadata": {},
   "outputs": [
    {
     "data": {
      "text/html": [
       "<div>\n",
       "<style>\n",
       "    .dataframe thead tr:only-child th {\n",
       "        text-align: right;\n",
       "    }\n",
       "\n",
       "    .dataframe thead th {\n",
       "        text-align: left;\n",
       "    }\n",
       "\n",
       "    .dataframe tbody tr th {\n",
       "        vertical-align: top;\n",
       "    }\n",
       "</style>\n",
       "<table border=\"1\" class=\"dataframe\">\n",
       "  <thead>\n",
       "    <tr style=\"text-align: right;\">\n",
       "      <th></th>\n",
       "      <th>data1</th>\n",
       "      <th>data2</th>\n",
       "      <th>key1</th>\n",
       "      <th>key2</th>\n",
       "    </tr>\n",
       "  </thead>\n",
       "  <tbody>\n",
       "    <tr>\n",
       "      <th>0</th>\n",
       "      <td>1.055639</td>\n",
       "      <td>0.295956</td>\n",
       "      <td>a</td>\n",
       "      <td>one</td>\n",
       "    </tr>\n",
       "    <tr>\n",
       "      <th>1</th>\n",
       "      <td>1.668246</td>\n",
       "      <td>-0.798594</td>\n",
       "      <td>a</td>\n",
       "      <td>two</td>\n",
       "    </tr>\n",
       "    <tr>\n",
       "      <th>2</th>\n",
       "      <td>-0.779818</td>\n",
       "      <td>1.974093</td>\n",
       "      <td>b</td>\n",
       "      <td>one</td>\n",
       "    </tr>\n",
       "    <tr>\n",
       "      <th>3</th>\n",
       "      <td>-1.046608</td>\n",
       "      <td>1.161606</td>\n",
       "      <td>b</td>\n",
       "      <td>two</td>\n",
       "    </tr>\n",
       "    <tr>\n",
       "      <th>4</th>\n",
       "      <td>-0.527844</td>\n",
       "      <td>2.275711</td>\n",
       "      <td>a</td>\n",
       "      <td>one</td>\n",
       "    </tr>\n",
       "  </tbody>\n",
       "</table>\n",
       "</div>"
      ],
      "text/plain": [
       "      data1     data2 key1 key2\n",
       "0  1.055639  0.295956    a  one\n",
       "1  1.668246 -0.798594    a  two\n",
       "2 -0.779818  1.974093    b  one\n",
       "3 -1.046608  1.161606    b  two\n",
       "4 -0.527844  2.275711    a  one"
      ]
     },
     "execution_count": 5,
     "metadata": {},
     "output_type": "execute_result"
    }
   ],
   "source": [
    "df = DataFrame({'key1' : ['a', 'a', 'b', 'b', 'a'],\n",
    "                'key2' : ['one', 'two', 'one', 'two', 'one'],\n",
    "                'data1' : np.random.randn(5),\n",
    "                'data2' : np.random.randn(5)})\n",
    "df"
   ]
  },
  {
   "cell_type": "code",
   "execution_count": 8,
   "metadata": {},
   "outputs": [
    {
     "data": {
      "text/plain": [
       "<pandas.core.groupby.SeriesGroupBy object at 0x10f11d250>"
      ]
     },
     "execution_count": 8,
     "metadata": {},
     "output_type": "execute_result"
    }
   ],
   "source": [
    "# SeriesGroupBy对象实际没有进行任何运算, \n",
    "# 只是根据df['key1']这个Series的值进行分组后, 把分好组的index复用到df['data1']上\n",
    "grouped = df['data1'].groupby(df['key1'])\n",
    "grouped"
   ]
  },
  {
   "cell_type": "code",
   "execution_count": 9,
   "metadata": {},
   "outputs": [
    {
     "data": {
      "text/plain": [
       "key1\n",
       "a    0.732014\n",
       "b   -0.913213\n",
       "Name: data1, dtype: float64"
      ]
     },
     "execution_count": 9,
     "metadata": {},
     "output_type": "execute_result"
    }
   ],
   "source": [
    "grouped.mean()"
   ]
  },
  {
   "cell_type": "code",
   "execution_count": 14,
   "metadata": {},
   "outputs": [
    {
     "data": {
      "text/plain": [
       "key1  key2\n",
       "a     one     0.263897\n",
       "      two     1.668246\n",
       "b     one    -0.779818\n",
       "      two    -1.046608\n",
       "Name: data1, dtype: float64"
      ]
     },
     "execution_count": 14,
     "metadata": {},
     "output_type": "execute_result"
    }
   ],
   "source": [
    "# Series.groupby(otherSeries1,otherSeries2)\n",
    "means = df['data1'].groupby([df['key1'],df['key2']]).mean()\n",
    "means"
   ]
  },
  {
   "cell_type": "code",
   "execution_count": 15,
   "metadata": {},
   "outputs": [
    {
     "data": {
      "text/html": [
       "<div>\n",
       "<style>\n",
       "    .dataframe thead tr:only-child th {\n",
       "        text-align: right;\n",
       "    }\n",
       "\n",
       "    .dataframe thead th {\n",
       "        text-align: left;\n",
       "    }\n",
       "\n",
       "    .dataframe tbody tr th {\n",
       "        vertical-align: top;\n",
       "    }\n",
       "</style>\n",
       "<table border=\"1\" class=\"dataframe\">\n",
       "  <thead>\n",
       "    <tr style=\"text-align: right;\">\n",
       "      <th>key2</th>\n",
       "      <th>one</th>\n",
       "      <th>two</th>\n",
       "    </tr>\n",
       "    <tr>\n",
       "      <th>key1</th>\n",
       "      <th></th>\n",
       "      <th></th>\n",
       "    </tr>\n",
       "  </thead>\n",
       "  <tbody>\n",
       "    <tr>\n",
       "      <th>a</th>\n",
       "      <td>0.263897</td>\n",
       "      <td>1.668246</td>\n",
       "    </tr>\n",
       "    <tr>\n",
       "      <th>b</th>\n",
       "      <td>-0.779818</td>\n",
       "      <td>-1.046608</td>\n",
       "    </tr>\n",
       "  </tbody>\n",
       "</table>\n",
       "</div>"
      ],
      "text/plain": [
       "key2       one       two\n",
       "key1                    \n",
       "a     0.263897  1.668246\n",
       "b    -0.779818 -1.046608"
      ]
     },
     "execution_count": 15,
     "metadata": {},
     "output_type": "execute_result"
    }
   ],
   "source": [
    "means.unstack()"
   ]
  },
  {
   "cell_type": "code",
   "execution_count": 17,
   "metadata": {},
   "outputs": [
    {
     "data": {
      "text/html": [
       "<div>\n",
       "<style>\n",
       "    .dataframe thead tr:only-child th {\n",
       "        text-align: right;\n",
       "    }\n",
       "\n",
       "    .dataframe thead th {\n",
       "        text-align: left;\n",
       "    }\n",
       "\n",
       "    .dataframe tbody tr th {\n",
       "        vertical-align: top;\n",
       "    }\n",
       "</style>\n",
       "<table border=\"1\" class=\"dataframe\">\n",
       "  <thead>\n",
       "    <tr style=\"text-align: right;\">\n",
       "      <th></th>\n",
       "      <th>data1</th>\n",
       "      <th>data2</th>\n",
       "    </tr>\n",
       "    <tr>\n",
       "      <th>key1</th>\n",
       "      <th></th>\n",
       "      <th></th>\n",
       "    </tr>\n",
       "  </thead>\n",
       "  <tbody>\n",
       "    <tr>\n",
       "      <th>a</th>\n",
       "      <td>0.732014</td>\n",
       "      <td>0.591024</td>\n",
       "    </tr>\n",
       "    <tr>\n",
       "      <th>b</th>\n",
       "      <td>-0.913213</td>\n",
       "      <td>1.567850</td>\n",
       "    </tr>\n",
       "  </tbody>\n",
       "</table>\n",
       "</div>"
      ],
      "text/plain": [
       "         data1     data2\n",
       "key1                    \n",
       "a     0.732014  0.591024\n",
       "b    -0.913213  1.567850"
      ]
     },
     "execution_count": 17,
     "metadata": {},
     "output_type": "execute_result"
    }
   ],
   "source": [
    "# DataFrame分组\n",
    "# mean()自动忽略非数值列'key2'\n",
    "df.groupby('key1').mean()"
   ]
  },
  {
   "cell_type": "code",
   "execution_count": 20,
   "metadata": {},
   "outputs": [
    {
     "data": {
      "text/plain": [
       "key1  key2\n",
       "a     one     2\n",
       "      two     1\n",
       "b     one     1\n",
       "      two     1\n",
       "dtype: int64"
      ]
     },
     "execution_count": 20,
     "metadata": {},
     "output_type": "execute_result"
    }
   ],
   "source": [
    "# Group.size查看分组情况\n",
    "df.groupby(['key1','key2']).size()"
   ]
  },
  {
   "cell_type": "markdown",
   "metadata": {},
   "source": [
    "#### 四. 分组迭代\n",
    "1. 因为分组条件为多个Series的值区分, 所以可以查看每个分组的层级索引, 及组内包含的数据`Series/DataFrame`  \n",
    " `for name,Group in df.groupby('columnIdx')`\n",
    "2. 通常一个有用的操作是:  \n",
    " 把分组名与分组内容形成字典dict,可使用`dict(list(df.groupby(['columnidx'])))`\n",
    " 1. 用list(GroupBy), 把GroupBy内的iterator元组构成列表\n",
    " 2. 再用dict(list) : 把`(组名,分组内容)`这个列表变成`dict`\n",
    " \n",
    "3. 分组通常是把行分组, 也可指定axis=1,使其把列分组"
   ]
  },
  {
   "cell_type": "code",
   "execution_count": 24,
   "metadata": {},
   "outputs": [
    {
     "name": "stdout",
     "output_type": "stream",
     "text": [
      "('a', 'one')\n",
      "      data1     data2 key1 key2\n",
      "0  1.055639  0.295956    a  one\n",
      "4 -0.527844  2.275711    a  one\n",
      "-------------------------------\n",
      "('a', 'two')\n",
      "      data1     data2 key1 key2\n",
      "1  1.668246 -0.798594    a  two\n",
      "-------------------------------\n",
      "('b', 'one')\n",
      "      data1     data2 key1 key2\n",
      "2 -0.779818  1.974093    b  one\n",
      "-------------------------------\n",
      "('b', 'two')\n",
      "      data1     data2 key1 key2\n",
      "3 -1.046608  1.161606    b  two\n",
      "-------------------------------\n"
     ]
    }
   ],
   "source": [
    "# 迭代查看分组的层级索引与分组内容\n",
    "for name,group in df.groupby(['key1','key2']):\n",
    "    print name\n",
    "    print group\n",
    "    print \"-------------------------------\""
   ]
  },
  {
   "cell_type": "code",
   "execution_count": 27,
   "metadata": {},
   "outputs": [
    {
     "data": {
      "text/plain": [
       "{'a':       data1     data2 key1 key2\n",
       " 0  1.055639  0.295956    a  one\n",
       " 1  1.668246 -0.798594    a  two\n",
       " 4 -0.527844  2.275711    a  one, 'b':       data1     data2 key1 key2\n",
       " 2 -0.779818  1.974093    b  one\n",
       " 3 -1.046608  1.161606    b  two}"
      ]
     },
     "execution_count": 27,
     "metadata": {},
     "output_type": "execute_result"
    }
   ],
   "source": [
    "# 将分组信息包装成dict\n",
    "dict(list(df.groupby('key1')))"
   ]
  },
  {
   "cell_type": "code",
   "execution_count": 37,
   "metadata": {},
   "outputs": [
    {
     "name": "stdout",
     "output_type": "stream",
     "text": [
      "data1    float64\n",
      "data2    float64\n",
      "key1      object\n",
      "key2      object\n",
      "dtype: object\n"
     ]
    }
   ],
   "source": [
    "# 把列分组\n",
    "print df.dtypes # Series\n",
    "grouped = df.groupby(df.dtypes,axis=1)"
   ]
  },
  {
   "cell_type": "code",
   "execution_count": 38,
   "metadata": {},
   "outputs": [
    {
     "name": "stdout",
     "output_type": "stream",
     "text": [
      "float64\n",
      "      data1     data2\n",
      "0  1.055639  0.295956\n",
      "1  1.668246 -0.798594\n",
      "2 -0.779818  1.974093\n",
      "3 -1.046608  1.161606\n",
      "4 -0.527844  2.275711\n",
      "-------------------------------\n",
      "object\n",
      "  key1 key2\n",
      "0    a  one\n",
      "1    a  two\n",
      "2    b  one\n",
      "3    b  two\n",
      "4    a  one\n",
      "-------------------------------\n"
     ]
    }
   ],
   "source": [
    "for dtype,group in grouped:\n",
    "    print dtype\n",
    "    print group\n",
    "    print '-------------------------------'"
   ]
  },
  {
   "cell_type": "markdown",
   "metadata": {},
   "source": [
    "#### 五.  其它分组条件\n",
    "1. 字典做分组条件  \n",
    "  1. 按照字典的value分组, 记录下被分到同一个group的key\n",
    "  2. key对应pandas数据结构的index/columnIdx, 从而对pandas的数据结构进行分组\n",
    "\n",
    "2. 函数作为分组条件  \n",
    "  1. 函数会应用在pandas数据结构的index/columnIdx上, 返回同一个值得作为一个分组\n",
    "  \n",
    "3. 根据索引级别分组"
   ]
  },
  {
   "cell_type": "code",
   "execution_count": 39,
   "metadata": {},
   "outputs": [
    {
     "data": {
      "text/html": [
       "<div>\n",
       "<style>\n",
       "    .dataframe thead tr:only-child th {\n",
       "        text-align: right;\n",
       "    }\n",
       "\n",
       "    .dataframe thead th {\n",
       "        text-align: left;\n",
       "    }\n",
       "\n",
       "    .dataframe tbody tr th {\n",
       "        vertical-align: top;\n",
       "    }\n",
       "</style>\n",
       "<table border=\"1\" class=\"dataframe\">\n",
       "  <thead>\n",
       "    <tr style=\"text-align: right;\">\n",
       "      <th></th>\n",
       "      <th>a</th>\n",
       "      <th>b</th>\n",
       "      <th>c</th>\n",
       "      <th>d</th>\n",
       "      <th>e</th>\n",
       "    </tr>\n",
       "  </thead>\n",
       "  <tbody>\n",
       "    <tr>\n",
       "      <th>Joe</th>\n",
       "      <td>1.268282</td>\n",
       "      <td>0.202598</td>\n",
       "      <td>0.221861</td>\n",
       "      <td>-0.250672</td>\n",
       "      <td>0.927377</td>\n",
       "    </tr>\n",
       "    <tr>\n",
       "      <th>Steve</th>\n",
       "      <td>-0.209567</td>\n",
       "      <td>-0.487329</td>\n",
       "      <td>-0.772916</td>\n",
       "      <td>-0.253466</td>\n",
       "      <td>-0.834534</td>\n",
       "    </tr>\n",
       "    <tr>\n",
       "      <th>Wes</th>\n",
       "      <td>-0.136008</td>\n",
       "      <td>0.324481</td>\n",
       "      <td>0.996862</td>\n",
       "      <td>1.437169</td>\n",
       "      <td>0.602457</td>\n",
       "    </tr>\n",
       "    <tr>\n",
       "      <th>Jim</th>\n",
       "      <td>0.707341</td>\n",
       "      <td>1.161476</td>\n",
       "      <td>-0.337354</td>\n",
       "      <td>-0.728394</td>\n",
       "      <td>-0.717385</td>\n",
       "    </tr>\n",
       "    <tr>\n",
       "      <th>Travis</th>\n",
       "      <td>0.888363</td>\n",
       "      <td>0.277433</td>\n",
       "      <td>0.640911</td>\n",
       "      <td>0.596625</td>\n",
       "      <td>-1.780832</td>\n",
       "    </tr>\n",
       "  </tbody>\n",
       "</table>\n",
       "</div>"
      ],
      "text/plain": [
       "               a         b         c         d         e\n",
       "Joe     1.268282  0.202598  0.221861 -0.250672  0.927377\n",
       "Steve  -0.209567 -0.487329 -0.772916 -0.253466 -0.834534\n",
       "Wes    -0.136008  0.324481  0.996862  1.437169  0.602457\n",
       "Jim     0.707341  1.161476 -0.337354 -0.728394 -0.717385\n",
       "Travis  0.888363  0.277433  0.640911  0.596625 -1.780832"
      ]
     },
     "execution_count": 39,
     "metadata": {},
     "output_type": "execute_result"
    }
   ],
   "source": [
    "people = pd.DataFrame(np.random.randn(5, 5),\n",
    "                      columns=['a', 'b', 'c', 'd', 'e'],\n",
    "                      index=['Joe', 'Steve', 'Wes', 'Jim', 'Travis'])\n",
    "people"
   ]
  },
  {
   "cell_type": "code",
   "execution_count": 42,
   "metadata": {},
   "outputs": [
    {
     "data": {
      "text/html": [
       "<div>\n",
       "<style>\n",
       "    .dataframe thead tr:only-child th {\n",
       "        text-align: right;\n",
       "    }\n",
       "\n",
       "    .dataframe thead th {\n",
       "        text-align: left;\n",
       "    }\n",
       "\n",
       "    .dataframe tbody tr th {\n",
       "        vertical-align: top;\n",
       "    }\n",
       "</style>\n",
       "<table border=\"1\" class=\"dataframe\">\n",
       "  <thead>\n",
       "    <tr style=\"text-align: right;\">\n",
       "      <th></th>\n",
       "      <th>blue</th>\n",
       "      <th>red</th>\n",
       "    </tr>\n",
       "  </thead>\n",
       "  <tbody>\n",
       "    <tr>\n",
       "      <th>Joe</th>\n",
       "      <td>-0.028811</td>\n",
       "      <td>2.398257</td>\n",
       "    </tr>\n",
       "    <tr>\n",
       "      <th>Steve</th>\n",
       "      <td>-1.026383</td>\n",
       "      <td>-1.531429</td>\n",
       "    </tr>\n",
       "    <tr>\n",
       "      <th>Wes</th>\n",
       "      <td>2.434031</td>\n",
       "      <td>0.790930</td>\n",
       "    </tr>\n",
       "    <tr>\n",
       "      <th>Jim</th>\n",
       "      <td>-1.065748</td>\n",
       "      <td>1.151431</td>\n",
       "    </tr>\n",
       "    <tr>\n",
       "      <th>Travis</th>\n",
       "      <td>1.237536</td>\n",
       "      <td>-0.615035</td>\n",
       "    </tr>\n",
       "  </tbody>\n",
       "</table>\n",
       "</div>"
      ],
      "text/plain": [
       "            blue       red\n",
       "Joe    -0.028811  2.398257\n",
       "Steve  -1.026383 -1.531429\n",
       "Wes     2.434031  0.790930\n",
       "Jim    -1.065748  1.151431\n",
       "Travis  1.237536 -0.615035"
      ]
     },
     "execution_count": 42,
     "metadata": {},
     "output_type": "execute_result"
    }
   ],
   "source": [
    "# 字典作为分组条件\n",
    "mapping = {'a': 'red', \n",
    "           'b': 'red', \n",
    "           'c': 'blue',\n",
    "           'd': 'blue', \n",
    "           'e': 'red', \n",
    "           'f': 'orange'}\n",
    "people.groupby(mapping,axis=1).sum()"
   ]
  },
  {
   "cell_type": "code",
   "execution_count": 43,
   "metadata": {},
   "outputs": [
    {
     "data": {
      "text/html": [
       "<div>\n",
       "<style>\n",
       "    .dataframe thead tr:only-child th {\n",
       "        text-align: right;\n",
       "    }\n",
       "\n",
       "    .dataframe thead th {\n",
       "        text-align: left;\n",
       "    }\n",
       "\n",
       "    .dataframe tbody tr th {\n",
       "        vertical-align: top;\n",
       "    }\n",
       "</style>\n",
       "<table border=\"1\" class=\"dataframe\">\n",
       "  <thead>\n",
       "    <tr style=\"text-align: right;\">\n",
       "      <th></th>\n",
       "      <th>a</th>\n",
       "      <th>b</th>\n",
       "      <th>c</th>\n",
       "      <th>d</th>\n",
       "      <th>e</th>\n",
       "    </tr>\n",
       "  </thead>\n",
       "  <tbody>\n",
       "    <tr>\n",
       "      <th>3</th>\n",
       "      <td>1.839615</td>\n",
       "      <td>1.688555</td>\n",
       "      <td>0.881369</td>\n",
       "      <td>0.458103</td>\n",
       "      <td>0.812449</td>\n",
       "    </tr>\n",
       "    <tr>\n",
       "      <th>5</th>\n",
       "      <td>-0.209567</td>\n",
       "      <td>-0.487329</td>\n",
       "      <td>-0.772916</td>\n",
       "      <td>-0.253466</td>\n",
       "      <td>-0.834534</td>\n",
       "    </tr>\n",
       "    <tr>\n",
       "      <th>6</th>\n",
       "      <td>0.888363</td>\n",
       "      <td>0.277433</td>\n",
       "      <td>0.640911</td>\n",
       "      <td>0.596625</td>\n",
       "      <td>-1.780832</td>\n",
       "    </tr>\n",
       "  </tbody>\n",
       "</table>\n",
       "</div>"
      ],
      "text/plain": [
       "          a         b         c         d         e\n",
       "3  1.839615  1.688555  0.881369  0.458103  0.812449\n",
       "5 -0.209567 -0.487329 -0.772916 -0.253466 -0.834534\n",
       "6  0.888363  0.277433  0.640911  0.596625 -1.780832"
      ]
     },
     "execution_count": 43,
     "metadata": {},
     "output_type": "execute_result"
    }
   ],
   "source": [
    "# 函数作为分组条件\n",
    "people.groupby(len).sum()"
   ]
  },
  {
   "cell_type": "code",
   "execution_count": 49,
   "metadata": {},
   "outputs": [
    {
     "data": {
      "text/html": [
       "<div>\n",
       "<style>\n",
       "    .dataframe thead tr:only-child th {\n",
       "        text-align: right;\n",
       "    }\n",
       "\n",
       "    .dataframe thead th {\n",
       "        text-align: left;\n",
       "    }\n",
       "\n",
       "    .dataframe tbody tr th {\n",
       "        vertical-align: top;\n",
       "    }\n",
       "</style>\n",
       "<table border=\"1\" class=\"dataframe\">\n",
       "  <thead>\n",
       "    <tr>\n",
       "      <th>cty</th>\n",
       "      <th colspan=\"3\" halign=\"left\">US</th>\n",
       "      <th colspan=\"2\" halign=\"left\">JP</th>\n",
       "    </tr>\n",
       "    <tr>\n",
       "      <th>tenor</th>\n",
       "      <th>1</th>\n",
       "      <th>3</th>\n",
       "      <th>5</th>\n",
       "      <th>1</th>\n",
       "      <th>3</th>\n",
       "    </tr>\n",
       "  </thead>\n",
       "  <tbody>\n",
       "    <tr>\n",
       "      <th>0</th>\n",
       "      <td>-0.148032</td>\n",
       "      <td>-1.586521</td>\n",
       "      <td>-1.028079</td>\n",
       "      <td>-0.780357</td>\n",
       "      <td>-1.516666</td>\n",
       "    </tr>\n",
       "    <tr>\n",
       "      <th>1</th>\n",
       "      <td>-0.936890</td>\n",
       "      <td>0.003949</td>\n",
       "      <td>0.472229</td>\n",
       "      <td>-0.011324</td>\n",
       "      <td>-0.460500</td>\n",
       "    </tr>\n",
       "    <tr>\n",
       "      <th>2</th>\n",
       "      <td>0.532280</td>\n",
       "      <td>1.047845</td>\n",
       "      <td>1.070381</td>\n",
       "      <td>0.196122</td>\n",
       "      <td>-0.379646</td>\n",
       "    </tr>\n",
       "    <tr>\n",
       "      <th>3</th>\n",
       "      <td>-0.225431</td>\n",
       "      <td>1.707557</td>\n",
       "      <td>0.838661</td>\n",
       "      <td>0.808399</td>\n",
       "      <td>1.616353</td>\n",
       "    </tr>\n",
       "  </tbody>\n",
       "</table>\n",
       "</div>"
      ],
      "text/plain": [
       "cty          US                            JP          \n",
       "tenor         1         3         5         1         3\n",
       "0     -0.148032 -1.586521 -1.028079 -0.780357 -1.516666\n",
       "1     -0.936890  0.003949  0.472229 -0.011324 -0.460500\n",
       "2      0.532280  1.047845  1.070381  0.196122 -0.379646\n",
       "3     -0.225431  1.707557  0.838661  0.808399  1.616353"
      ]
     },
     "execution_count": 49,
     "metadata": {},
     "output_type": "execute_result"
    }
   ],
   "source": [
    "# 按照索引级别分组\n",
    "columnIdx = pd.MultiIndex.from_arrays([['US','US','US','JP','JP'],[1,3,5,1,3]],\n",
    "                                     names = ['cty','tenor'])\n",
    "df = DataFrame(np.random.randn(4,5),columns=columnIdx)\n",
    "df"
   ]
  },
  {
   "cell_type": "code",
   "execution_count": 50,
   "metadata": {},
   "outputs": [
    {
     "data": {
      "text/html": [
       "<div>\n",
       "<style>\n",
       "    .dataframe thead tr:only-child th {\n",
       "        text-align: right;\n",
       "    }\n",
       "\n",
       "    .dataframe thead th {\n",
       "        text-align: left;\n",
       "    }\n",
       "\n",
       "    .dataframe tbody tr th {\n",
       "        vertical-align: top;\n",
       "    }\n",
       "</style>\n",
       "<table border=\"1\" class=\"dataframe\">\n",
       "  <thead>\n",
       "    <tr style=\"text-align: right;\">\n",
       "      <th>cty</th>\n",
       "      <th>JP</th>\n",
       "      <th>US</th>\n",
       "    </tr>\n",
       "  </thead>\n",
       "  <tbody>\n",
       "    <tr>\n",
       "      <th>0</th>\n",
       "      <td>2</td>\n",
       "      <td>3</td>\n",
       "    </tr>\n",
       "    <tr>\n",
       "      <th>1</th>\n",
       "      <td>2</td>\n",
       "      <td>3</td>\n",
       "    </tr>\n",
       "    <tr>\n",
       "      <th>2</th>\n",
       "      <td>2</td>\n",
       "      <td>3</td>\n",
       "    </tr>\n",
       "    <tr>\n",
       "      <th>3</th>\n",
       "      <td>2</td>\n",
       "      <td>3</td>\n",
       "    </tr>\n",
       "  </tbody>\n",
       "</table>\n",
       "</div>"
      ],
      "text/plain": [
       "cty  JP  US\n",
       "0     2   3\n",
       "1     2   3\n",
       "2     2   3\n",
       "3     2   3"
      ]
     },
     "execution_count": 50,
     "metadata": {},
     "output_type": "execute_result"
    }
   ],
   "source": [
    "df.groupby(level='cty',axis=1).count()"
   ]
  },
  {
   "cell_type": "code",
   "execution_count": null,
   "metadata": {
    "collapsed": true
   },
   "outputs": [],
   "source": []
  }
 ],
 "metadata": {
  "kernelspec": {
   "display_name": "Python 2",
   "language": "python",
   "name": "python2"
  },
  "language_info": {
   "codemirror_mode": {
    "name": "ipython",
    "version": 2
   },
   "file_extension": ".py",
   "mimetype": "text/x-python",
   "name": "python",
   "nbconvert_exporter": "python",
   "pygments_lexer": "ipython2",
   "version": "2.7.14"
  }
 },
 "nbformat": 4,
 "nbformat_minor": 2
}
