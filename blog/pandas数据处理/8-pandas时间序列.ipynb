{
 "cells": [
  {
   "cell_type": "code",
   "execution_count": 144,
   "metadata": {},
   "outputs": [],
   "source": [
    "import matplotlib.pyplot as plt;import seaborn\n",
    "%matplotlib inline "
   ]
  },
  {
   "cell_type": "markdown",
   "metadata": {},
   "source": [
    "### 8.1 python标准库的时间处理函数\n",
    "\n",
    "#### 1. datetime模块\n",
    "1. 当前时间 : `datetime.now`\n",
    "2. datetime对象初始化 : `datetime(year,month,day,hour,minutes,seconds,miliseconds,timezone)`, 参数都是int型"
   ]
  },
  {
   "cell_type": "code",
   "execution_count": 1,
   "metadata": {},
   "outputs": [
    {
     "name": "stdout",
     "output_type": "stream",
     "text": [
      "2018-06-25 17:11:52.508432\n",
      "1991-07-31 11:20:02\n"
     ]
    }
   ],
   "source": [
    "from datetime import datetime \n",
    "print(datetime.now())\n",
    "print(datetime(1991,7,31,11,20,2))"
   ]
  },
  {
   "cell_type": "markdown",
   "metadata": {},
   "source": [
    "#### 2. datetime与string相互转化\n",
    "1. datetime转换为string  \n",
    "  datetime.strftime(TIMEFORMAT) : 转换为对应格式的字符串  \n",
    "   1. %Y\n",
    "   2. %m\n",
    "   3. %d\n",
    "   4. %H\n",
    "   5. %M\n",
    "   6. %S\n",
    "2. string转换为datetime对象  \n",
    "   使用dateutil包, parser.parse(str)  \n",
    "   该方法不用传入时间格式, 自动判断\n",
    "  "
   ]
  },
  {
   "cell_type": "code",
   "execution_count": 2,
   "metadata": {},
   "outputs": [
    {
     "name": "stdout",
     "output_type": "stream",
     "text": [
      "2018-05-19 11:59:00\n",
      "2018-05-19 11:59:00\n"
     ]
    }
   ],
   "source": [
    "# date2str\n",
    "stmp = datetime(2018,5,19,11,59,0)\n",
    "time2str = stmp.strftime('%Y-%m-%d %H:%M:%S')\n",
    "print time2str\n",
    "# str2date\n",
    "from dateutil import parser\n",
    "print parser.parse(time2str)\n"
   ]
  },
  {
   "cell_type": "markdown",
   "metadata": {},
   "source": [
    "#### 3. pandas中转换datetime\n",
    "1. pd.to_datetime(Series/DateFrame/Index)\n",
    "2. pandas中时间空值: Nat , not a time"
   ]
  },
  {
   "cell_type": "code",
   "execution_count": 3,
   "metadata": {},
   "outputs": [
    {
     "name": "stdout",
     "output_type": "stream",
     "text": [
      "DatetimeIndex(['2011-07-06 12:00:00', '2011-08-06 00:00:00', 'NaT'], dtype='datetime64[ns]', freq=None)\n",
      "[False False  True]\n"
     ]
    }
   ],
   "source": [
    "import pandas as pd\n",
    "from pandas import Series,DataFrame,Index\n",
    "pindex = Index(['2011-07-06 12:00:00', '2011-08-06 00:00:00','NaT'])\n",
    "\n",
    "datetimeindex = pd.to_datetime(pindex)\n",
    "\n",
    "print datetimeindex\n",
    "print datetimeindex.isnull()"
   ]
  },
  {
   "cell_type": "markdown",
   "metadata": {},
   "source": [
    "### 8.2 时间序列基础\n",
    "#### 一. pandas中的时间索引\n",
    "1. pandas中, 最基本的时间序列类型是以时间戳为索引的Series. 时间戳可以是python字符串或Datatime类型  \n",
    "2. 两个时间索引的Series之间运算, 会自动按照时间对齐  \n",
    "3. pandas使用numpy的datetime64数据类型以纳秒存储时间戳    \n",
    "4. Datetime索引中每一项都是pandas的Timestamp类型    \n",
    " pandas.Timestamp对象可以随时转换为Datetime对象"
   ]
  },
  {
   "cell_type": "code",
   "execution_count": 4,
   "metadata": {},
   "outputs": [
    {
     "name": "stdout",
     "output_type": "stream",
     "text": [
      "2018-05-01    0.720018\n",
      "2018-05-12    0.657220\n",
      "2018-05-06    0.669968\n",
      "dtype: float64\n",
      "============================\n",
      "DatetimeIndex(['2018-05-01', '2018-05-12', '2018-05-06'], dtype='datetime64[ns]', freq=None)\n",
      "2018-05-01    0.720018\n",
      "2018-05-06    0.669968\n",
      "dtype: float64\n",
      "2018-05-01    1.440036\n",
      "2018-05-06    1.339936\n",
      "2018-05-12         NaN\n",
      "dtype: float64\n",
      "============================\n",
      "datetime64[ns]\n",
      "<class 'pandas.core.indexes.datetimes.DatetimeIndex'>\n",
      "============================\n"
     ]
    },
    {
     "data": {
      "text/plain": [
       "Timestamp('2018-05-01 00:00:00')"
      ]
     },
     "execution_count": 4,
     "metadata": {},
     "output_type": "execute_result"
    }
   ],
   "source": [
    "# 1.时间序列\n",
    "from datetime import datetime\n",
    "import numpy as np\n",
    "data = [datetime(2018,5,1),datetime(2018,5,12),datetime(2018,5,6)]\n",
    "ts = pd.Series(np.random.rand(3),index=data)\n",
    "print ts\n",
    "print '============================'\n",
    "print ts.index\n",
    "# 2.时间序列之间的运算\n",
    "print ts[::2] # 每隔2个取一项\n",
    "print ts + ts[::2]\n",
    "print '============================'\n",
    "# 3.时间类型索引以纳秒存储\n",
    "print ts.index.dtype\n",
    "print type(ts.index)\n",
    "print '============================'\n",
    "# 4.时间索引的每一项都是Tiestamp\n",
    "ts.index[0]"
   ]
  },
  {
   "cell_type": "markdown",
   "metadata": {},
   "source": [
    "#### 二. 递增的时间索引产生\n",
    "1. pd.date_range() 自动生成时间索引  \n",
    "  1. 传入起始时间\n",
    "  2. periods: 生成多少个时间索引\n",
    "  3. freq: 生成索引的时间间隔, 默认是一天  \n",
    "    1. D: 每日\n",
    "    2. B: 每个工作日\n",
    "    3. H: 每小时\n",
    "    4. min: 每分钟\n",
    "    5. M: 每月最后一个日历日\n",
    "    6. BM: bussiness month, 每月最后一个工作日  \n",
    "      ... 此外, 还有很多日历生成规则\n",
    "\n",
    "2. 关于freq属性的其他用法  \n",
    " 除了上面的字母标识外, 还有很多其他表示方法\n",
    "  1. 可以直接传入频率字符串, 比如'3h25min'\n",
    "  2. 'WOM': week of month, 是你能获得注入每月第三个星期五这类\n",
    "<img src='img/pandas-timeseries-freqparam.png'>\n",
    "<img src='img/freq2.png'>\n",
    "<img src='img/freq3.png'>"
   ]
  },
  {
   "cell_type": "code",
   "execution_count": 5,
   "metadata": {},
   "outputs": [
    {
     "data": {
      "text/plain": [
       "DatetimeIndex(['2018-01-01 00:00:00', '2018-01-01 05:00:00',\n",
       "               '2018-01-01 10:00:00', '2018-01-01 15:00:00',\n",
       "               '2018-01-01 20:00:00', '2018-01-02 01:00:00',\n",
       "               '2018-01-02 06:00:00', '2018-01-02 11:00:00',\n",
       "               '2018-01-02 16:00:00', '2018-01-02 21:00:00'],\n",
       "              dtype='datetime64[ns]', freq='5H')"
      ]
     },
     "execution_count": 5,
     "metadata": {},
     "output_type": "execute_result"
    }
   ],
   "source": [
    "# 每隔5小时产生一个索引\n",
    "pd.date_range('2018/01/01',periods=10,freq='5H')"
   ]
  },
  {
   "cell_type": "code",
   "execution_count": 6,
   "metadata": {},
   "outputs": [
    {
     "data": {
      "text/plain": [
       "DatetimeIndex(['2018-01-01 00:00:00', '2018-01-01 03:50:00',\n",
       "               '2018-01-01 07:40:00', '2018-01-01 11:30:00',\n",
       "               '2018-01-01 15:20:00'],\n",
       "              dtype='datetime64[ns]', freq='230T')"
      ]
     },
     "execution_count": 6,
     "metadata": {},
     "output_type": "execute_result"
    }
   ],
   "source": [
    "pd.date_range('2018/01/01',periods=5,freq='3h50min')"
   ]
  },
  {
   "cell_type": "code",
   "execution_count": 7,
   "metadata": {},
   "outputs": [
    {
     "data": {
      "text/plain": [
       "DatetimeIndex(['2018-01-19', '2018-02-16', '2018-03-16', '2018-04-20',\n",
       "               '2018-05-18'],\n",
       "              dtype='datetime64[ns]', freq='WOM-3FRI')"
      ]
     },
     "execution_count": 7,
     "metadata": {},
     "output_type": "execute_result"
    }
   ],
   "source": [
    "pd.date_range('2018/01/01',periods=5,freq='WOM-3FRI')"
   ]
  },
  {
   "cell_type": "markdown",
   "metadata": {},
   "source": [
    "#### 三. 索引选取\n",
    "1. 传入表示时间的字符串  \n",
    "2. 只传入'年','月'的字符串即可对时间序列数据分片  \n",
    "3. 由于时间可以比大小, 因此可以在索引选取时指定时间范围: `start:end`    \n",
    "4. 另一种选取时间范围的数据是 Series.truncate(after='',before='')  \n",
    "  truncate返回的是原始Series的视图, 不改变原Series的数据, 因此也是一种切片操作"
   ]
  },
  {
   "cell_type": "code",
   "execution_count": 8,
   "metadata": {},
   "outputs": [
    {
     "name": "stdout",
     "output_type": "stream",
     "text": [
      "2018-05-01    0.720018\n",
      "dtype: float64\n",
      "============================\n",
      "2002-09-24    0.708581\n",
      "2002-09-25    0.006113\n",
      "2002-09-26    0.795545\n",
      "Freq: D, dtype: float64\n",
      "\n",
      "2001-01-01    0.582442\n",
      "2001-01-02    0.528827\n",
      "2001-01-03    0.546495\n",
      "Freq: D, dtype: float64\n",
      "============================\n",
      "2000-05-01    0.095603\n",
      "2000-05-02    0.757354\n",
      "2000-05-03    0.521666\n",
      "Freq: D, dtype: float64\n"
     ]
    }
   ],
   "source": [
    "# 1. 时间的字符串选取\n",
    "print ts['2018/05/01']\n",
    "print '============================'\n",
    "# 2. 按照'年'切片数据\n",
    "longerts = pd.Series(np.random.rand(1000),index=pd.date_range('2000/1',periods=1000)) # periods:按天递增的个数\n",
    "print longerts[-3:]\n",
    "print ''\n",
    "series_2001 = longerts['2001']\n",
    "print series_2001[:3]\n",
    "print '============================'\n",
    "# 3.按照'月'切片数据\n",
    "series_2001_05 = longerts['2000-05']\n",
    "print series_2001_05[:3]\n"
   ]
  },
  {
   "cell_type": "code",
   "execution_count": 9,
   "metadata": {},
   "outputs": [
    {
     "data": {
      "text/plain": [
       "2000-05-01    0.095603\n",
       "2000-05-02    0.757354\n",
       "2000-05-03    0.521666\n",
       "2000-05-04    0.508035\n",
       "2000-05-05    0.291366\n",
       "Freq: D, dtype: float64"
      ]
     },
     "execution_count": 9,
     "metadata": {},
     "output_type": "execute_result"
    }
   ],
   "source": [
    "# 4. 指定时间范围\n",
    "longerts['2000/5':'2000/6'].head()"
   ]
  },
  {
   "cell_type": "code",
   "execution_count": 10,
   "metadata": {},
   "outputs": [
    {
     "data": {
      "text/plain": [
       "2000-01-01    0.999909\n",
       "2000-01-02    0.226653\n",
       "2000-01-03    0.510374\n",
       "2000-01-04    0.055840\n",
       "2000-01-05    0.624686\n",
       "2000-01-06    0.000185\n",
       "2000-01-07    0.265198\n",
       "2000-01-08    0.828399\n",
       "2000-01-09    0.866666\n",
       "Freq: D, dtype: float64"
      ]
     },
     "execution_count": 10,
     "metadata": {},
     "output_type": "execute_result"
    }
   ],
   "source": [
    "# truncate\n",
    "longerts.truncate(after='2000-01-09')"
   ]
  },
  {
   "cell_type": "markdown",
   "metadata": {},
   "source": [
    "#### 四. 带有重复时间索引的数据\n",
    "1. 检查索引的is_unique属性, 查看索引是否重复\n",
    "2. 通过时间索引值来选取元素时, 要么返回标量, 要么返回切片, 关键看传入的索引是否是重复索引\n",
    "3. 对重复索引聚合使用groupby方法, 传入level=0"
   ]
  },
  {
   "cell_type": "code",
   "execution_count": 11,
   "metadata": {},
   "outputs": [
    {
     "data": {
      "text/plain": [
       "2000-01-01    0\n",
       "2000-01-02    1\n",
       "2000-01-02    2\n",
       "2000-01-02    3\n",
       "2000-01-03    4\n",
       "dtype: int64"
      ]
     },
     "execution_count": 11,
     "metadata": {},
     "output_type": "execute_result"
    }
   ],
   "source": [
    "dates = pd.DatetimeIndex(['1/1/2000', '1/2/2000', '1/2/2000','1/2/2000', '1/3/2000'])\n",
    "dup_ts = pd.Series(np.arange(5),dates)\n",
    "dup_ts"
   ]
  },
  {
   "cell_type": "code",
   "execution_count": 12,
   "metadata": {},
   "outputs": [
    {
     "name": "stdout",
     "output_type": "stream",
     "text": [
      "False\n",
      "============================\n",
      "2000-01-02    1\n",
      "2000-01-02    2\n",
      "2000-01-02    3\n",
      "dtype: int64\n",
      "============================\n"
     ]
    },
    {
     "data": {
      "text/plain": [
       "2000-01-01    0\n",
       "2000-01-02    2\n",
       "2000-01-03    4\n",
       "dtype: int64"
      ]
     },
     "execution_count": 12,
     "metadata": {},
     "output_type": "execute_result"
    }
   ],
   "source": [
    "# 返回False, 表示索引中存在重复元素\n",
    "print dup_ts.index.is_unique\n",
    "print '============================'\n",
    "# 重复索引选取\n",
    "print dup_ts['2000-01-02']\n",
    "print '============================'\n",
    "dup_ts.groupby(level=0).mean()"
   ]
  },
  {
   "cell_type": "markdown",
   "metadata": {},
   "source": [
    "### 8.3 日期的范围,频率及移动"
   ]
  },
  {
   "cell_type": "markdown",
   "metadata": {},
   "source": [
    "#### 一. 超前或滞后数据\n",
    "1. sihft(n) : 整体数据向下移动  \n",
    " shift惭怍不会改变索引的位置, 只会改变column方向上的数据\n",
    "\n",
    "2. 通过偏移量对日期位移  \n",
    "  1. pandas.tseries.offset包含有日期偏移对象 : Day,MonthEnd    \n",
    "  2. MonthEnd偏移的用法 :  \n",
    "    1. MonthEnd(): 当月最后一天  \n",
    "    2. MonthEnd(2): 后一个月最后一天   \n",
    "    3. MonthEnd.rollforward(time)/rollback(time)明确向前/向后进行偏移\n",
    "  \n",
    "3. 通过groupby(fuc), 指定确定同一个分组使用的函数来聚合数据"
   ]
  },
  {
   "cell_type": "code",
   "execution_count": 13,
   "metadata": {},
   "outputs": [
    {
     "data": {
      "text/plain": [
       "2000-01-31    0.652918\n",
       "2000-02-29    0.142376\n",
       "2000-03-31    0.890710\n",
       "2000-04-30    0.821653\n",
       "Freq: M, dtype: float64"
      ]
     },
     "execution_count": 13,
     "metadata": {},
     "output_type": "execute_result"
    }
   ],
   "source": [
    "ts = pd.Series(np.random.rand(4),\n",
    "              index=pd.date_range('2000-01-01',periods=4,freq='M')) # 每月最后一天\n",
    "ts"
   ]
  },
  {
   "cell_type": "code",
   "execution_count": 14,
   "metadata": {},
   "outputs": [
    {
     "name": "stdout",
     "output_type": "stream",
     "text": [
      "2000-01-31         NaN\n",
      "2000-02-29         NaN\n",
      "2000-03-31    0.652918\n",
      "2000-04-30    0.142376\n",
      "Freq: M, dtype: float64\n"
     ]
    },
    {
     "data": {
      "text/plain": [
       "2000-01-31    0.142376\n",
       "2000-02-29    0.890710\n",
       "2000-03-31    0.821653\n",
       "2000-04-30         NaN\n",
       "Freq: M, dtype: float64"
      ]
     },
     "execution_count": 14,
     "metadata": {},
     "output_type": "execute_result"
    }
   ],
   "source": [
    "# 1.shift偏移\n",
    "print ts.shift(2)\n",
    "ts.shift(-1)"
   ]
  },
  {
   "cell_type": "code",
   "execution_count": 15,
   "metadata": {},
   "outputs": [
    {
     "name": "stdout",
     "output_type": "stream",
     "text": [
      "now + 2*Day 2018-06-27 17:12:02.727769\n",
      "now + MonthEnd 2018-06-30 17:12:02.727769\n",
      "now + 2MonthEnd 2018-07-31 17:12:02.727769\n",
      "============================\n",
      "offset.rollforward(now) :  2018-06-30 17:12:02.727769\n",
      "offset.rollback(now) 2018-05-31 17:12:02.727769\n"
     ]
    }
   ],
   "source": [
    "# 2. 偏移量移动时间\n",
    "from pandas.tseries.offsets import Day,MonthEnd\n",
    "now = datetime.now()\n",
    "print 'now + 2*Day',now + 2*Day()\n",
    "print 'now + MonthEnd',now + MonthEnd() \n",
    "print 'now + 2MonthEnd',now + MonthEnd(2)\n",
    "\n",
    "print '============================'\n",
    "\n",
    "# MonthEnd锚点偏移\n",
    "offset = MonthEnd()\n",
    "print 'offset.rollforward(now) : ',offset.rollforward(now)\n",
    "print 'offset.rollback(now)',offset.rollback(now)"
   ]
  },
  {
   "cell_type": "code",
   "execution_count": 16,
   "metadata": {},
   "outputs": [
    {
     "name": "stdout",
     "output_type": "stream",
     "text": [
      "2000-01-01    0.176378\n",
      "2000-01-06    0.505072\n",
      "2000-01-11    0.467735\n",
      "2000-01-16    0.052345\n",
      "2000-01-21    0.603347\n",
      "2000-01-26    0.546968\n",
      "2000-01-31    0.416843\n",
      "2000-02-05    0.223416\n",
      "2000-02-10    0.086985\n",
      "2000-02-15    0.276159\n",
      "Freq: 5D, dtype: float64\n"
     ]
    },
    {
     "data": {
      "text/plain": [
       "2000-01-01    0.176378\n",
       "2000-02-01    0.432052\n",
       "2000-03-01    0.195520\n",
       "dtype: float64"
      ]
     },
     "execution_count": 16,
     "metadata": {},
     "output_type": "execute_result"
    }
   ],
   "source": [
    "# 3. groupby(func)\n",
    "ts = pd.Series(np.random.rand(10),\n",
    "              index=pd.date_range('2000-01-01',periods=10,freq='5d'))\n",
    "print ts\n",
    "from pandas.tseries import offsets \n",
    "offset = offsets.MonthBegin()\n",
    "ts.groupby(offset.rollforward).mean()"
   ]
  },
  {
   "cell_type": "markdown",
   "metadata": {},
   "source": [
    "### 8.4 时区处理\n",
    "#### 一. 何为时区\n",
    "1. 以格林威治时间(UTC)为世界时间标准.\n",
    "2. 时区以格林威治时间偏移量来表示\n",
    "3. python的pytz包, 有关时区的信息都在这里  \n",
    "  1. 获取所有时区: `pytz.common_timezones`\n",
    "  2. 创建时区对象: `pytz.timezone`"
   ]
  },
  {
   "cell_type": "code",
   "execution_count": 17,
   "metadata": {},
   "outputs": [
    {
     "name": "stdout",
     "output_type": "stream",
     "text": [
      "['Africa/Abidjan', 'Africa/Accra', 'Africa/Addis_Ababa']\n",
      "[u'Asia/Shanghai', u'Asia/Urumqi']\n"
     ]
    },
    {
     "data": {
      "text/plain": [
       "<DstTzInfo 'Asia/Shanghai' LMT+8:06:00 STD>"
      ]
     },
     "execution_count": 17,
     "metadata": {},
     "output_type": "execute_result"
    }
   ],
   "source": [
    "# 查看前三个时区\n",
    "import pytz\n",
    "print pytz.common_timezones[:3]\n",
    "print pytz.country_timezones('cn')\n",
    "pytz.timezone('Asia/Shanghai')"
   ]
  },
  {
   "cell_type": "markdown",
   "metadata": {},
   "source": [
    "#### 二. pandas时区本地化和转换\n",
    "1. pandas中的时间索引, 默认不带时区\n",
    "2. 将Series/DataFrame转变为带时区(本地化)的 : `Series/DataFrame.tz_localize('UTC..')`\n",
    "3. 时区转换: `Series/DataFrame.tz_convert('')`\n",
    "4. 上述两个方法, 也可以应用在DateIndex上"
   ]
  },
  {
   "cell_type": "code",
   "execution_count": 18,
   "metadata": {},
   "outputs": [
    {
     "name": "stdout",
     "output_type": "stream",
     "text": [
      "None\n",
      "不带时区:\n",
      "1990-01-01 09:30:00    0.552647\n",
      "1990-01-02 09:30:00    0.906692\n",
      "1990-01-03 09:30:00    0.010798\n",
      "1990-01-04 09:30:00    0.077870\n",
      "1990-01-05 09:30:00    0.289107\n",
      "1990-01-06 09:30:00    0.142588\n",
      "Freq: D, dtype: float64\n",
      "带时区:\n",
      "1990-01-01 09:30:00+00:00    0.552647\n",
      "1990-01-02 09:30:00+00:00    0.906692\n",
      "1990-01-03 09:30:00+00:00    0.010798\n",
      "1990-01-04 09:30:00+00:00    0.077870\n",
      "1990-01-05 09:30:00+00:00    0.289107\n",
      "1990-01-06 09:30:00+00:00    0.142588\n",
      "Freq: D, dtype: float64\n",
      "东八区\n",
      "1990-01-01 17:30:00+08:00    0.552647\n",
      "1990-01-02 17:30:00+08:00    0.906692\n",
      "1990-01-03 17:30:00+08:00    0.010798\n",
      "1990-01-04 17:30:00+08:00    0.077870\n",
      "1990-01-05 17:30:00+08:00    0.289107\n",
      "1990-01-06 17:30:00+08:00    0.142588\n",
      "Freq: D, dtype: float64\n"
     ]
    }
   ],
   "source": [
    "dateIdx = pd.date_range('1990-01-01 9:30',periods=6,freq='D')\n",
    "ts = pd.Series(np.random.rand(6),index=dateIdx)\n",
    "print ts.index.tz #None, 默认没有时区\n",
    "print '不带时区:\\n',ts \n",
    "ts_utc = ts.tz_localize('UTC')\n",
    "print '带时区:\\n', ts_utc\n",
    "print '东八区\\n', ts_utc.tz_convert('Asia/Shanghai')"
   ]
  },
  {
   "cell_type": "markdown",
   "metadata": {},
   "source": [
    "#### 三. pandas的Timestamp对象也可以设置时区\n",
    "1. 创建Timestamp对象 : `pd.Timestamp('time')`\n",
    "2. pands的时间索引,无论带什么时区, 内部都按照UTC时区存储\n",
    "2. 分配时区和更改时区:  \n",
    "  `Timestamp.tz_convert`与`Timestamp.tz_localize`\n",
    "3. offset对象与时间运算, 会保留时区\n",
    "4. 不同时区索引的pandas数据结构进行运算时, 会按照UTC时间对齐索引, 并返回UTC类型的索引"
   ]
  },
  {
   "cell_type": "code",
   "execution_count": 19,
   "metadata": {},
   "outputs": [
    {
     "name": "stdout",
     "output_type": "stream",
     "text": [
      "2011-09-09 11:20:00\n",
      "2011-09-09 11:20:00+08:00\n",
      "2011-09-09 03:20:00+00:00\n",
      "2011-09-09 13:20:00+08:00\n",
      "=================================\n",
      "2018-01-01 12:30:00    0.114073\n",
      "2018-01-02 12:30:00    0.499238\n",
      "2018-01-03 12:30:00    0.670014\n",
      "2018-01-04 12:30:00    0.887691\n",
      "2018-01-05 12:30:00    0.233413\n",
      "Freq: B, dtype: float64\n",
      "2018-01-01 12:30:00+00:00    0.228145\n",
      "2018-01-02 12:30:00+00:00    0.998477\n",
      "Freq: B, dtype: float64\n"
     ]
    }
   ],
   "source": [
    "stamp = pd.Timestamp('2011-09-09 11:20')\n",
    "print stamp\n",
    "shanghai_stamp = stamp.tz_localize('Asia/Shanghai')\n",
    "print shanghai_stamp\n",
    "print shanghai_stamp.tz_convert('UTC')\n",
    "from pandas.tseries.offsets import Hour\n",
    "print shanghai_stamp+2*Hour()\n",
    "print '================================='\n",
    "# 不同时区进行运算, 会转换为UTC时间对齐, 且返回UTC时间索引\n",
    "ts = pd.Series(np.random.rand(5),index=pd.date_range('2018-01-01 12:30',periods=5,freq='B'))\n",
    "ts1 = ts[:2].tz_localize('Europe/London')\n",
    "ts2 = ts1[:2].tz_convert('Europe/Moscow')\n",
    "print ts\n",
    "print ts1+ts2"
   ]
  },
  {
   "cell_type": "markdown",
   "metadata": {},
   "source": [
    "### 8.5 时期及算术运算 (未完)\n",
    "\n",
    "#### 一. pandas时期对象\n",
    "1. pd.Period对象表示时期对象, 即时间区间  \n",
    " Period('date string',freq) : 在date string表所在的时间区间上, 根据freq产生的时间\n",
    " freq参数: 在Period对象运算时使用的频率\n",
    " `pd.Period(2017,freq='A-DEC')`: 表示2017年从1月1日到12月31日的所有时间\n",
    " \n",
    "2. `pd.period_range(start,end,freq)`: 产生符合规则的时期范围"
   ]
  },
  {
   "cell_type": "code",
   "execution_count": 49,
   "metadata": {},
   "outputs": [
    {
     "data": {
      "text/plain": [
       "Period('2017-03', 'M')"
      ]
     },
     "execution_count": 49,
     "metadata": {},
     "output_type": "execute_result"
    }
   ],
   "source": [
    "# Period('2017-01', 'M')\n",
    "p = pd.Period('2017-01-01',freq='M')\n",
    "# Period('2017-03', 'M')"
   ]
  },
  {
   "cell_type": "code",
   "execution_count": 52,
   "metadata": {},
   "outputs": [
    {
     "data": {
      "text/plain": [
       "PeriodIndex(['2018-01', '2018-02', '2018-03', '2018-04', '2018-05'], dtype='period[M]', freq='M')"
      ]
     },
     "execution_count": 52,
     "metadata": {},
     "output_type": "execute_result"
    }
   ],
   "source": [
    "pd.period_range('2018-01-01','2018-05-23',freq='M')"
   ]
  },
  {
   "cell_type": "code",
   "execution_count": 53,
   "metadata": {},
   "outputs": [
    {
     "data": {
      "text/plain": [
       "PeriodIndex(['2001Q3', '2002Q2', '2003Q1'], dtype='period[Q-DEC]', freq='Q-DEC')"
      ]
     },
     "execution_count": 53,
     "metadata": {},
     "output_type": "execute_result"
    }
   ],
   "source": [
    "values = ['2001Q3', '2002Q2', '2003Q1']\n",
    "pd.PeriodIndex(values,freq='Q-DEC')"
   ]
  },
  {
   "cell_type": "markdown",
   "metadata": {},
   "source": [
    "### 8.6 重采样及频率转换\n",
    "#### 一. 重采样\n",
    "1. 重采样 : 指将时间序列从一个频率转换为另一个频率的过程  \n",
    " 高频率数据聚合成低频率数据 : 降采样  \n",
    " 低频率数据转换成高频率数据 : 升采样 \n",
    " \n",
    "2. Series/DataFrame都由resample方法, 用于各种频率转换  \n",
    "  1. resample类似于groupby, 调用resample可以分组数据, 然后进行聚合函数\n",
    "  2. 参数 :  \n",
    "    1. rule : string, 每重新分配的面元 \n",
    "    2. axis : 默认0  \n",
    "    3. closed : {'right', 'left'}, 定义面元是区间是左闭的, 还是右闭的, 默认left\n",
    "    4. label  : {'right', 'left'}, 最终resample后的数据, 时间显示区间左端点的时间还是右端点的时间, 默认left\n",
    "    5. loffset : 下面"
   ]
  },
  {
   "cell_type": "code",
   "execution_count": 8,
   "metadata": {},
   "outputs": [
    {
     "data": {
      "text/plain": [
       "2000-01-01    0.417022\n",
       "2000-01-02    0.720324\n",
       "2000-01-03    0.000114\n",
       "2000-01-04    0.302333\n",
       "2000-01-05    0.146756\n",
       "Freq: D, dtype: float64"
      ]
     },
     "execution_count": 8,
     "metadata": {},
     "output_type": "execute_result"
    }
   ],
   "source": [
    "# resample基本用法\n",
    "import pandas as pd \n",
    "import numpy as np\n",
    "np.random.seed(1)\n",
    "idx = pd.date_range('2000-01-01',periods=100,freq='D')\n",
    "ts = pd.Series(np.random.rand(100),index=idx)\n",
    "ts.resample('M').mean()"
   ]
  },
  {
   "cell_type": "markdown",
   "metadata": {},
   "source": [
    "#### 二. 降采样\n",
    "1. 降采样要指定resample方法中的rule, 定义切割时间面元的方法   \n",
    "  例如: 每5分钟为一个间隔 : rule='5min', 即  \n",
    "    1. 若closed=right, 会把第一个元素当做单独的区间处理(第一个元素属于上一个区间)\n",
    "    2. 若closed=left, 会从第一个元素开始划分区间\n",
    "2. `loffset`参数 :  \n",
    "  通过`(label=right, loffset='-freq')`的组合, 把最终显示的时间加上offset, 以表明该降采样结果所在面元"
   ]
  },
  {
   "cell_type": "code",
   "execution_count": 60,
   "metadata": {},
   "outputs": [
    {
     "name": "stdout",
     "output_type": "stream",
     "text": [
      "2000-01-01 12:00:00     1\n",
      "2000-01-01 12:01:00     2\n",
      "2000-01-01 12:02:00     3\n",
      "2000-01-01 12:03:00     4\n",
      "2000-01-01 12:04:00     5\n",
      "2000-01-01 12:05:00     6\n",
      "2000-01-01 12:06:00     7\n",
      "2000-01-01 12:07:00     8\n",
      "2000-01-01 12:08:00     9\n",
      "2000-01-01 12:09:00    10\n",
      "2000-01-01 12:10:00    11\n",
      "2000-01-01 12:11:00    12\n",
      "Freq: T, dtype: int64\n",
      "===> label=right\n",
      "2000-01-01 12:00:00     1\n",
      "2000-01-01 12:05:00    20\n",
      "2000-01-01 12:10:00    45\n",
      "2000-01-01 12:15:00    12\n",
      "Freq: 5T, dtype: int64\n",
      "===> label=left\n",
      "2000-01-01 12:00:00    15\n",
      "2000-01-01 12:05:00    40\n",
      "2000-01-01 12:10:00    23\n",
      "Freq: 5T, dtype: int64\n"
     ]
    }
   ],
   "source": [
    "# 1. 如下产生每分钟的数据\n",
    "rng = pd.Series(np.arange(12)+1,index=pd.date_range('2000-01-01 12:00:00',periods=12,freq='T'))\n",
    "print rng\n",
    "# 2. 每5分钟设为一个bin\n",
    "print '===> label=right'\n",
    "print rng.resample('5min',closed='right',label='right').sum()\n",
    "print ('===> label=left')\n",
    "print rng.resample('5min',closed='left',label='left').sum()"
   ]
  },
  {
   "cell_type": "code",
   "execution_count": 61,
   "metadata": {},
   "outputs": [
    {
     "name": "stdout",
     "output_type": "stream",
     "text": [
      "2001-01-01     1\n",
      "2001-01-02     2\n",
      "2001-01-03     3\n",
      "2001-01-04     4\n",
      "2001-01-05     5\n",
      "2001-01-06     6\n",
      "2001-01-07     7\n",
      "2001-01-08     8\n",
      "2001-01-09     9\n",
      "2001-01-10    10\n",
      "2001-01-11    11\n",
      "2001-01-12    12\n",
      "Freq: D, dtype: int64\n",
      "\n",
      "2001-01-01     1\n",
      "2001-01-06    20\n",
      "2001-01-11    45\n",
      "2001-01-16    12\n",
      "Freq: 5D, dtype: int64\n",
      "\n",
      "2001-01-01    15\n",
      "2001-01-06    40\n",
      "2001-01-11    23\n",
      "Freq: 5D, dtype: int64\n"
     ]
    }
   ],
   "source": [
    "ts = pd.Series(np.arange(12)+1,index = pd.date_range('2001-01-01',periods=12,freq='D'))\n",
    "print ts\n",
    "print\n",
    "print ts.resample('5D',label='right',closed='right').sum()\n",
    "print\n",
    "print ts.resample('5D',label='left',closed='left').sum()"
   ]
  },
  {
   "cell_type": "code",
   "execution_count": 31,
   "metadata": {},
   "outputs": [
    {
     "name": "stdout",
     "output_type": "stream",
     "text": [
      "1999-12-31 23:57:30     0\n",
      "2000-01-01 00:02:30    15\n",
      "2000-01-01 00:07:30    40\n",
      "2000-01-01 00:12:30    11\n",
      "Freq: 5T, dtype: int64\n"
     ]
    }
   ],
   "source": [
    "# offset参数\n",
    "print rng.resample('5min',closed='right',label='right',loffset='-2.5min').sum()"
   ]
  },
  {
   "cell_type": "code",
   "execution_count": 132,
   "metadata": {},
   "outputs": [
    {
     "name": "stdout",
     "output_type": "stream",
     "text": [
      "2018-01-31    2\n",
      "2018-02-28    3\n",
      "2018-03-31    2\n",
      "2018-04-30    1\n",
      "2018-05-31    1\n",
      "Freq: M, dtype: int64\n",
      "\n",
      "2018-03-31     7\n",
      "2018-06-30     3\n",
      "2018-09-30     7\n",
      "2018-12-31    11\n",
      "2019-03-31    12\n",
      "2019-06-30     6\n",
      "2019-09-30     8\n",
      "2019-12-31    11\n",
      "Freq: Q-DEC, dtype: int64\n"
     ]
    }
   ],
   "source": [
    "# 按季度统计\n",
    "obj = pd.Series(np.random.randint(1,5,size=(24,)),\n",
    "               index=pd.date_range('2018-1-1',periods=24,freq='M'))\n",
    "print obj.head()\n",
    "print \n",
    "print obj.resample('Q').sum()"
   ]
  },
  {
   "cell_type": "markdown",
   "metadata": {},
   "source": [
    "#### 三. 升采样"
   ]
  },
  {
   "cell_type": "code",
   "execution_count": 63,
   "metadata": {},
   "outputs": [
    {
     "name": "stdout",
     "output_type": "stream",
     "text": [
      "2000-01-01 12:00:00     1\n",
      "2000-01-01 12:01:00     2\n",
      "2000-01-01 12:02:00     3\n",
      "2000-01-01 12:03:00     4\n",
      "2000-01-01 12:04:00     5\n",
      "2000-01-01 12:05:00     6\n",
      "2000-01-01 12:06:00     7\n",
      "2000-01-01 12:07:00     8\n",
      "2000-01-01 12:08:00     9\n",
      "2000-01-01 12:09:00    10\n",
      "2000-01-01 12:10:00    11\n",
      "2000-01-01 12:11:00    12\n",
      "Freq: T, dtype: int64\n"
     ]
    },
    {
     "data": {
      "text/html": [
       "<div>\n",
       "<style>\n",
       "    .dataframe thead tr:only-child th {\n",
       "        text-align: right;\n",
       "    }\n",
       "\n",
       "    .dataframe thead th {\n",
       "        text-align: left;\n",
       "    }\n",
       "\n",
       "    .dataframe tbody tr th {\n",
       "        vertical-align: top;\n",
       "    }\n",
       "</style>\n",
       "<table border=\"1\" class=\"dataframe\">\n",
       "  <thead>\n",
       "    <tr style=\"text-align: right;\">\n",
       "      <th></th>\n",
       "      <th>open</th>\n",
       "      <th>high</th>\n",
       "      <th>low</th>\n",
       "      <th>close</th>\n",
       "    </tr>\n",
       "  </thead>\n",
       "  <tbody>\n",
       "    <tr>\n",
       "      <th>2000-01-01 12:00:00</th>\n",
       "      <td>1</td>\n",
       "      <td>5</td>\n",
       "      <td>1</td>\n",
       "      <td>5</td>\n",
       "    </tr>\n",
       "    <tr>\n",
       "      <th>2000-01-01 12:05:00</th>\n",
       "      <td>6</td>\n",
       "      <td>10</td>\n",
       "      <td>6</td>\n",
       "      <td>10</td>\n",
       "    </tr>\n",
       "    <tr>\n",
       "      <th>2000-01-01 12:10:00</th>\n",
       "      <td>11</td>\n",
       "      <td>12</td>\n",
       "      <td>11</td>\n",
       "      <td>12</td>\n",
       "    </tr>\n",
       "  </tbody>\n",
       "</table>\n",
       "</div>"
      ],
      "text/plain": [
       "                     open  high  low  close\n",
       "2000-01-01 12:00:00     1     5    1      5\n",
       "2000-01-01 12:05:00     6    10    6     10\n",
       "2000-01-01 12:10:00    11    12   11     12"
      ]
     },
     "execution_count": 63,
     "metadata": {},
     "output_type": "execute_result"
    }
   ],
   "source": [
    "# resample默认lable='left', closed='left'\n",
    "print rng\n",
    "rng.resample('5min').ohlc()"
   ]
  },
  {
   "cell_type": "markdown",
   "metadata": {},
   "source": [
    "#### 四. 升采样\n",
    "1. `Series/DataFrame.resample('fine freq').asfreq()`提升数据频率,填充空值:   \n",
    " 由于采样频率的提升, 产生的细粒度时间样本集必然会包含空值\n",
    "2. `Series/DataFrame.resample('fine freq').ffill()`: 填充指定值  \n",
    "  1. ffill() 提升频率, 填充策略和filna和reindex一样"
   ]
  },
  {
   "cell_type": "code",
   "execution_count": 80,
   "metadata": {},
   "outputs": [
    {
     "data": {
      "text/html": [
       "<div>\n",
       "<style>\n",
       "    .dataframe thead tr:only-child th {\n",
       "        text-align: right;\n",
       "    }\n",
       "\n",
       "    .dataframe thead th {\n",
       "        text-align: left;\n",
       "    }\n",
       "\n",
       "    .dataframe tbody tr th {\n",
       "        vertical-align: top;\n",
       "    }\n",
       "</style>\n",
       "<table border=\"1\" class=\"dataframe\">\n",
       "  <thead>\n",
       "    <tr style=\"text-align: right;\">\n",
       "      <th></th>\n",
       "      <th>Colorado</th>\n",
       "      <th>Texas</th>\n",
       "      <th>New York</th>\n",
       "      <th>Ohio</th>\n",
       "    </tr>\n",
       "  </thead>\n",
       "  <tbody>\n",
       "    <tr>\n",
       "      <th>2018-06-27</th>\n",
       "      <td>0.417022</td>\n",
       "      <td>0.720324</td>\n",
       "      <td>0.000114</td>\n",
       "      <td>0.302333</td>\n",
       "    </tr>\n",
       "    <tr>\n",
       "      <th>2018-07-04</th>\n",
       "      <td>0.146756</td>\n",
       "      <td>0.092339</td>\n",
       "      <td>0.186260</td>\n",
       "      <td>0.345561</td>\n",
       "    </tr>\n",
       "  </tbody>\n",
       "</table>\n",
       "</div>"
      ],
      "text/plain": [
       "            Colorado     Texas  New York      Ohio\n",
       "2018-06-27  0.417022  0.720324  0.000114  0.302333\n",
       "2018-07-04  0.146756  0.092339  0.186260  0.345561"
      ]
     },
     "execution_count": 80,
     "metadata": {},
     "output_type": "execute_result"
    }
   ],
   "source": [
    "np.random.seed(1)\n",
    "# 2018-06-27日所在周的周五\n",
    "df = pd.DataFrame(np.random.rand(2,4),\n",
    "                  index=pd.date_range('2018-06-27',periods=2,freq='W-WED'),\n",
    "                 columns=['Colorado', 'Texas', 'New York', 'Ohio'])\n",
    "df"
   ]
  },
  {
   "cell_type": "code",
   "execution_count": 83,
   "metadata": {},
   "outputs": [
    {
     "data": {
      "text/html": [
       "<div>\n",
       "<style>\n",
       "    .dataframe thead tr:only-child th {\n",
       "        text-align: right;\n",
       "    }\n",
       "\n",
       "    .dataframe thead th {\n",
       "        text-align: left;\n",
       "    }\n",
       "\n",
       "    .dataframe tbody tr th {\n",
       "        vertical-align: top;\n",
       "    }\n",
       "</style>\n",
       "<table border=\"1\" class=\"dataframe\">\n",
       "  <thead>\n",
       "    <tr style=\"text-align: right;\">\n",
       "      <th></th>\n",
       "      <th>Colorado</th>\n",
       "      <th>Texas</th>\n",
       "      <th>New York</th>\n",
       "      <th>Ohio</th>\n",
       "    </tr>\n",
       "  </thead>\n",
       "  <tbody>\n",
       "    <tr>\n",
       "      <th>2018-06-27</th>\n",
       "      <td>0.417022</td>\n",
       "      <td>0.720324</td>\n",
       "      <td>0.000114</td>\n",
       "      <td>0.302333</td>\n",
       "    </tr>\n",
       "    <tr>\n",
       "      <th>2018-06-28</th>\n",
       "      <td>NaN</td>\n",
       "      <td>NaN</td>\n",
       "      <td>NaN</td>\n",
       "      <td>NaN</td>\n",
       "    </tr>\n",
       "    <tr>\n",
       "      <th>2018-06-29</th>\n",
       "      <td>NaN</td>\n",
       "      <td>NaN</td>\n",
       "      <td>NaN</td>\n",
       "      <td>NaN</td>\n",
       "    </tr>\n",
       "    <tr>\n",
       "      <th>2018-06-30</th>\n",
       "      <td>NaN</td>\n",
       "      <td>NaN</td>\n",
       "      <td>NaN</td>\n",
       "      <td>NaN</td>\n",
       "    </tr>\n",
       "    <tr>\n",
       "      <th>2018-07-01</th>\n",
       "      <td>NaN</td>\n",
       "      <td>NaN</td>\n",
       "      <td>NaN</td>\n",
       "      <td>NaN</td>\n",
       "    </tr>\n",
       "    <tr>\n",
       "      <th>2018-07-02</th>\n",
       "      <td>NaN</td>\n",
       "      <td>NaN</td>\n",
       "      <td>NaN</td>\n",
       "      <td>NaN</td>\n",
       "    </tr>\n",
       "    <tr>\n",
       "      <th>2018-07-03</th>\n",
       "      <td>NaN</td>\n",
       "      <td>NaN</td>\n",
       "      <td>NaN</td>\n",
       "      <td>NaN</td>\n",
       "    </tr>\n",
       "    <tr>\n",
       "      <th>2018-07-04</th>\n",
       "      <td>0.146756</td>\n",
       "      <td>0.092339</td>\n",
       "      <td>0.186260</td>\n",
       "      <td>0.345561</td>\n",
       "    </tr>\n",
       "  </tbody>\n",
       "</table>\n",
       "</div>"
      ],
      "text/plain": [
       "            Colorado     Texas  New York      Ohio\n",
       "2018-06-27  0.417022  0.720324  0.000114  0.302333\n",
       "2018-06-28       NaN       NaN       NaN       NaN\n",
       "2018-06-29       NaN       NaN       NaN       NaN\n",
       "2018-06-30       NaN       NaN       NaN       NaN\n",
       "2018-07-01       NaN       NaN       NaN       NaN\n",
       "2018-07-02       NaN       NaN       NaN       NaN\n",
       "2018-07-03       NaN       NaN       NaN       NaN\n",
       "2018-07-04  0.146756  0.092339  0.186260  0.345561"
      ]
     },
     "execution_count": 83,
     "metadata": {},
     "output_type": "execute_result"
    }
   ],
   "source": [
    "# 将时间频率提升到天\n",
    "df.resample('D').asfreq()"
   ]
  },
  {
   "cell_type": "code",
   "execution_count": 87,
   "metadata": {},
   "outputs": [
    {
     "data": {
      "text/html": [
       "<div>\n",
       "<style>\n",
       "    .dataframe thead tr:only-child th {\n",
       "        text-align: right;\n",
       "    }\n",
       "\n",
       "    .dataframe thead th {\n",
       "        text-align: left;\n",
       "    }\n",
       "\n",
       "    .dataframe tbody tr th {\n",
       "        vertical-align: top;\n",
       "    }\n",
       "</style>\n",
       "<table border=\"1\" class=\"dataframe\">\n",
       "  <thead>\n",
       "    <tr style=\"text-align: right;\">\n",
       "      <th></th>\n",
       "      <th>Colorado</th>\n",
       "      <th>Texas</th>\n",
       "      <th>New York</th>\n",
       "      <th>Ohio</th>\n",
       "    </tr>\n",
       "  </thead>\n",
       "  <tbody>\n",
       "    <tr>\n",
       "      <th>2018-06-27</th>\n",
       "      <td>0.417022</td>\n",
       "      <td>0.720324</td>\n",
       "      <td>0.000114</td>\n",
       "      <td>0.302333</td>\n",
       "    </tr>\n",
       "    <tr>\n",
       "      <th>2018-06-28</th>\n",
       "      <td>0.417022</td>\n",
       "      <td>0.720324</td>\n",
       "      <td>0.000114</td>\n",
       "      <td>0.302333</td>\n",
       "    </tr>\n",
       "    <tr>\n",
       "      <th>2018-06-29</th>\n",
       "      <td>0.417022</td>\n",
       "      <td>0.720324</td>\n",
       "      <td>0.000114</td>\n",
       "      <td>0.302333</td>\n",
       "    </tr>\n",
       "    <tr>\n",
       "      <th>2018-06-30</th>\n",
       "      <td>0.417022</td>\n",
       "      <td>0.720324</td>\n",
       "      <td>0.000114</td>\n",
       "      <td>0.302333</td>\n",
       "    </tr>\n",
       "    <tr>\n",
       "      <th>2018-07-01</th>\n",
       "      <td>0.417022</td>\n",
       "      <td>0.720324</td>\n",
       "      <td>0.000114</td>\n",
       "      <td>0.302333</td>\n",
       "    </tr>\n",
       "    <tr>\n",
       "      <th>2018-07-02</th>\n",
       "      <td>0.417022</td>\n",
       "      <td>0.720324</td>\n",
       "      <td>0.000114</td>\n",
       "      <td>0.302333</td>\n",
       "    </tr>\n",
       "    <tr>\n",
       "      <th>2018-07-03</th>\n",
       "      <td>0.417022</td>\n",
       "      <td>0.720324</td>\n",
       "      <td>0.000114</td>\n",
       "      <td>0.302333</td>\n",
       "    </tr>\n",
       "    <tr>\n",
       "      <th>2018-07-04</th>\n",
       "      <td>0.146756</td>\n",
       "      <td>0.092339</td>\n",
       "      <td>0.186260</td>\n",
       "      <td>0.345561</td>\n",
       "    </tr>\n",
       "  </tbody>\n",
       "</table>\n",
       "</div>"
      ],
      "text/plain": [
       "            Colorado     Texas  New York      Ohio\n",
       "2018-06-27  0.417022  0.720324  0.000114  0.302333\n",
       "2018-06-28  0.417022  0.720324  0.000114  0.302333\n",
       "2018-06-29  0.417022  0.720324  0.000114  0.302333\n",
       "2018-06-30  0.417022  0.720324  0.000114  0.302333\n",
       "2018-07-01  0.417022  0.720324  0.000114  0.302333\n",
       "2018-07-02  0.417022  0.720324  0.000114  0.302333\n",
       "2018-07-03  0.417022  0.720324  0.000114  0.302333\n",
       "2018-07-04  0.146756  0.092339  0.186260  0.345561"
      ]
     },
     "execution_count": 87,
     "metadata": {},
     "output_type": "execute_result"
    }
   ],
   "source": [
    "df.resample('D').ffill()"
   ]
  },
  {
   "cell_type": "code",
   "execution_count": 89,
   "metadata": {},
   "outputs": [
    {
     "data": {
      "text/html": [
       "<div>\n",
       "<style>\n",
       "    .dataframe thead tr:only-child th {\n",
       "        text-align: right;\n",
       "    }\n",
       "\n",
       "    .dataframe thead th {\n",
       "        text-align: left;\n",
       "    }\n",
       "\n",
       "    .dataframe tbody tr th {\n",
       "        vertical-align: top;\n",
       "    }\n",
       "</style>\n",
       "<table border=\"1\" class=\"dataframe\">\n",
       "  <thead>\n",
       "    <tr style=\"text-align: right;\">\n",
       "      <th></th>\n",
       "      <th>Colorado</th>\n",
       "      <th>Texas</th>\n",
       "      <th>New York</th>\n",
       "      <th>Ohio</th>\n",
       "    </tr>\n",
       "  </thead>\n",
       "  <tbody>\n",
       "    <tr>\n",
       "      <th>2018-06-27</th>\n",
       "      <td>0.417022</td>\n",
       "      <td>0.720324</td>\n",
       "      <td>0.000114</td>\n",
       "      <td>0.302333</td>\n",
       "    </tr>\n",
       "    <tr>\n",
       "      <th>2018-06-28</th>\n",
       "      <td>0.417022</td>\n",
       "      <td>0.720324</td>\n",
       "      <td>0.000114</td>\n",
       "      <td>0.302333</td>\n",
       "    </tr>\n",
       "    <tr>\n",
       "      <th>2018-06-29</th>\n",
       "      <td>0.417022</td>\n",
       "      <td>0.720324</td>\n",
       "      <td>0.000114</td>\n",
       "      <td>0.302333</td>\n",
       "    </tr>\n",
       "    <tr>\n",
       "      <th>2018-06-30</th>\n",
       "      <td>NaN</td>\n",
       "      <td>NaN</td>\n",
       "      <td>NaN</td>\n",
       "      <td>NaN</td>\n",
       "    </tr>\n",
       "    <tr>\n",
       "      <th>2018-07-01</th>\n",
       "      <td>NaN</td>\n",
       "      <td>NaN</td>\n",
       "      <td>NaN</td>\n",
       "      <td>NaN</td>\n",
       "    </tr>\n",
       "    <tr>\n",
       "      <th>2018-07-02</th>\n",
       "      <td>NaN</td>\n",
       "      <td>NaN</td>\n",
       "      <td>NaN</td>\n",
       "      <td>NaN</td>\n",
       "    </tr>\n",
       "    <tr>\n",
       "      <th>2018-07-03</th>\n",
       "      <td>NaN</td>\n",
       "      <td>NaN</td>\n",
       "      <td>NaN</td>\n",
       "      <td>NaN</td>\n",
       "    </tr>\n",
       "    <tr>\n",
       "      <th>2018-07-04</th>\n",
       "      <td>0.146756</td>\n",
       "      <td>0.092339</td>\n",
       "      <td>0.186260</td>\n",
       "      <td>0.345561</td>\n",
       "    </tr>\n",
       "  </tbody>\n",
       "</table>\n",
       "</div>"
      ],
      "text/plain": [
       "            Colorado     Texas  New York      Ohio\n",
       "2018-06-27  0.417022  0.720324  0.000114  0.302333\n",
       "2018-06-28  0.417022  0.720324  0.000114  0.302333\n",
       "2018-06-29  0.417022  0.720324  0.000114  0.302333\n",
       "2018-06-30       NaN       NaN       NaN       NaN\n",
       "2018-07-01       NaN       NaN       NaN       NaN\n",
       "2018-07-02       NaN       NaN       NaN       NaN\n",
       "2018-07-03       NaN       NaN       NaN       NaN\n",
       "2018-07-04  0.146756  0.092339  0.186260  0.345561"
      ]
     },
     "execution_count": 89,
     "metadata": {},
     "output_type": "execute_result"
    }
   ],
   "source": [
    "df.resample('D').ffill(limit=2)"
   ]
  },
  {
   "cell_type": "code",
   "execution_count": 94,
   "metadata": {},
   "outputs": [
    {
     "data": {
      "text/html": [
       "<div>\n",
       "<style>\n",
       "    .dataframe thead tr:only-child th {\n",
       "        text-align: right;\n",
       "    }\n",
       "\n",
       "    .dataframe thead th {\n",
       "        text-align: left;\n",
       "    }\n",
       "\n",
       "    .dataframe tbody tr th {\n",
       "        vertical-align: top;\n",
       "    }\n",
       "</style>\n",
       "<table border=\"1\" class=\"dataframe\">\n",
       "  <thead>\n",
       "    <tr style=\"text-align: right;\">\n",
       "      <th></th>\n",
       "      <th>Colorado</th>\n",
       "      <th>Texas</th>\n",
       "      <th>New York</th>\n",
       "      <th>Ohio</th>\n",
       "    </tr>\n",
       "  </thead>\n",
       "  <tbody>\n",
       "    <tr>\n",
       "      <th>2018-06-28</th>\n",
       "      <td>0.417022</td>\n",
       "      <td>0.720324</td>\n",
       "      <td>0.000114</td>\n",
       "      <td>0.302333</td>\n",
       "    </tr>\n",
       "    <tr>\n",
       "      <th>2018-07-05</th>\n",
       "      <td>0.146756</td>\n",
       "      <td>0.092339</td>\n",
       "      <td>0.186260</td>\n",
       "      <td>0.345561</td>\n",
       "    </tr>\n",
       "  </tbody>\n",
       "</table>\n",
       "</div>"
      ],
      "text/plain": [
       "            Colorado     Texas  New York      Ohio\n",
       "2018-06-28  0.417022  0.720324  0.000114  0.302333\n",
       "2018-07-05  0.146756  0.092339  0.186260  0.345561"
      ]
     },
     "execution_count": 94,
     "metadata": {},
     "output_type": "execute_result"
    }
   ],
   "source": [
    "df.resample('W-THU').ffill()"
   ]
  },
  {
   "cell_type": "markdown",
   "metadata": {},
   "source": [
    "#### 五. 通过时期索引重采样"
   ]
  },
  {
   "cell_type": "code",
   "execution_count": 111,
   "metadata": {},
   "outputs": [
    {
     "data": {
      "text/html": [
       "<div>\n",
       "<style>\n",
       "    .dataframe thead tr:only-child th {\n",
       "        text-align: right;\n",
       "    }\n",
       "\n",
       "    .dataframe thead th {\n",
       "        text-align: left;\n",
       "    }\n",
       "\n",
       "    .dataframe tbody tr th {\n",
       "        vertical-align: top;\n",
       "    }\n",
       "</style>\n",
       "<table border=\"1\" class=\"dataframe\">\n",
       "  <thead>\n",
       "    <tr style=\"text-align: right;\">\n",
       "      <th></th>\n",
       "      <th>Colorado</th>\n",
       "      <th>Texas</th>\n",
       "      <th>New York</th>\n",
       "      <th>Ohio</th>\n",
       "    </tr>\n",
       "  </thead>\n",
       "  <tbody>\n",
       "    <tr>\n",
       "      <th>2018-01</th>\n",
       "      <td>2</td>\n",
       "      <td>1</td>\n",
       "      <td>3</td>\n",
       "      <td>2</td>\n",
       "    </tr>\n",
       "    <tr>\n",
       "      <th>2018-02</th>\n",
       "      <td>3</td>\n",
       "      <td>1</td>\n",
       "      <td>2</td>\n",
       "      <td>4</td>\n",
       "    </tr>\n",
       "    <tr>\n",
       "      <th>2018-03</th>\n",
       "      <td>3</td>\n",
       "      <td>3</td>\n",
       "      <td>3</td>\n",
       "      <td>2</td>\n",
       "    </tr>\n",
       "    <tr>\n",
       "      <th>2018-04</th>\n",
       "      <td>1</td>\n",
       "      <td>4</td>\n",
       "      <td>3</td>\n",
       "      <td>4</td>\n",
       "    </tr>\n",
       "    <tr>\n",
       "      <th>2018-05</th>\n",
       "      <td>1</td>\n",
       "      <td>3</td>\n",
       "      <td>2</td>\n",
       "      <td>4</td>\n",
       "    </tr>\n",
       "    <tr>\n",
       "      <th>2018-06</th>\n",
       "      <td>3</td>\n",
       "      <td>1</td>\n",
       "      <td>3</td>\n",
       "      <td>2</td>\n",
       "    </tr>\n",
       "    <tr>\n",
       "      <th>2018-07</th>\n",
       "      <td>3</td>\n",
       "      <td>4</td>\n",
       "      <td>1</td>\n",
       "      <td>2</td>\n",
       "    </tr>\n",
       "    <tr>\n",
       "      <th>2018-08</th>\n",
       "      <td>3</td>\n",
       "      <td>2</td>\n",
       "      <td>2</td>\n",
       "      <td>3</td>\n",
       "    </tr>\n",
       "    <tr>\n",
       "      <th>2018-09</th>\n",
       "      <td>3</td>\n",
       "      <td>3</td>\n",
       "      <td>3</td>\n",
       "      <td>2</td>\n",
       "    </tr>\n",
       "    <tr>\n",
       "      <th>2018-10</th>\n",
       "      <td>4</td>\n",
       "      <td>2</td>\n",
       "      <td>4</td>\n",
       "      <td>1</td>\n",
       "    </tr>\n",
       "    <tr>\n",
       "      <th>2018-11</th>\n",
       "      <td>4</td>\n",
       "      <td>4</td>\n",
       "      <td>1</td>\n",
       "      <td>3</td>\n",
       "    </tr>\n",
       "    <tr>\n",
       "      <th>2018-12</th>\n",
       "      <td>4</td>\n",
       "      <td>3</td>\n",
       "      <td>1</td>\n",
       "      <td>4</td>\n",
       "    </tr>\n",
       "    <tr>\n",
       "      <th>2019-01</th>\n",
       "      <td>2</td>\n",
       "      <td>4</td>\n",
       "      <td>2</td>\n",
       "      <td>3</td>\n",
       "    </tr>\n",
       "    <tr>\n",
       "      <th>2019-02</th>\n",
       "      <td>1</td>\n",
       "      <td>3</td>\n",
       "      <td>4</td>\n",
       "      <td>1</td>\n",
       "    </tr>\n",
       "    <tr>\n",
       "      <th>2019-03</th>\n",
       "      <td>1</td>\n",
       "      <td>1</td>\n",
       "      <td>4</td>\n",
       "      <td>4</td>\n",
       "    </tr>\n",
       "    <tr>\n",
       "      <th>2019-04</th>\n",
       "      <td>1</td>\n",
       "      <td>4</td>\n",
       "      <td>2</td>\n",
       "      <td>4</td>\n",
       "    </tr>\n",
       "    <tr>\n",
       "      <th>2019-05</th>\n",
       "      <td>3</td>\n",
       "      <td>1</td>\n",
       "      <td>1</td>\n",
       "      <td>1</td>\n",
       "    </tr>\n",
       "    <tr>\n",
       "      <th>2019-06</th>\n",
       "      <td>3</td>\n",
       "      <td>4</td>\n",
       "      <td>4</td>\n",
       "      <td>4</td>\n",
       "    </tr>\n",
       "    <tr>\n",
       "      <th>2019-07</th>\n",
       "      <td>1</td>\n",
       "      <td>3</td>\n",
       "      <td>1</td>\n",
       "      <td>4</td>\n",
       "    </tr>\n",
       "    <tr>\n",
       "      <th>2019-08</th>\n",
       "      <td>3</td>\n",
       "      <td>1</td>\n",
       "      <td>3</td>\n",
       "      <td>4</td>\n",
       "    </tr>\n",
       "    <tr>\n",
       "      <th>2019-09</th>\n",
       "      <td>3</td>\n",
       "      <td>2</td>\n",
       "      <td>1</td>\n",
       "      <td>4</td>\n",
       "    </tr>\n",
       "    <tr>\n",
       "      <th>2019-10</th>\n",
       "      <td>1</td>\n",
       "      <td>1</td>\n",
       "      <td>1</td>\n",
       "      <td>3</td>\n",
       "    </tr>\n",
       "    <tr>\n",
       "      <th>2019-11</th>\n",
       "      <td>4</td>\n",
       "      <td>1</td>\n",
       "      <td>1</td>\n",
       "      <td>4</td>\n",
       "    </tr>\n",
       "    <tr>\n",
       "      <th>2019-12</th>\n",
       "      <td>2</td>\n",
       "      <td>2</td>\n",
       "      <td>1</td>\n",
       "      <td>1</td>\n",
       "    </tr>\n",
       "  </tbody>\n",
       "</table>\n",
       "</div>"
      ],
      "text/plain": [
       "         Colorado  Texas  New York  Ohio\n",
       "2018-01         2      1         3     2\n",
       "2018-02         3      1         2     4\n",
       "2018-03         3      3         3     2\n",
       "2018-04         1      4         3     4\n",
       "2018-05         1      3         2     4\n",
       "2018-06         3      1         3     2\n",
       "2018-07         3      4         1     2\n",
       "2018-08         3      2         2     3\n",
       "2018-09         3      3         3     2\n",
       "2018-10         4      2         4     1\n",
       "2018-11         4      4         1     3\n",
       "2018-12         4      3         1     4\n",
       "2019-01         2      4         2     3\n",
       "2019-02         1      3         4     1\n",
       "2019-03         1      1         4     4\n",
       "2019-04         1      4         2     4\n",
       "2019-05         3      1         1     1\n",
       "2019-06         3      4         4     4\n",
       "2019-07         1      3         1     4\n",
       "2019-08         3      1         3     4\n",
       "2019-09         3      2         1     4\n",
       "2019-10         1      1         1     3\n",
       "2019-11         4      1         1     4\n",
       "2019-12         2      2         1     1"
      ]
     },
     "execution_count": 111,
     "metadata": {},
     "output_type": "execute_result"
    }
   ],
   "source": [
    "df = pd.DataFrame(np.random.randint(1,5,(24,4)),\n",
    "                 index = pd.period_range('2018-01','2019-12',freq = 'M'),\n",
    "                 columns=['Colorado', 'Texas', 'New York', 'Ohio'])\n",
    "df.head()\n",
    "df"
   ]
  },
  {
   "cell_type": "code",
   "execution_count": 116,
   "metadata": {},
   "outputs": [
    {
     "data": {
      "text/html": [
       "<div>\n",
       "<style>\n",
       "    .dataframe thead tr:only-child th {\n",
       "        text-align: right;\n",
       "    }\n",
       "\n",
       "    .dataframe thead th {\n",
       "        text-align: left;\n",
       "    }\n",
       "\n",
       "    .dataframe tbody tr th {\n",
       "        vertical-align: top;\n",
       "    }\n",
       "</style>\n",
       "<table border=\"1\" class=\"dataframe\">\n",
       "  <thead>\n",
       "    <tr style=\"text-align: right;\">\n",
       "      <th></th>\n",
       "      <th>Colorado</th>\n",
       "      <th>Texas</th>\n",
       "      <th>New York</th>\n",
       "      <th>Ohio</th>\n",
       "    </tr>\n",
       "  </thead>\n",
       "  <tbody>\n",
       "    <tr>\n",
       "      <th>2018</th>\n",
       "      <td>2.500000</td>\n",
       "      <td>1.0</td>\n",
       "      <td>2.500000</td>\n",
       "      <td>3.000000</td>\n",
       "    </tr>\n",
       "    <tr>\n",
       "      <th>2019</th>\n",
       "      <td>2.666667</td>\n",
       "      <td>3.0</td>\n",
       "      <td>2.416667</td>\n",
       "      <td>2.583333</td>\n",
       "    </tr>\n",
       "    <tr>\n",
       "      <th>2020</th>\n",
       "      <td>2.200000</td>\n",
       "      <td>2.0</td>\n",
       "      <td>1.900000</td>\n",
       "      <td>3.300000</td>\n",
       "    </tr>\n",
       "  </tbody>\n",
       "</table>\n",
       "</div>"
      ],
      "text/plain": [
       "      Colorado  Texas  New York      Ohio\n",
       "2018  2.500000    1.0  2.500000  3.000000\n",
       "2019  2.666667    3.0  2.416667  2.583333\n",
       "2020  2.200000    2.0  1.900000  3.300000"
      ]
     },
     "execution_count": 116,
     "metadata": {},
     "output_type": "execute_result"
    }
   ],
   "source": [
    "# 1. 降采样 \n",
    "# 每年开始,到每年的2月份最后一天为一个period\n",
    "annual_df = df.resample('A-FEB').mean()\n",
    "annual_df"
   ]
  },
  {
   "cell_type": "code",
   "execution_count": 120,
   "metadata": {},
   "outputs": [
    {
     "data": {
      "text/html": [
       "<div>\n",
       "<style>\n",
       "    .dataframe thead tr:only-child th {\n",
       "        text-align: right;\n",
       "    }\n",
       "\n",
       "    .dataframe thead th {\n",
       "        text-align: left;\n",
       "    }\n",
       "\n",
       "    .dataframe tbody tr th {\n",
       "        vertical-align: top;\n",
       "    }\n",
       "</style>\n",
       "<table border=\"1\" class=\"dataframe\">\n",
       "  <thead>\n",
       "    <tr style=\"text-align: right;\">\n",
       "      <th></th>\n",
       "      <th>Colorado</th>\n",
       "      <th>Texas</th>\n",
       "      <th>New York</th>\n",
       "      <th>Ohio</th>\n",
       "    </tr>\n",
       "  </thead>\n",
       "  <tbody>\n",
       "    <tr>\n",
       "      <th>2018Q1</th>\n",
       "      <td>2.500000</td>\n",
       "      <td>1.0</td>\n",
       "      <td>2.500000</td>\n",
       "      <td>3.000000</td>\n",
       "    </tr>\n",
       "    <tr>\n",
       "      <th>2018Q2</th>\n",
       "      <td>NaN</td>\n",
       "      <td>NaN</td>\n",
       "      <td>NaN</td>\n",
       "      <td>NaN</td>\n",
       "    </tr>\n",
       "    <tr>\n",
       "      <th>2018Q3</th>\n",
       "      <td>NaN</td>\n",
       "      <td>NaN</td>\n",
       "      <td>NaN</td>\n",
       "      <td>NaN</td>\n",
       "    </tr>\n",
       "    <tr>\n",
       "      <th>2018Q4</th>\n",
       "      <td>NaN</td>\n",
       "      <td>NaN</td>\n",
       "      <td>NaN</td>\n",
       "      <td>NaN</td>\n",
       "    </tr>\n",
       "    <tr>\n",
       "      <th>2019Q1</th>\n",
       "      <td>2.666667</td>\n",
       "      <td>3.0</td>\n",
       "      <td>2.416667</td>\n",
       "      <td>2.583333</td>\n",
       "    </tr>\n",
       "    <tr>\n",
       "      <th>2019Q2</th>\n",
       "      <td>NaN</td>\n",
       "      <td>NaN</td>\n",
       "      <td>NaN</td>\n",
       "      <td>NaN</td>\n",
       "    </tr>\n",
       "    <tr>\n",
       "      <th>2019Q3</th>\n",
       "      <td>NaN</td>\n",
       "      <td>NaN</td>\n",
       "      <td>NaN</td>\n",
       "      <td>NaN</td>\n",
       "    </tr>\n",
       "    <tr>\n",
       "      <th>2019Q4</th>\n",
       "      <td>NaN</td>\n",
       "      <td>NaN</td>\n",
       "      <td>NaN</td>\n",
       "      <td>NaN</td>\n",
       "    </tr>\n",
       "    <tr>\n",
       "      <th>2020Q1</th>\n",
       "      <td>2.200000</td>\n",
       "      <td>2.0</td>\n",
       "      <td>1.900000</td>\n",
       "      <td>3.300000</td>\n",
       "    </tr>\n",
       "    <tr>\n",
       "      <th>2020Q2</th>\n",
       "      <td>NaN</td>\n",
       "      <td>NaN</td>\n",
       "      <td>NaN</td>\n",
       "      <td>NaN</td>\n",
       "    </tr>\n",
       "    <tr>\n",
       "      <th>2020Q3</th>\n",
       "      <td>NaN</td>\n",
       "      <td>NaN</td>\n",
       "      <td>NaN</td>\n",
       "      <td>NaN</td>\n",
       "    </tr>\n",
       "    <tr>\n",
       "      <th>2020Q4</th>\n",
       "      <td>NaN</td>\n",
       "      <td>NaN</td>\n",
       "      <td>NaN</td>\n",
       "      <td>NaN</td>\n",
       "    </tr>\n",
       "  </tbody>\n",
       "</table>\n",
       "</div>"
      ],
      "text/plain": [
       "        Colorado  Texas  New York      Ohio\n",
       "2018Q1  2.500000    1.0  2.500000  3.000000\n",
       "2018Q2       NaN    NaN       NaN       NaN\n",
       "2018Q3       NaN    NaN       NaN       NaN\n",
       "2018Q4       NaN    NaN       NaN       NaN\n",
       "2019Q1  2.666667    3.0  2.416667  2.583333\n",
       "2019Q2       NaN    NaN       NaN       NaN\n",
       "2019Q3       NaN    NaN       NaN       NaN\n",
       "2019Q4       NaN    NaN       NaN       NaN\n",
       "2020Q1  2.200000    2.0  1.900000  3.300000\n",
       "2020Q2       NaN    NaN       NaN       NaN\n",
       "2020Q3       NaN    NaN       NaN       NaN\n",
       "2020Q4       NaN    NaN       NaN       NaN"
      ]
     },
     "execution_count": 120,
     "metadata": {},
     "output_type": "execute_result"
    }
   ],
   "source": [
    "# 2.升采样 : 指定新频率中区间的哪端存放原来的值\n",
    "# 默认convention=start, 原始值存放在开始处. 也可设置convention=end\n",
    "annual_df.resample('Q-FEB').asfreq()"
   ]
  },
  {
   "cell_type": "code",
   "execution_count": 121,
   "metadata": {},
   "outputs": [
    {
     "data": {
      "text/html": [
       "<div>\n",
       "<style>\n",
       "    .dataframe thead tr:only-child th {\n",
       "        text-align: right;\n",
       "    }\n",
       "\n",
       "    .dataframe thead th {\n",
       "        text-align: left;\n",
       "    }\n",
       "\n",
       "    .dataframe tbody tr th {\n",
       "        vertical-align: top;\n",
       "    }\n",
       "</style>\n",
       "<table border=\"1\" class=\"dataframe\">\n",
       "  <thead>\n",
       "    <tr style=\"text-align: right;\">\n",
       "      <th></th>\n",
       "      <th>Colorado</th>\n",
       "      <th>Texas</th>\n",
       "      <th>New York</th>\n",
       "      <th>Ohio</th>\n",
       "    </tr>\n",
       "  </thead>\n",
       "  <tbody>\n",
       "    <tr>\n",
       "      <th>2018Q4</th>\n",
       "      <td>2.500000</td>\n",
       "      <td>1.0</td>\n",
       "      <td>2.500000</td>\n",
       "      <td>3.000000</td>\n",
       "    </tr>\n",
       "    <tr>\n",
       "      <th>2019Q1</th>\n",
       "      <td>NaN</td>\n",
       "      <td>NaN</td>\n",
       "      <td>NaN</td>\n",
       "      <td>NaN</td>\n",
       "    </tr>\n",
       "    <tr>\n",
       "      <th>2019Q2</th>\n",
       "      <td>NaN</td>\n",
       "      <td>NaN</td>\n",
       "      <td>NaN</td>\n",
       "      <td>NaN</td>\n",
       "    </tr>\n",
       "    <tr>\n",
       "      <th>2019Q3</th>\n",
       "      <td>NaN</td>\n",
       "      <td>NaN</td>\n",
       "      <td>NaN</td>\n",
       "      <td>NaN</td>\n",
       "    </tr>\n",
       "    <tr>\n",
       "      <th>2019Q4</th>\n",
       "      <td>2.666667</td>\n",
       "      <td>3.0</td>\n",
       "      <td>2.416667</td>\n",
       "      <td>2.583333</td>\n",
       "    </tr>\n",
       "    <tr>\n",
       "      <th>2020Q1</th>\n",
       "      <td>NaN</td>\n",
       "      <td>NaN</td>\n",
       "      <td>NaN</td>\n",
       "      <td>NaN</td>\n",
       "    </tr>\n",
       "    <tr>\n",
       "      <th>2020Q2</th>\n",
       "      <td>NaN</td>\n",
       "      <td>NaN</td>\n",
       "      <td>NaN</td>\n",
       "      <td>NaN</td>\n",
       "    </tr>\n",
       "    <tr>\n",
       "      <th>2020Q3</th>\n",
       "      <td>NaN</td>\n",
       "      <td>NaN</td>\n",
       "      <td>NaN</td>\n",
       "      <td>NaN</td>\n",
       "    </tr>\n",
       "    <tr>\n",
       "      <th>2020Q4</th>\n",
       "      <td>2.200000</td>\n",
       "      <td>2.0</td>\n",
       "      <td>1.900000</td>\n",
       "      <td>3.300000</td>\n",
       "    </tr>\n",
       "  </tbody>\n",
       "</table>\n",
       "</div>"
      ],
      "text/plain": [
       "        Colorado  Texas  New York      Ohio\n",
       "2018Q4  2.500000    1.0  2.500000  3.000000\n",
       "2019Q1       NaN    NaN       NaN       NaN\n",
       "2019Q2       NaN    NaN       NaN       NaN\n",
       "2019Q3       NaN    NaN       NaN       NaN\n",
       "2019Q4  2.666667    3.0  2.416667  2.583333\n",
       "2020Q1       NaN    NaN       NaN       NaN\n",
       "2020Q2       NaN    NaN       NaN       NaN\n",
       "2020Q3       NaN    NaN       NaN       NaN\n",
       "2020Q4  2.200000    2.0  1.900000  3.300000"
      ]
     },
     "execution_count": 121,
     "metadata": {},
     "output_type": "execute_result"
    }
   ],
   "source": [
    "annual_df.resample('Q-FEB',convention='end').asfreq()"
   ]
  },
  {
   "cell_type": "markdown",
   "metadata": {},
   "source": [
    "### 8.7 移动窗口函数\n",
    "#### 一. rolling方法\n",
    "1. `Series/DataFrame.rolling(n)`  \n",
    " `rolling`操作与`group`操作很像, 但不是创建分组, 而是创建一个n个长度的窗口对象  \n",
    "2. n的选择 :   \n",
    "  n可以是int数字, 表示滑动窗口的大小; 也可以是字符串表示的freq  \n",
    "  此时选择频率的窗口, 适应于处理不规则的时间排列(缺少几天等)"
   ]
  },
  {
   "cell_type": "code",
   "execution_count": 210,
   "metadata": {},
   "outputs": [
    {
     "data": {
      "text/html": [
       "<div>\n",
       "<style>\n",
       "    .dataframe thead tr:only-child th {\n",
       "        text-align: right;\n",
       "    }\n",
       "\n",
       "    .dataframe thead th {\n",
       "        text-align: left;\n",
       "    }\n",
       "\n",
       "    .dataframe tbody tr th {\n",
       "        vertical-align: top;\n",
       "    }\n",
       "</style>\n",
       "<table border=\"1\" class=\"dataframe\">\n",
       "  <thead>\n",
       "    <tr style=\"text-align: right;\">\n",
       "      <th></th>\n",
       "      <th>AAPL</th>\n",
       "      <th>MSFT</th>\n",
       "      <th>XOM</th>\n",
       "      <th>SPX</th>\n",
       "    </tr>\n",
       "  </thead>\n",
       "  <tbody>\n",
       "    <tr>\n",
       "      <th>2003-01-02</th>\n",
       "      <td>7.40</td>\n",
       "      <td>21.11</td>\n",
       "      <td>29.22</td>\n",
       "      <td>909.03</td>\n",
       "    </tr>\n",
       "    <tr>\n",
       "      <th>2003-01-03</th>\n",
       "      <td>7.45</td>\n",
       "      <td>21.14</td>\n",
       "      <td>29.24</td>\n",
       "      <td>908.59</td>\n",
       "    </tr>\n",
       "    <tr>\n",
       "      <th>2003-01-06</th>\n",
       "      <td>7.45</td>\n",
       "      <td>21.52</td>\n",
       "      <td>29.96</td>\n",
       "      <td>929.01</td>\n",
       "    </tr>\n",
       "    <tr>\n",
       "      <th>2003-01-07</th>\n",
       "      <td>7.43</td>\n",
       "      <td>21.93</td>\n",
       "      <td>28.95</td>\n",
       "      <td>922.93</td>\n",
       "    </tr>\n",
       "    <tr>\n",
       "      <th>2003-01-08</th>\n",
       "      <td>7.28</td>\n",
       "      <td>21.31</td>\n",
       "      <td>28.83</td>\n",
       "      <td>909.93</td>\n",
       "    </tr>\n",
       "  </tbody>\n",
       "</table>\n",
       "</div>"
      ],
      "text/plain": [
       "            AAPL   MSFT    XOM     SPX\n",
       "2003-01-02  7.40  21.11  29.22  909.03\n",
       "2003-01-03  7.45  21.14  29.24  908.59\n",
       "2003-01-06  7.45  21.52  29.96  929.01\n",
       "2003-01-07  7.43  21.93  28.95  922.93\n",
       "2003-01-08  7.28  21.31  28.83  909.93"
      ]
     },
     "execution_count": 210,
     "metadata": {},
     "output_type": "execute_result"
    }
   ],
   "source": [
    "df = pd.read_csv('../example/stock_px_2.csv',parse_dates=True,index_col=0)\n",
    "df.head()"
   ]
  },
  {
   "cell_type": "code",
   "execution_count": 211,
   "metadata": {},
   "outputs": [
    {
     "data": {
      "text/plain": [
       "<matplotlib.axes._subplots.AxesSubplot at 0x1a1ee5aa90>"
      ]
     },
     "execution_count": 211,
     "metadata": {},
     "output_type": "execute_result"
    },
    {
     "data": {
      "image/png": "[encoded data removed]",
      "text/plain": [
       "<matplotlib.figure.Figure at 0x1a1e6f7910>"
      ]
     },
     "metadata": {},
     "output_type": "display_data"
    }
   ],
   "source": [
    "# 1. rolling滑动窗口\n",
    "df.AAPL.rolling(250).std().plot()"
   ]
  },
  {
   "cell_type": "code",
   "execution_count": 212,
   "metadata": {},
   "outputs": [
    {
     "data": {
      "text/plain": [
       "2003-01-02     7.40\n",
       "2003-01-03    14.85\n",
       "2003-01-06    22.30\n",
       "2003-01-07    22.33\n",
       "2003-01-08    22.16\n",
       "Name: AAPL, dtype: float64"
      ]
     },
     "execution_count": 212,
     "metadata": {},
     "output_type": "execute_result"
    },
    {
     "data": {
      "image/png": "[encoded data removed]",
      "text/plain": [
       "<matplotlib.figure.Figure at 0x1a1e7d9090>"
      ]
     },
     "metadata": {},
     "output_type": "display_data"
    }
   ],
   "source": [
    "# 可以看见, 数据中经缺少2003-01-04,2003-01-05的数据  \n",
    "# 5天的滚动均值\n",
    "df.AAPL.rolling('5D').mean().plot()\n",
    "# rolling('5D')严格向前计算5天\n",
    "df.AAPL.rolling('5D').sum().head()\n"
   ]
  },
  {
   "cell_type": "markdown",
   "metadata": {
    "collapsed": true
   },
   "source": [
    "#### 二. ewm方法  \n",
    "1. ewm(span=N)  \n",
    " 指数加权平均, span相当于rolling方法中的窗口大小, 但ewm使用指数平滑计算\n",
    "\n",
    "2. 指数加权统计会赋予近期的观测值更大的权数，rolling相对于等权统计"
   ]
  },
  {
   "cell_type": "code",
   "execution_count": 213,
   "metadata": {},
   "outputs": [
    {
     "data": {
      "text/plain": [
       "<matplotlib.axes._subplots.AxesSubplot at 0x1a1f046c10>"
      ]
     },
     "execution_count": 213,
     "metadata": {},
     "output_type": "execute_result"
    },
    {
     "data": {
      "image/png": "[encoded data removed]",
      "text/plain": [
       "<matplotlib.figure.Figure at 0x1a1f0d0290>"
      ]
     },
     "metadata": {},
     "output_type": "display_data"
    }
   ],
   "source": [
    "df.AAPL.ewm(span=5).mean().plot()"
   ]
  }
 ],
 "metadata": {
  "kernelspec": {
   "display_name": "Python 3",
   "language": "python",
   "name": "python3"
  },
  "language_info": {
   "codemirror_mode": {
    "name": "ipython",
    "version": 3
   },
   "file_extension": ".py",
   "mimetype": "text/x-python",
   "name": "python",
   "nbconvert_exporter": "python",
   "pygments_lexer": "ipython3",
   "version": "3.6.5"
  }
 },
 "nbformat": 4,
 "nbformat_minor": 2
}
