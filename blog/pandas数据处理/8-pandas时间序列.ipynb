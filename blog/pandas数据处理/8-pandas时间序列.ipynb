{
 "cells": [
  {
   "cell_type": "markdown",
   "metadata": {},
   "source": [
    "### 8.1 python标准库的时间处理函数\n",
    "\n",
    "#### 1. datetime模块\n",
    "1. 当前时间 : `datetime.now`\n",
    "2. datetime对象初始化 : `datetime(year,month,day,hour,minutes,seconds,miliseconds,timezone)`, 参数都是int型"
   ]
  },
  {
   "cell_type": "code",
   "execution_count": 1,
   "metadata": {},
   "outputs": [
    {
     "name": "stdout",
     "output_type": "stream",
     "text": [
      "2018-06-25 09:52:11.815098\n",
      "1991-07-31 11:20:02\n"
     ]
    }
   ],
   "source": [
    "from datetime import datetime \n",
    "print(datetime.now())\n",
    "print(datetime(1991,7,31,11,20,2))"
   ]
  },
  {
   "cell_type": "markdown",
   "metadata": {},
   "source": [
    "#### 2. datetime与string相互转化\n",
    "1. datetime转换为string  \n",
    "  datetime.strftime(TIMEFORMAT) : 转换为对应格式的字符串  \n",
    "   1. %Y\n",
    "   2. %m\n",
    "   3. %d\n",
    "   4. %H\n",
    "   5. %M\n",
    "   6. %S\n",
    "2. string转换为datetime对象  \n",
    "   使用dateutil包, parser.parse(str)  \n",
    "   该方法不用传入时间格式, 自动判断\n",
    "  "
   ]
  },
  {
   "cell_type": "code",
   "execution_count": 2,
   "metadata": {},
   "outputs": [
    {
     "name": "stdout",
     "output_type": "stream",
     "text": [
      "2018-05-19 11:59:00\n",
      "2018-05-19 11:59:00\n"
     ]
    }
   ],
   "source": [
    "# date2str\n",
    "stmp = datetime(2018,5,19,11,59,0)\n",
    "time2str = stmp.strftime('%Y-%m-%d %H:%M:%S')\n",
    "print time2str\n",
    "# str2date\n",
    "from dateutil import parser\n",
    "print parser.parse(time2str)\n"
   ]
  },
  {
   "cell_type": "markdown",
   "metadata": {},
   "source": [
    "#### 3. pandas中转换datetime\n",
    "1. pd.to_datetime(Series/DateFrame/Index)\n",
    "2. pandas中时间空值: Nat , not a time"
   ]
  },
  {
   "cell_type": "code",
   "execution_count": 3,
   "metadata": {},
   "outputs": [
    {
     "name": "stdout",
     "output_type": "stream",
     "text": [
      "DatetimeIndex(['2011-07-06 12:00:00', '2011-08-06 00:00:00', 'NaT'], dtype='datetime64[ns]', freq=None)\n",
      "[False False  True]\n"
     ]
    }
   ],
   "source": [
    "import pandas as pd\n",
    "from pandas import Series,DataFrame,Index\n",
    "pindex = Index(['2011-07-06 12:00:00', '2011-08-06 00:00:00','NaT'])\n",
    "\n",
    "datetimeindex = pd.to_datetime(pindex)\n",
    "\n",
    "print datetimeindex\n",
    "print datetimeindex.isnull()"
   ]
  },
  {
   "cell_type": "markdown",
   "metadata": {},
   "source": [
    "### 8.2 时间序列基础\n",
    "#### 一. pandas中的时间索引\n",
    "1. pandas中, 最基本的时间序列类型是以时间戳为索引的Series. 时间戳可以是python字符串或Datatime类型  \n",
    "2. 两个时间索引的Series之间运算, 会自动按照时间对齐  \n",
    "3. pandas使用numpy的datetime64数据类型以纳秒存储时间戳    \n",
    "4. Datetime索引中每一项都是pandas的Timestamp类型    \n",
    " pandas.Timestamp对象可以随时转换为Datetime对象"
   ]
  },
  {
   "cell_type": "code",
   "execution_count": 24,
   "metadata": {},
   "outputs": [
    {
     "name": "stdout",
     "output_type": "stream",
     "text": [
      "2018-05-01    0.423616\n",
      "2018-05-12    0.289706\n",
      "2018-05-06    0.348699\n",
      "dtype: float64\n",
      "============================\n",
      "DatetimeIndex(['2018-05-01', '2018-05-12', '2018-05-06'], dtype='datetime64[ns]', freq=None)\n",
      "2018-05-01    0.423616\n",
      "2018-05-06    0.348699\n",
      "dtype: float64\n",
      "2018-05-01    0.847233\n",
      "2018-05-06    0.697397\n",
      "2018-05-12         NaN\n",
      "dtype: float64\n",
      "============================\n",
      "datetime64[ns]\n",
      "<class 'pandas.core.indexes.datetimes.DatetimeIndex'>\n",
      "============================\n"
     ]
    },
    {
     "data": {
      "text/plain": [
       "Timestamp('2018-05-01 00:00:00')"
      ]
     },
     "execution_count": 24,
     "metadata": {},
     "output_type": "execute_result"
    }
   ],
   "source": [
    "# 1.时间序列\n",
    "from datetime import datetime\n",
    "import numpy as np\n",
    "data = [datetime(2018,5,1),datetime(2018,5,12),datetime(2018,5,6)]\n",
    "ts = pd.Series(np.random.rand(3),index=data)\n",
    "print ts\n",
    "print '============================'\n",
    "print ts.index\n",
    "# 2.时间序列之间的运算\n",
    "print ts[::2] # 每隔2个取一项\n",
    "print ts + ts[::2]\n",
    "print '============================'\n",
    "# 3.时间类型索引以纳秒存储\n",
    "print ts.index.dtype\n",
    "print type(ts.index)\n",
    "print '============================'\n",
    "# 4.时间索引的每一项都是Tiestamp\n",
    "ts.index[0]"
   ]
  },
  {
   "cell_type": "markdown",
   "metadata": {},
   "source": [
    "#### 二. 递增的时间索引产生\n",
    "1. pd.date_range() 自动生成时间索引  \n",
    "  1. 传入起始时间\n",
    "  2. periods: 生成多少个时间索引\n",
    "  3. freq: 生成索引的时间间隔, 默认是一天  \n",
    "    1. D: 每日\n",
    "    2. B: 每个工作日\n",
    "    3. H: 每小时\n",
    "    4. min: 每分钟\n",
    "    5. M: 每月最后一个日历日\n",
    "    6. BM: bussiness month, 每月最后一个工作日  \n",
    "      ... 此外, 还有很多日历生成规则\n",
    "\n",
    "2. 关于freq属性的其他用法  \n",
    " 除了上面的字母标识外, 还有很多其他表示方法\n",
    "  1. 可以直接传入频率字符串, 比如'3h25min'\n",
    "  2. 'WOM': week of month, 是你能获得注入每月第三个星期五这类"
   ]
  },
  {
   "cell_type": "code",
   "execution_count": 56,
   "metadata": {},
   "outputs": [
    {
     "data": {
      "text/plain": [
       "DatetimeIndex(['2018-01-01 00:00:00', '2018-01-01 05:00:00',\n",
       "               '2018-01-01 10:00:00', '2018-01-01 15:00:00',\n",
       "               '2018-01-01 20:00:00', '2018-01-02 01:00:00',\n",
       "               '2018-01-02 06:00:00', '2018-01-02 11:00:00',\n",
       "               '2018-01-02 16:00:00', '2018-01-02 21:00:00'],\n",
       "              dtype='datetime64[ns]', freq='5H')"
      ]
     },
     "execution_count": 56,
     "metadata": {},
     "output_type": "execute_result"
    }
   ],
   "source": [
    "# 每隔5小时产生一个索引\n",
    "pd.date_range('2018/01/01',periods=10,freq='5H')"
   ]
  },
  {
   "cell_type": "code",
   "execution_count": 68,
   "metadata": {},
   "outputs": [
    {
     "data": {
      "text/plain": [
       "DatetimeIndex(['2018-01-01 00:00:00', '2018-01-01 03:50:00',\n",
       "               '2018-01-01 07:40:00', '2018-01-01 11:30:00',\n",
       "               '2018-01-01 15:20:00'],\n",
       "              dtype='datetime64[ns]', freq='230T')"
      ]
     },
     "execution_count": 68,
     "metadata": {},
     "output_type": "execute_result"
    }
   ],
   "source": [
    "pd.date_range('2018/01/01',periods=5,freq='3h50min')"
   ]
  },
  {
   "cell_type": "code",
   "execution_count": 69,
   "metadata": {},
   "outputs": [
    {
     "data": {
      "text/plain": [
       "DatetimeIndex(['2018-01-19', '2018-02-16', '2018-03-16', '2018-04-20',\n",
       "               '2018-05-18'],\n",
       "              dtype='datetime64[ns]', freq='WOM-3FRI')"
      ]
     },
     "execution_count": 69,
     "metadata": {},
     "output_type": "execute_result"
    }
   ],
   "source": [
    "pd.date_range('2018/01/01',periods=5,freq='WOM-3FRI')"
   ]
  },
  {
   "cell_type": "markdown",
   "metadata": {},
   "source": [
    "#### 三. 索引选取\n",
    "1. 传入表示时间的字符串  \n",
    "2. 只传入'年','月'的字符串即可对时间序列数据分片  \n",
    "3. 由于时间可以比大小, 因此可以在索引选取时指定时间范围: `start:end`    \n",
    "4. 另一种选取时间范围的数据是 Series.truncate(after='',before='')  \n",
    "  truncate返回的是原始Series的视图, 不改变原Series的数据, 因此也是一种切片操作"
   ]
  },
  {
   "cell_type": "code",
   "execution_count": 47,
   "metadata": {},
   "outputs": [
    {
     "name": "stdout",
     "output_type": "stream",
     "text": [
      "2018-05-01    0.423616\n",
      "dtype: float64\n",
      "============================\n",
      "2002-09-24    0.000534\n",
      "2002-09-25    0.508329\n",
      "2002-09-26    0.221663\n",
      "Freq: D, dtype: float64\n",
      "\n",
      "2001-01-01    0.541888\n",
      "2001-01-02    0.901428\n",
      "2001-01-03    0.184969\n",
      "Freq: D, dtype: float64\n",
      "============================\n",
      "2000-05-01    0.475697\n",
      "2000-05-02    0.953077\n",
      "2000-05-03    0.209156\n",
      "Freq: D, dtype: float64\n"
     ]
    }
   ],
   "source": [
    "# 1. 时间的字符串选取\n",
    "print ts['2018/05/01']\n",
    "print '============================'\n",
    "# 2. 按照'年'切片数据\n",
    "longerts = pd.Series(np.random.rand(1000),index=pd.date_range('2000/1',periods=1000)) # periods:按天递增的个数\n",
    "print longerts[-3:]\n",
    "print ''\n",
    "series_2001 = longerts['2001']\n",
    "print series_2001[:3]\n",
    "print '============================'\n",
    "# 3.按照'月'切片数据\n",
    "series_2001_05 = longerts['2000-05']\n",
    "print series_2001_05[:3]\n"
   ]
  },
  {
   "cell_type": "code",
   "execution_count": 49,
   "metadata": {},
   "outputs": [
    {
     "data": {
      "text/plain": [
       "2000-05-01    0.475697\n",
       "2000-05-02    0.953077\n",
       "2000-05-03    0.209156\n",
       "2000-05-04    0.371667\n",
       "2000-05-05    0.235582\n",
       "Freq: D, dtype: float64"
      ]
     },
     "execution_count": 49,
     "metadata": {},
     "output_type": "execute_result"
    }
   ],
   "source": [
    "# 4. 指定时间范围\n",
    "longerts['2000/5':'2000/6'].head()"
   ]
  },
  {
   "cell_type": "code",
   "execution_count": 52,
   "metadata": {},
   "outputs": [
    {
     "data": {
      "text/plain": [
       "2000-01-01    0.453443\n",
       "2000-01-02    0.889495\n",
       "2000-01-03    0.357315\n",
       "2000-01-04    0.010386\n",
       "2000-01-05    0.026101\n",
       "2000-01-06    0.824207\n",
       "2000-01-07    0.215657\n",
       "2000-01-08    0.072001\n",
       "2000-01-09    0.413610\n",
       "Freq: D, dtype: float64"
      ]
     },
     "execution_count": 52,
     "metadata": {},
     "output_type": "execute_result"
    }
   ],
   "source": [
    "# truncate\n",
    "longerts.truncate(after='2000-01-09')"
   ]
  },
  {
   "cell_type": "markdown",
   "metadata": {},
   "source": [
    "#### 四. 带有重复时间索引的数据\n",
    "1. 检查索引的is_unique属性, 查看索引是否重复\n",
    "2. 通过时间索引值来选取元素时, 要么返回标量, 要么返回切片, 关键看传入的索引是否是重复索引\n",
    "3. 对重复索引聚合使用groupby方法, 传入level=0"
   ]
  },
  {
   "cell_type": "code",
   "execution_count": 59,
   "metadata": {},
   "outputs": [
    {
     "data": {
      "text/plain": [
       "2000-01-01    0\n",
       "2000-01-02    1\n",
       "2000-01-02    2\n",
       "2000-01-02    3\n",
       "2000-01-03    4\n",
       "dtype: int64"
      ]
     },
     "execution_count": 59,
     "metadata": {},
     "output_type": "execute_result"
    }
   ],
   "source": [
    "dates = pd.DatetimeIndex(['1/1/2000', '1/2/2000', '1/2/2000','1/2/2000', '1/3/2000'])\n",
    "dup_ts = pd.Series(np.arange(5),dates)\n",
    "dup_ts"
   ]
  },
  {
   "cell_type": "code",
   "execution_count": 62,
   "metadata": {},
   "outputs": [
    {
     "name": "stdout",
     "output_type": "stream",
     "text": [
      "False\n",
      "============================\n",
      "2000-01-02    1\n",
      "2000-01-02    2\n",
      "2000-01-02    3\n",
      "dtype: int64\n",
      "============================\n"
     ]
    },
    {
     "data": {
      "text/plain": [
       "2000-01-01    0\n",
       "2000-01-02    2\n",
       "2000-01-03    4\n",
       "dtype: int64"
      ]
     },
     "execution_count": 62,
     "metadata": {},
     "output_type": "execute_result"
    }
   ],
   "source": [
    "# 返回False, 表示索引中存在重复元素\n",
    "print dup_ts.index.is_unique\n",
    "print '============================'\n",
    "# 重复索引选取\n",
    "print dup_ts['2000-01-02']\n",
    "print '============================'\n",
    "dup_ts.groupby(level=0).mean()"
   ]
  },
  {
   "cell_type": "markdown",
   "metadata": {},
   "source": [
    "### 8.3 日期的范围,频率及移动"
   ]
  },
  {
   "cell_type": "markdown",
   "metadata": {},
   "source": [
    "#### 一. 超前或滞后数据\n",
    "1. sihft(n) : 整体数据向下移动  \n",
    " shift惭怍不会改变索引的位置, 只会改变column方向上的数据\n",
    "\n",
    "2. 通过偏移量对日期位移  \n",
    "  1. pandas.tseries.offset包含有日期偏移对象 : Day,MonthEnd    \n",
    "  2. MonthEnd偏移的用法 :  \n",
    "    1. MonthEnd(): 当月最后一天  \n",
    "    2. MonthEnd(2): 后一个月最后一天   \n",
    "    3. MonthEnd.rollforward(time)/rollback(time)明确向前/向后进行偏移\n",
    "  \n",
    "3. 通过groupby(fuc), 指定确定同一个分组使用的函数来聚合数据"
   ]
  },
  {
   "cell_type": "code",
   "execution_count": 72,
   "metadata": {},
   "outputs": [
    {
     "data": {
      "text/plain": [
       "2000-01-31    0.598369\n",
       "2000-02-29    0.707779\n",
       "2000-03-31    0.669988\n",
       "2000-04-30    0.024994\n",
       "Freq: M, dtype: float64"
      ]
     },
     "execution_count": 72,
     "metadata": {},
     "output_type": "execute_result"
    }
   ],
   "source": [
    "ts = pd.Series(np.random.rand(4),\n",
    "              index=pd.date_range('2000-01-01',periods=4,freq='M')) # 每月最后一天\n",
    "ts"
   ]
  },
  {
   "cell_type": "code",
   "execution_count": 75,
   "metadata": {},
   "outputs": [
    {
     "name": "stdout",
     "output_type": "stream",
     "text": [
      "2000-01-31         NaN\n",
      "2000-02-29         NaN\n",
      "2000-03-31    0.598369\n",
      "2000-04-30    0.707779\n",
      "Freq: M, dtype: float64\n"
     ]
    },
    {
     "data": {
      "text/plain": [
       "2000-01-31    0.707779\n",
       "2000-02-29    0.669988\n",
       "2000-03-31    0.024994\n",
       "2000-04-30         NaN\n",
       "Freq: M, dtype: float64"
      ]
     },
     "execution_count": 75,
     "metadata": {},
     "output_type": "execute_result"
    }
   ],
   "source": [
    "# 1.shift偏移\n",
    "print ts.shift(2)\n",
    "ts.shift(-1)"
   ]
  },
  {
   "cell_type": "code",
   "execution_count": 81,
   "metadata": {},
   "outputs": [
    {
     "name": "stdout",
     "output_type": "stream",
     "text": [
      "now + 2*Day 2018-06-27 11:54:52.799993\n",
      "now + MonthEnd 2018-06-30 11:54:52.799993\n",
      "now + 2MonthEnd 2018-07-31 11:54:52.799993\n",
      "============================\n",
      "offset.rollforward(now) :  2018-06-30 11:54:52.799993\n",
      "offset.rollback(now) 2018-05-31 11:54:52.799993\n"
     ]
    }
   ],
   "source": [
    "# 2. 偏移量移动时间\n",
    "from pandas.tseries.offsets import Day,MonthEnd\n",
    "now = datetime.now()\n",
    "print 'now + 2*Day',now + 2*Day()\n",
    "print 'now + MonthEnd',now + MonthEnd() \n",
    "print 'now + 2MonthEnd',now + MonthEnd(2)\n",
    "\n",
    "print '============================'\n",
    "\n",
    "# MonthEnd锚点偏移\n",
    "offset = MonthEnd()\n",
    "print 'offset.rollforward(now) : ',offset.rollforward(now)\n",
    "print 'offset.rollback(now)',offset.rollback(now)"
   ]
  },
  {
   "cell_type": "code",
   "execution_count": 99,
   "metadata": {},
   "outputs": [
    {
     "name": "stdout",
     "output_type": "stream",
     "text": [
      "2000-01-01    0.929174\n",
      "2000-01-06    0.233330\n",
      "2000-01-11    0.446800\n",
      "2000-01-16    0.835928\n",
      "2000-01-21    0.020729\n",
      "2000-01-26    0.685061\n",
      "2000-01-31    0.413527\n",
      "2000-02-05    0.584343\n",
      "2000-02-10    0.180762\n",
      "2000-02-15    0.411811\n",
      "Freq: 5D, dtype: float64\n"
     ]
    },
    {
     "data": {
      "text/plain": [
       "2000-01-01    0.929174\n",
       "2000-02-01    0.439229\n",
       "2000-03-01    0.392305\n",
       "dtype: float64"
      ]
     },
     "execution_count": 99,
     "metadata": {},
     "output_type": "execute_result"
    }
   ],
   "source": [
    "# 3. groupby(func)\n",
    "ts = pd.Series(np.random.rand(10),\n",
    "              index=pd.date_range('2000-01-01',periods=10,freq='5d'))\n",
    "print ts\n",
    "from pandas.tseries import offsets \n",
    "offset = offsets.MonthBegin()\n",
    "ts.groupby(offset.rollforward).mean()"
   ]
  },
  {
   "cell_type": "markdown",
   "metadata": {},
   "source": [
    "### 8.4 时区处理\n",
    "#### 一. 何为时区\n",
    "1. 以格林威治时间(UTC)为世界时间标准.\n",
    "2. 时区以格林威治时间偏移量来表示\n",
    "3. python的pytz包, 有关时区的信息都在这里  \n",
    "  1. 获取所有时区: `pytz.common_timezones`\n",
    "  2. 创建时区对象: `pytz.timezone`"
   ]
  },
  {
   "cell_type": "code",
   "execution_count": 110,
   "metadata": {},
   "outputs": [
    {
     "name": "stdout",
     "output_type": "stream",
     "text": [
      "['Africa/Abidjan', 'Africa/Accra', 'Africa/Addis_Ababa']\n",
      "[u'Asia/Shanghai', u'Asia/Urumqi']\n"
     ]
    },
    {
     "data": {
      "text/plain": [
       "<DstTzInfo 'Asia/Shanghai' LMT+8:06:00 STD>"
      ]
     },
     "execution_count": 110,
     "metadata": {},
     "output_type": "execute_result"
    }
   ],
   "source": [
    "# 查看前三个时区\n",
    "import pytz\n",
    "print pytz.common_timezones[:3]\n",
    "print pytz.country_timezones('cn')\n",
    "pytz.timezone('Asia/Shanghai')"
   ]
  },
  {
   "cell_type": "markdown",
   "metadata": {},
   "source": [
    "#### 二. pandas时区本地化和转换\n",
    "1. pandas中的时间索引, 默认不带时区\n",
    "2. 将Series/DataFrame转变为带时区(本地化)的 : `Series/DataFrame.tz_localize('UTC..')`\n",
    "3. 时区转换: `Series/DataFrame.tz_convert('')`\n",
    "4. 上述两个方法, 也可以应用在DateIndex上"
   ]
  },
  {
   "cell_type": "code",
   "execution_count": 130,
   "metadata": {},
   "outputs": [
    {
     "name": "stdout",
     "output_type": "stream",
     "text": [
      "None\n",
      "不带时区:\n",
      "1990-01-01 09:30:00    0.399953\n",
      "1990-01-02 09:30:00    0.827621\n",
      "1990-01-03 09:30:00    0.898261\n",
      "1990-01-04 09:30:00    0.315004\n",
      "1990-01-05 09:30:00    0.118807\n",
      "1990-01-06 09:30:00    0.932909\n",
      "Freq: D, dtype: float64\n",
      "带时区:\n",
      "1990-01-01 09:30:00+00:00    0.399953\n",
      "1990-01-02 09:30:00+00:00    0.827621\n",
      "1990-01-03 09:30:00+00:00    0.898261\n",
      "1990-01-04 09:30:00+00:00    0.315004\n",
      "1990-01-05 09:30:00+00:00    0.118807\n",
      "1990-01-06 09:30:00+00:00    0.932909\n",
      "Freq: D, dtype: float64\n",
      "东八区\n",
      "1990-01-01 17:30:00+08:00    0.399953\n",
      "1990-01-02 17:30:00+08:00    0.827621\n",
      "1990-01-03 17:30:00+08:00    0.898261\n",
      "1990-01-04 17:30:00+08:00    0.315004\n",
      "1990-01-05 17:30:00+08:00    0.118807\n",
      "1990-01-06 17:30:00+08:00    0.932909\n",
      "Freq: D, dtype: float64\n"
     ]
    }
   ],
   "source": [
    "dateIdx = pd.date_range('1990-01-01 9:30',periods=6,freq='D')\n",
    "ts = pd.Series(np.random.rand(6),index=dateIdx)\n",
    "print ts.index.tz #None, 默认没有时区\n",
    "print '不带时区:\\n',ts \n",
    "ts_utc = ts.tz_localize('UTC')\n",
    "print '带时区:\\n', ts_utc\n",
    "print '东八区\\n', ts_utc.tz_convert('Asia/Shanghai')"
   ]
  },
  {
   "cell_type": "markdown",
   "metadata": {},
   "source": [
    "#### 三. pandas的Timestamp对象也可以设置时区\n",
    "1. 创建Timestamp对象 : `pd.Timestamp('time')`\n",
    "2. pands的时间索引,无论带什么时区, 内部都按照UTC时区存储\n",
    "2. 分配时区和更改时区:  \n",
    "  `Timestamp.tz_convert`与`Timestamp.tz_localize`\n",
    "3. offset对象与时间运算, 会保留时区\n",
    "4. 不同时区索引的pandas数据结构进行运算时, 会按照UTC时间对齐索引, 并返回UTC类型的索引"
   ]
  },
  {
   "cell_type": "code",
   "execution_count": 157,
   "metadata": {},
   "outputs": [
    {
     "name": "stdout",
     "output_type": "stream",
     "text": [
      "2011-09-09 11:20:00\n",
      "2011-09-09 11:20:00+08:00\n",
      "2011-09-09 03:20:00+00:00\n",
      "2011-09-09 13:20:00+08:00\n",
      "=================================\n",
      "2018-01-01 12:30:00    0.292266\n",
      "2018-01-02 12:30:00    0.573058\n",
      "2018-01-03 12:30:00    0.576714\n",
      "2018-01-04 12:30:00    0.405501\n",
      "2018-01-05 12:30:00    0.296579\n",
      "Freq: B, dtype: float64\n",
      "2018-01-01 12:30:00+00:00    0.584532\n",
      "2018-01-02 12:30:00+00:00    1.146117\n",
      "Freq: B, dtype: float64\n"
     ]
    }
   ],
   "source": [
    "stamp = pd.Timestamp('2011-09-09 11:20')\n",
    "print stamp\n",
    "shanghai_stamp = stamp.tz_localize('Asia/Shanghai')\n",
    "print shanghai_stamp\n",
    "print shanghai_stamp.tz_convert('UTC')\n",
    "from pandas.tseries.offsets import Hour\n",
    "print shanghai_stamp+2*Hour()\n",
    "print '================================='\n",
    "# 不同时区进行运算, 会转换为UTC时间对齐, 且返回UTC时间索引\n",
    "ts = pd.Series(np.random.rand(5),index=pd.date_range('2018-01-01 12:30',periods=5,freq='B'))\n",
    "ts1 = ts[:2].tz_localize('Europe/London')\n",
    "ts2 = ts1[:2].tz_convert('Europe/Moscow')\n",
    "print ts\n",
    "print ts1+ts2"
   ]
  },
  {
   "cell_type": "markdown",
   "metadata": {},
   "source": [
    "### 8.5 时期及算术运算"
   ]
  },
  {
   "cell_type": "markdown",
   "metadata": {},
   "source": [
    "### 8.6 重采样及频率转换"
   ]
  },
  {
   "cell_type": "markdown",
   "metadata": {},
   "source": [
    "### 8.7 移动窗口函数"
   ]
  },
  {
   "cell_type": "code",
   "execution_count": 83,
   "metadata": {},
   "outputs": [],
   "source": [
    "ts.groupby??"
   ]
  },
  {
   "cell_type": "code",
   "execution_count": null,
   "metadata": {
    "collapsed": true
   },
   "outputs": [],
   "source": [
    "Series().groupby"
   ]
  },
  {
   "cell_type": "code",
   "execution_count": null,
   "metadata": {
    "collapsed": true
   },
   "outputs": [],
   "source": []
  }
 ],
 "metadata": {
  "kernelspec": {
   "display_name": "Python 2",
   "language": "python",
   "name": "python2"
  },
  "language_info": {
   "codemirror_mode": {
    "name": "ipython",
    "version": 2
   },
   "file_extension": ".py",
   "mimetype": "text/x-python",
   "name": "python",
   "nbconvert_exporter": "python",
   "pygments_lexer": "ipython2",
   "version": "2.7.14"
  }
 },
 "nbformat": 4,
 "nbformat_minor": 2
}
