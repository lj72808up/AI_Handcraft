{
 "cells": [
  {
   "cell_type": "markdown",
   "metadata": {},
   "source": [
    "### 8.1 python标准库的时间处理函数\n",
    "\n",
    "#### 1. datetime模块\n",
    "1. 当前时间 : `datetime.now`\n",
    "2. datetime对象初始化 : `datetime(year,month,day,hour,minutes,seconds,miliseconds,timezone)`, 参数都是int型"
   ]
  },
  {
   "cell_type": "code",
   "execution_count": 1,
   "metadata": {},
   "outputs": [
    {
     "name": "stdout",
     "output_type": "stream",
     "text": [
      "2018-06-19 15:09:51.129824\n",
      "1991-07-31 11:20:02\n"
     ]
    }
   ],
   "source": [
    "from datetime import datetime \n",
    "print(datetime.now())\n",
    "print(datetime(1991,7,31,11,20,2))"
   ]
  },
  {
   "cell_type": "markdown",
   "metadata": {},
   "source": [
    "#### 2. datetime与string相互转化\n",
    "1. datetime转换为string  \n",
    "  datetime.strftiome(TIMEFORMAT) : 转换为对应格式的字符串  \n",
    "   1. %Y\n",
    "   2. %m\n",
    "   3. %d\n",
    "   4. %H\n",
    "   5. %M\n",
    "   6. %S\n",
    " 2. string转换为datetime对象  \n",
    "   使用dateutil包, parser.parse(str)  \n",
    "   该方法不用传入时间格式, 自动判断\n",
    "  "
   ]
  },
  {
   "cell_type": "code",
   "execution_count": 6,
   "metadata": {},
   "outputs": [
    {
     "name": "stdout",
     "output_type": "stream",
     "text": [
      "2018-05-19 11:59:00\n",
      "2018-05-19 11:59:00\n"
     ]
    }
   ],
   "source": [
    "# date2str\n",
    "stmp = datetime(2018,5,19,11,59,0)\n",
    "time2str = stmp.strftime('%Y-%m-%d %H:%M:%S')\n",
    "print time2str\n",
    "# str2date\n",
    "from dateutil import parser\n",
    "print parser.parse(time2str)\n"
   ]
  },
  {
   "cell_type": "markdown",
   "metadata": {},
   "source": [
    "#### 3. pandas中转换datetime\n",
    "1. pd.to_datetime(Series/DateFrame/Index)\n",
    "2. pandas中时间空值: Nat , not a time"
   ]
  },
  {
   "cell_type": "code",
   "execution_count": 14,
   "metadata": {},
   "outputs": [
    {
     "name": "stdout",
     "output_type": "stream",
     "text": [
      "DatetimeIndex(['2011-07-06 12:00:00', '2011-08-06 00:00:00', 'NaT'], dtype='datetime64[ns]', freq=None)\n",
      "[False False  True]\n"
     ]
    }
   ],
   "source": [
    "import pandas as pd\n",
    "from pandas import Series,DataFrame,Index\n",
    "pindex = Index(['2011-07-06 12:00:00', '2011-08-06 00:00:00','NaT'])\n",
    "\n",
    "datetimeindex = pd.to_datetime(pindex)\n",
    "\n",
    "print datetimeindex\n",
    "print datetimeindex.isnull()"
   ]
  },
  {
   "cell_type": "code",
   "execution_count": null,
   "metadata": {},
   "outputs": [],
   "source": []
  }
 ],
 "metadata": {
  "kernelspec": {
   "display_name": "Python 2",
   "language": "python",
   "name": "python2"
  },
  "language_info": {
   "codemirror_mode": {
    "name": "ipython",
    "version": 2
   },
   "file_extension": ".py",
   "mimetype": "text/x-python",
   "name": "python",
   "nbconvert_exporter": "python",
   "pygments_lexer": "ipython2",
   "version": "2.7.14"
  }
 },
 "nbformat": 4,
 "nbformat_minor": 2
}
