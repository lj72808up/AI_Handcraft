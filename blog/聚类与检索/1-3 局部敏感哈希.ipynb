{
 "cells": [
  {
   "cell_type": "markdown",
   "metadata": {},
   "source": [
    "## $\\S$3. 局部敏感哈希-Localy Sensitive Hash\n",
    "### 3.1 单个Hash表\n",
    "#### 一. 何为局部敏感哈希\n",
    "1. 局部敏感哈希认为, 相似的两个向量之间的夹角很小. 假设样本点只有2个feature, 此时样本点为2d图形. 当我们随机的用L条直线分割这些点, 每2条直线就会形成一个区域(bin).而因为2个最临近向量之间的夹角很小, 所以他们很有可能落在同一个bin上.\n",
    "<img src=\"../../img/lsh1.png\" width=\"50%\" height=\"50%\">\n",
    "\n",
    "\n",
    "#### 二. LSH的步骤\n",
    "1. 随机生成L条直线划分样本点.  \n",
    " 此时产生问题: 2个NN向量, 没被随机划分到一个bin的概率是多少?  \n",
    "  1. 假设2个最临近向量之间夹角为$\\theta$,当存在一条直线穿过2个向量之间的夹角时, 2个NN向量就不在同一个bin中.  \n",
    "  2. 设随机分割直线落在两个点之间概率为$\\vartheta $, 则$\\vartheta =\\frac { \\theta  }{ \\pi  } $   \n",
    "  3. 因此2个NN向量, 没被随机划分到一个bin的概率为$1-\\vartheta =1-\\frac { \\theta  }{ \\pi  } $   \n",
    "2. 生成哈希表  \n",
    " 我们根据这些生成的随机直线, 计算每个样本点落在哪两条直线形成的bin中, 形成一个\"key=bin序号,value=样本点index\"的哈希表\n",
    "  <img src=\"../../img/lsh2.png\" width=\"60%\" height=\"60%\">\n",
    "3. 考察3个bin中的点  \n",
    " 因为有一定概率的划分, 使得真正的最临近点不在一个bin中. 因此, 计算最临近时,不仅要考察同一个bin内的样本点距离, 还要考察前后一个bin中的样本点.  \n",
    "  <img src=\"../../img/lsh4.png\" width=\"60%\" height=\"60%\">\n",
    "  \n",
    "  \n",
    "### 3.2 多张哈希表提升表现\n",
    "#### 一. 3张哈希表2条分割线的表现\n",
    "1. 生成一张哈希表时, 若我们用2条直线划分样本点,则把2个最临近点划分到不同bin的概率是多少?  \n",
    " $P=1-P(同一个bin)=1-p(两条直线都没在\\theta 角区域上)=1-{ (1-\\vartheta ) }^{ 2 }=2\\vartheta -{ \\vartheta  }^{ 2 }$  \n",
    "2. 若我们用上述步骤生成3个哈希表, 则2个最临近点被3词划分到不同bin的概率是多少?  \n",
    " $P={(2\\vartheta -{ \\vartheta  }^{ 2 })}^3$  \n",
    " <img src=\"../../img/lsh5.png\" width=\"90%\" height=\"90%\">\n",
    "3. 经过对比发现3张哈希表的表现, 在$\\vartheta =0.16$,即$夹角\\theta<=0.16\\pi$时, 表现好过1张哈希表\n",
    " <img src=\"../../img/lsh6.png\" width=\"70%\" height=\"70%\">\n",
    " \n",
    " \n",
    "#### 二. m张哈希表h条直线的表现\n",
    "1. 最临近点在所有m张表中都和待查点$x_q$不在同一个bin下的概率:  \n",
    "$P=1-P(same-bin)=(1-p(no-split-line))={ (1-{ (1-\\vartheta ) }^{ h }) }^{ m }$\n",
    "\n",
    "#### 三. 总结\n",
    "local sensitive hash有两种策略: \n",
    "1. 多条随机分割线,少张表  \n",
    " 这种情况下, 分配样本点到每个bin的开销小, 但是在查询时需要计算很多相邻的bin\n",
    "2. 少条随机分割线,多张表  \n",
    " 这种情况, 分配样本点到每个bin的开销大, 但每张表可以只要查询1个bin  \n",
    " \n",
    "[编程任务](https://www.coursera.org/learn/ml-clustering-and-retrieval/supplement/mMipk/implementing-locality-sensitive-hashing-from-scratch)"
   ]
  }
 ],
 "metadata": {
  "kernelspec": {
   "display_name": "Python 3",
   "language": "python",
   "name": "python3"
  },
  "language_info": {
   "codemirror_mode": {
    "name": "ipython",
    "version": 3
   },
   "file_extension": ".py",
   "mimetype": "text/x-python",
   "name": "python",
   "nbconvert_exporter": "python",
   "pygments_lexer": "ipython3",
   "version": "3.6.5"
  }
 },
 "nbformat": 4,
 "nbformat_minor": 2
}
