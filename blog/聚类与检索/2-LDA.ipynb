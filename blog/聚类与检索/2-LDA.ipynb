{
 "cells": [
  {
   "cell_type": "markdown",
   "metadata": {},
   "source": [
    "## $\\S$2. LDA\n",
    "\n",
    "### 2.1 Mixed-Membership模型\n",
    "\n",
    "#### 一. 何为Mix-Membership\n",
    "\n",
    "1. 此前我们介绍了K-Means和EM, 分别是Hard assiagnment和Soft assignment. 而无论是硬分配还是软分配, 最终的目的都是找到文档所属的\"一个主题\". 而一篇文章, 往往涉及多个主题.此时Mixed Membership就是对文章进行多主题的分类模型  \n",
    "2. 文章表示(Representation)-词袋模型  \n",
    " 硬分配和软分配下, 文章被表示为一个TF-IDF向量(词频逆文档), 其长度等于单词表长度. 而在Mixed-Membership模型下, 使用Bag-of-Words进行文档表示. 词袋的意思是: 设想我们把一篇文章中的词抽出来放到一个袋子中, 然后摇晃这个袋子使得单词乱序的放在袋子中.因此, 词袋模型有以下特性:  \n",
    "  1. 文档 $x_i$ 由一个list表示, 列表中为\"文档中出现的单词\".这些单词在列表中的顺序和在文档中的出现顺序可能不一致. 且文档中某个单词每出现一次, 就在词袋中加入一次这个单词. 因此一个单词可能在词袋列表中出现多次. 称之为\"multiset\"   \n",
    "  2. 下图为文档$x_i$的表示图: \n",
    "  <img src=\"../../img/wordbag.png\" height=\"70%\" width=\"70%\">\n",
    "3. Mix-Membership的先验概率   \n",
    "  1. 软分配下, 文章$x_i$所属cluster的先验概率为 $P\\left( { z }_{ i }=k \\right) ={ \\pi  }_{ k }$   \n",
    "  2. Mix-Membership下文章$x_i$所属cluster的先验概率分两步:  \n",
    "    1. 确定每个topic下的词向量模型, 向量中记录(单词和其出现的概率).  \n",
    "    eg:如下图, 主题science下\"expirement\"出现的概率为0.1,\"test\"出现的概率为0.08   \n",
    "    2. 根据topic的词向量, 计算词袋模型表示的文档$x_i$, 在每个topic的词分布下, 出现$x_i$的似然概率  \n",
    "    <img src=\"../../img/priorbow2.png\" height=\"90%\" width=\"90%\">  \n",
    "  \n",
    "  \n",
    "#### 二. LDA与Mix-Membership\n",
    "1. LDA的目标   \n",
    " LDA是要找到一个文档对应的一些列主题\n",
    "2. 数学符号  \n",
    "  1. $Z_{iw}$ : 单词w(文档i中的), 在某个主题下的得分\n",
    "  2. $\\pi_{i}=[\\pi_{i1},\\pi_{i2}...\\pi_{ik}]$ : 文档在某个topic下的prevalence    \n",
    "3. 贝叶斯推断  \n",
    " 贝叶斯推断不与最大似然估计一样. 最大似然估计(MLE)对参数估计了一个确定值, 这个参数值使得概率值 $P(事件发生|该分布下)$ \n",
    "最大.  \n",
    " 而贝叶斯推断为最大后验估计(MPE-maximum posterior estimazation). 因为贝叶斯推断对参数估计出一组值, 然后对这些值赋予一个权重. 最终的推断结果就是这些值得加权平均\n",
    "\n"
   ]
  },
  {
   "cell_type": "markdown",
   "metadata": {
    "collapsed": true
   },
   "source": [
    "### 2.1 贝叶斯推断与Gibbs抽样"
   ]
  },
  {
   "cell_type": "code",
   "execution_count": null,
   "metadata": {},
   "outputs": [],
   "source": []
  }
 ],
 "metadata": {
  "kernelspec": {
   "display_name": "Python 2",
   "language": "python",
   "name": "python2"
  },
  "language_info": {
   "codemirror_mode": {
    "name": "ipython",
    "version": 2
   },
   "file_extension": ".py",
   "mimetype": "text/x-python",
   "name": "python",
   "nbconvert_exporter": "python",
   "pygments_lexer": "ipython2",
   "version": "2.7.14"
  }
 },
 "nbformat": 4,
 "nbformat_minor": 2
}
