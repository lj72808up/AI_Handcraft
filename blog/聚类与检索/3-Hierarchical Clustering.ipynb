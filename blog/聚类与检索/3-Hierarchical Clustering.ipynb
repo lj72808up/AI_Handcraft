{
 "cells": [
  {
   "cell_type": "markdown",
   "metadata": {},
   "source": [
    "## $\\S$3. Hierarchical Clustering && HMM\n",
    "### 3.1 Hierarchical Clustering\n",
    "#### 一. 为什么选择分层聚类\n",
    "1. K-Means与高斯混合, 只能针对聚类边界为椭圆的情形. 其中K-Means的分类边界为直径相等的圆, 高斯混合为形状不同的椭圆. 而对于不规则的分类边界则无法处理. 如下图所示:  \n",
    "<img src=\"../../img/hierarchical1.png\" height=\"40%\" width=\"40%\">  \n",
    "2. 分层聚类有2种实现方式: 分歧聚类(divisive)和凝聚聚类(agglomerate)\n",
    "\n",
    "#### 二. 分歧聚类 (Divisive Clustering)\n",
    "1. 分歧聚类的一个实现方式是\"迭代式K-Means\"  \n",
    "  1. 先用K-Means聚成2类, 然后分别在这些子cluster中再进行K-Means分类(分成2类)  \n",
    "  2. 迭代的停止条件可以有3个:  \n",
    "    1. cluster数量达到上限\n",
    "    2. cluster中最远点之间的距离达到上限\n",
    "    3. cluster中点的数量达到上限\n",
    "<img src=\"../../img/rekmeans1.png\" height=\"50%\" width=\"50%\">\n",
    "  \n",
    "  \n",
    "#### 三. 凝聚聚类 (Agglomerate Clustering)\n",
    "1. 凝聚聚类的步骤  \n",
    "  1. 初始化所有点自己成一个cluster\n",
    "  2. 定义2个cluster之间的距离计算方法: $distance(C_1,C_2)=min(x^i,x^j)$, 其中${ x }^{ i }\\in C_1,{ x }^{ j }\\in C_2$\n",
    "  3. 合并距离最小的2个cluster为1个大cluster\n",
    "  4. 重复第3步, 直到所有点聚成1个类  \n",
    "  \n",
    "2. 凝聚聚类的树形图  \n",
    "  1. 树形图的x轴:经过排列之后的样本点(为了能画出图形), 树形图y轴:y轴的高度为2个cluster之间的距离  \n",
    "  <img src=\"../../img/dengrogram1.png\" height=\"60%\" width=\"60%\">\n",
    "  2. 凝聚聚类算法停止条件为所有样本点在1个cluster内, 那最终如何决定点的分类呢? 使用一条\"横穿树形图的直线$D^*$来划分cluster\".  \n",
    "   $D^*$之下为划分的cluster\n",
    "  <img src=\"../../img/agglomerative1.png\" height=\"50%\" width=\"50%\">\n",
    "  3. 如何决定$D^*$的位置  \n",
    "   对于可视化来讲, 分类越少越好. 也可以根据distance threshold来决定\n",
    "  4. 为减小点到clutser最小距离的计算量, 不采用计算点到cluster所有点的距离, 而是采用三角不等式来减少计算量\n",
    "  4. 以上distance的计算方式, 使用$min(x^i,x^j),{ x }^{ i }\\in C_1,{ x }^{ j }\\in C_2$,被称作\"single linkage\" 这会导致样本点在\"链式分布\"情况下分类异常\n",
    "  <img src=\"../../img/chainagg.png\" height=\"50%\" width=\"50%\">  \n",
    "   如上图所示, 会把整条链划分成一类, 因为只计算点到cluster的最近距离, 导致无限延展. 未解决这个情形, 引出其他两种距离计算方式:  \n",
    "     1. Complete Linkage : cluster距离=$max(x^i,x^j) $, 其中 ${ x }^{ i }\\in C_1,{ x }^{ j }\\in C_2$.  \n",
    "      与single linkage相反, 解决链式问题, 但受到cluster中距离最远点的影响很大\n",
    "     2. Average Linkage : 点到cluster的距离为$\\frac { 1 }{ n } \\sum _{ { x }^{ i }\\in C1 }^{  }{ dist(x,{ x }^{ i }) } $  \n",
    "      这种方式计算量很大, 因为要计算点到所有点的距离\n",
    "   "
   ]
  }
 ],
 "metadata": {
  "kernelspec": {
   "display_name": "Python 2",
   "language": "python",
   "name": "python2"
  },
  "language_info": {
   "codemirror_mode": {
    "name": "ipython",
    "version": 2
   },
   "file_extension": ".py",
   "mimetype": "text/x-python",
   "name": "python",
   "nbconvert_exporter": "python",
   "pygments_lexer": "ipython2",
   "version": "2.7.14"
  }
 },
 "nbformat": 4,
 "nbformat_minor": 2
}
