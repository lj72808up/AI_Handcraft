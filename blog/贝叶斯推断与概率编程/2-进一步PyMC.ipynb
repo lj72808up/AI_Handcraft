{
 "cells": [
  {
   "cell_type": "markdown",
   "metadata": {},
   "source": [
    "### 2.1 PyMC规则与设计模式\n",
    "\n",
    "#### 一. 父变量与子变量\n",
    "1. 父变量 : 对其他变量有影响的变量  \n",
    " 子变量 : 被其他变量影响的变量, 父变量作用于子变量  \n",
    "2. 一个变量可以即是父变量, 又是子变量\n",
    "3. 如下代码所示  \n",
    "  变量_lambda控制着变量_data, 因此_lambda是_data的父变量\n",
    " ```python\n",
    " import pymc as pm\n",
    "_lambda = pm.Exponential('lambda',1)\n",
    "_data = pm.Poisson('data',_lambda)\n",
    "_data_plus_one = _data + 1\n",
    " ```\n",
    "4. 通过变量的children和parents属性获取变量的父/子变量  \n",
    " 如下代码发现parents获得_data的父变量的内存地址与_lambda相同  \n",
    " ```python\n",
    "print hex(id(_lambda))  # 0x1a13752990\n",
    "print _data.parents     # {'mu': <pymc.distributions.Exponential 'lambda' at 0x1a13752990>}\n",
    " ```"
   ]
  },
  {
   "cell_type": "code",
   "execution_count": 44,
   "metadata": {},
   "outputs": [
    {
     "data": {
      "text/plain": [
       "<pymc.distributions.Uniform 'beats' at 0x1a13833610>"
      ]
     },
     "execution_count": 44,
     "metadata": {},
     "output_type": "execute_result"
    }
   ],
   "source": [
    "import pymc as pm\n",
    "_lambda = pm.Exponential('lambda',1)\n",
    "_data = pm.Poisson('data',_lambda)\n",
    "_data_plus_one = _data + 1\n",
    "pm.Uniform('beats',0,5,size=3)"
   ]
  },
  {
   "cell_type": "code",
   "execution_count": 48,
   "metadata": {},
   "outputs": [
    {
     "name": "stdout",
     "output_type": "stream",
     "text": [
      "[10  5]\n",
      "[10  5]\n"
     ]
    }
   ],
   "source": [
    "import pymc as pm\n",
    "import numpy as np\n",
    "data = np.array([10,5])\n",
    "fixed_value = pm.Poisson('fixed',1,value=data,observed=True)\n",
    "print fixed_value.value\n",
    "fixed_value.random()\n",
    "print fixed_value.value"
   ]
  },
  {
   "cell_type": "code",
   "execution_count": 45,
   "metadata": {
    "collapsed": true
   },
   "outputs": [],
   "source": [
    "pm.Poisson??"
   ]
  },
  {
   "cell_type": "code",
   "execution_count": null,
   "metadata": {
    "collapsed": true
   },
   "outputs": [],
   "source": []
  }
 ],
 "metadata": {
  "kernelspec": {
   "display_name": "Python 2",
   "language": "python",
   "name": "python2"
  },
  "language_info": {
   "codemirror_mode": {
    "name": "ipython",
    "version": 2
   },
   "file_extension": ".py",
   "mimetype": "text/x-python",
   "name": "python",
   "nbconvert_exporter": "python",
   "pygments_lexer": "ipython2",
   "version": "2.7.14"
  }
 },
 "nbformat": 4,
 "nbformat_minor": 2
}
