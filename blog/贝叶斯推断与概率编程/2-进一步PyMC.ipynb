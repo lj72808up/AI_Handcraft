{
 "cells": [
  {
   "cell_type": "code",
   "execution_count": 1,
   "metadata": {},
   "outputs": [],
   "source": [
    "%matplotlib inline"
   ]
  },
  {
   "cell_type": "code",
   "execution_count": 2,
   "metadata": {},
   "outputs": [],
   "source": [
    "import pymc as pm\n",
    "import pandas as pd\n",
    "import matplotlib.pyplot as plt\n",
    "import seaborn as sns\n",
    "import numpy as np\n",
    "from scipy import stats"
   ]
  },
  {
   "cell_type": "markdown",
   "metadata": {},
   "source": [
    "### 2.1 PyMC规则与设计模式\n",
    "\n",
    "#### 一. 父变量与子变量\n",
    "1. 父变量 : 对其他变量有影响的变量  \n",
    " 子变量 : 被其他变量影响的变量, 父变量作用于子变量  \n",
    "2. 一个变量可以即是父变量, 又是子变量\n",
    "3. 如下代码所示  \n",
    "  变量_lambda控制着变量_data, 因此_lambda是_data的父变量\n",
    " ```python\n",
    " import pymc as pm\n",
    "_lambda = pm.Exponential('lambda',1)\n",
    "_data = pm.Poisson('data',_lambda)\n",
    "_data_plus_one = _data + 1\n",
    " ```\n",
    "4. 通过变量的children和parents属性获取变量的父/子变量  \n",
    " 如下代码发现parents获得_data的父变量的内存地址与_lambda相同  \n",
    " ```python\n",
    "print hex(id(_lambda))  # 0x1a13752990\n",
    "print _data.parents       # {'mu': <pymc.distributions.Exponential 'lambda' at 0x1a13752990>}\n",
    " ```\n",
    " \n",
    "#### 二. PyMC变量\n",
    "1. PyMC对象, 都使用`value`属性获取当前时刻, 对象内存储的值(返回1个元素的ndarray)   \n",
    "```python\n",
    "print _lambda.value  # ndarray(0.9853300186895546)\n",
    "```\n",
    "2. **PyMC变量类型**  \n",
    "  1. 随机型变量   \n",
    "    对象内部用于计算的值会变化. 即调用一次对象的random()方法后, 对象的value属性获取值更改  \n",
    "  2. 确定型变量  \n",
    "    指如果变量的父变量确定, 则他的值不再随机. 一种快速检测方法 : 如果知道了所有foo的父变量值, 则可以判断foo的取值是多少\n",
    "\n",
    "3.  **PyMC初始化随机变量**   \n",
    " 初始化一个随机变量时, 第一个参数是string, 表示变量名. 后面的参数表示该随机变量服从的概率分布中的参数值. 不同概率分布需要传入的参数不同\n",
    " ```python\n",
    "some_value = pm.DiscreteUniform('discrete_uni_var',0,10) # 离散均匀分布: [0,10]\n",
    "```\n",
    "4. **多变量初始化**  \n",
    " 多个同分布的变量, 与其初始化多次单个变量再组成数组, 不如一次打包初始化.  \n",
    " 打包初始化的多变量, 返回是'数组形式'的PyMC变量. 该数组可以当做numpy的数组使用. 对该数组调用value属性同样返回一个numpy数组\n",
    " ```python\n",
    "# 多变量分别初始化\n",
    "beta_1 = pm.DiscreteUniform('betas',0,10)\n",
    "beta_2 = pm.DiscreteUniform('betas',0,10)\n",
    "# 多变量打包初始化\n",
    "betas = pm.DiscreteUniform('betas',0,10,size=2)\n",
    "betas.value  # array([8, 5])\n",
    "```\n",
    "\n",
    "5. **随机变量调用random()**  \n",
    "  调用PyMC随机变量的random()方法, 会产生一个新的随机值\n",
    " ```python\n",
    "_lambda = pm.Exponential('lambda',1)\n",
    "print _lambda.value  # 0.06077825538858841\n",
    "_lambda.random()\n",
    "print _lambda.value  # 0.7676321346809103\n",
    "```\n",
    "\n",
    "6. **确定型变量**  \n",
    "  1. 对PyMC对象的操作, 加减乘除运算, 指数和类似操作都会产生确定型变量  \n",
    "  ```python\n",
    "lambda_1 = pm.Exponential('lambda_1',1)\n",
    "lambda_2 = pm.Exponential('lambda_2',1)\n",
    "type(lambda_1+lambda_2)\n",
    "# [out]: pymc.PyMCObjects.Deterministic\n",
    "```\n",
    "  1. PyMC常用于模拟一个随机变量. 因此为了区分, 确定型变量使用`pymc.deterministic`标记封装一个确定型变量 (一个函数装饰器)  \n",
    "    1. 确定型变量不能调用random()方法\n",
    "    2. 确定型变量并非永远不变. 若其父变量是随机变量, 则每当父变量调用random()改变自身值后, 该确定型变量值也会发生变化  \n",
    "       ```python \n",
    "        import numpy as np\n",
    "        lambda_1 = pm.Exponential('lambda_1',1)\n",
    "        lambda_2 = pm.Exponential('lambda_2',1)\n",
    "        tau = pm.DiscreteUniform('tau',lower=0,upper=5)\n",
    "\n",
    "        @pm.deterministic\n",
    "        def some_deterministic_value(tau=tau,lambda_1=lambda_1,lambda_2=lambda_2):\n",
    "            out = np.zeros(5)\n",
    "            out[:tau] = lambda_1\n",
    "            out[tau:] = lambda_2\n",
    "            return out\n",
    "        # 查看确定型变量内部的值\n",
    "        print some_deterministic_value.value\n",
    "        # 改变父变量的值\n",
    "        print lambda_1.random()\n",
    "        # 子变量的值也改变\n",
    "        print some_deterministic_value.value\n",
    "\n",
    "        # [0.44791845 0.44791845 0.44791845 1.64404658 1.64404658]\n",
    "        # 0.1915637712762092\n",
    "        # [0.19156377 0.19156377 0.19156377 1.64404658 1.64404658]\n",
    "        ```\n",
    "        \n",
    "#### 三. 模型加入观测值\n",
    "1. 模型中指定先验  \n",
    " 以上随机变量声明的步骤, 表明我们确定了参数的先验分布. 例如, 我们可以提问并解答\"先验分布$\\lambda $是什么\". 以下代码给出$\\lambda $的分布图\n",
    " <img src='img/prioere1.png' width='90%' height='90%'>\n",
    "2. 将证据, 观测值加入随机变量  \n",
    " PyMC随机变量有个额外的参数, observed:布尔变量, 用于固定随机变量的取值   \n",
    " 加入观测值的随机变量, random方法不会改变value存储的值\n",
    " ```python\n",
    "data = np.array([10,5])\n",
    "fixed_variable = pm.Poisson('fxd',1,value=data,observed=True)\n",
    "print fixed_variable.value\n",
    "fixed_variable.random()\n",
    "print fixed_variable.value\n",
    "# out : [10  5]\n",
    "#         [10  5]\n",
    "```"
   ]
  },
  {
   "cell_type": "markdown",
   "metadata": {},
   "source": [
    "### 2.2 PyMC建模方式\n",
    "\n",
    "#### 一. 思考步骤 (用第一章, 对短信接收次数建模为例)\n",
    "1. 什么随机变量可以描述这些'短信接收次数'数据  \n",
    " Poisson分布适合对count类型数据建模\n",
    "2. 假设'短信接收次数'服从Poisson分布, 所以Poisson分布引入参数 $\\lambda$\n",
    "3. $\\lambda$的参数值我们知道吗? 显然并不知道. 我们猜测$\\lambda$ 有两个取值, 一个属于早期行为, 另一个属于后其行为.但是我们并不确切知道什么时候发生的变化. 所以这个转换点也要被建模  \n",
    "  1. 两个$\\lambda$ 来自什么样的分布呢? 因为泊松分布的参数$\\lambda$ 大于0, 因此, 对于正实数给出概率的指数分布可用于对$\\lambda$ 建模. 这个指数分布自身也有参数, 称他为$\\lambda 2$, 为了便于表示, 我们让参数$\\alpha$=$ \\frac{1}{\\lambda2}$.此时, 可以继续对$\\alpha$建模, 但为了降低复杂度, 我们只对$\\alpha$ 赋予一个估计值. 想到指数分布的均值为$ \\frac{1}{\\lambda2}$, 所以让$\\alpha$=观测数据的均值  \n",
    "  2. 对于转换点, 我们也不知道明确的值, 可以假设其来自离散均匀分布\n",
    "  \n",
    "#### 二. PyMC产生服从指定分布的样本点\n",
    "1. PyMC产生分布的样本点方法, 直接返回Int等数值型数据, 且声明时不用指定名称   \n",
    " 与声明随机变量不同, PyMC声明的随机变量, 每次通过调用random()方法后才能已获得一个随机值, 且是ndarray类型.   \n",
    "   1. 如果声明时指定size, 则返回一维数组\n",
    "        ```python\n",
    "        val1s = pm.Exponential('lambda_1',1,size=1)\n",
    "        val1s.value\n",
    "        # out : array([1.30231956])\n",
    "        ```\n",
    "   2. 如果声明时不指定size, 则只返回不成数组形式的ndarray\n",
    "        ```python\n",
    "        val2s = pm.Exponential('lambda_1',1)\n",
    "        val2s.value\n",
    "        # out : array(0.63302789)\n",
    "        ```\n",
    "        \n",
    "2. 我们将\"短信接收次数\"反过来, 模拟一种数据实现\n",
    "  1. 从离散均匀分布(0,74)中抽取转换点\n",
    "    ```python\n",
    "    tau = pm.rdiscrete_uniform(lower=0,upper=74)\n",
    "    print type(tau)  # <type 'int'>\n",
    "    print tau            # 47\n",
    "    ```\n",
    "  2. 从$Exp(\\alpha)$中抽取$\\lambda_1,\\lambda_2$\n",
    "    ```python\n",
    "    # lambda = 20\n",
    "    alpha = 1./20 \n",
    "    # 指数分布在PyMC的参数, 相当于1/lambda\n",
    "    lambda_1,lambda_2 = pm.rexponential(alpha,size=2)\n",
    "    alpha_1,lambda_2 # (0.2913224799441983, 9.913965017046333)\n",
    "    ```\n",
    "  4. 让$\\tau$ 之前的天数设为$\\lambda=\\lambda_1$, 之后的天数设为$\\lambda=\\lambda_2$\n",
    "    ```python\n",
    "    before_tau = lambda_1*np.ones(tau)\n",
    "    after_tau = lambda_2*np.ones(74-tau)\n",
    "    lambda_ = np.r_[before_tau,after_tau]\n",
    "    print lambda_\n",
    "    ```\n",
    "  5. 用之前产生的74个$\\lambda$序列, 抽取74个服从各自$\\lambda$的泊松分布的值\n",
    "    ```python\n",
    "    data = pm.rpoisson(lambda_)\n",
    "    data\n",
    "    ```\n",
    "   6. 对上面生成的data绘图\n",
    "   ```python\n",
    "    f,ax= plt.subplots(figsize=(10,3))\n",
    "    # 绘制柱图\n",
    "    pd.Series(data).plot.bar()\n",
    "    # 标注tau时点\n",
    "    ax.annotate('change time',\n",
    "                xy=(tau,data[tau]),\n",
    "               xytext=(tau,data[tau]+6),\n",
    "               arrowprops=dict(facecolor='black',headwidth=4,headlength=4, width=2), # 箭头宽度, 箭头长度, 尾部正方形的宽度\n",
    "               horizontalalignment='left',  # 箭头在文字右边\n",
    "               verticalalignment='top')\n",
    "    ```\n",
    "3. 上述模拟过程完整代码  \n",
    " 我们发现, 模拟之后数据的分布情况和原数据并不一致, 这很正常. 事实上完全相同的概率极小.  \n",
    " PyMC就是尽量寻找能贴合原数据分布的$\\tau$ 和$\\lambda$\n",
    "<img src='img/moniduanxin11.png'>\n"
   ]
  },
  {
   "cell_type": "markdown",
   "metadata": {},
   "source": [
    "#### 三. A/B测试\n",
    "1. A/B测试用于检验两种不同处理方式导致不同结果的差异化程度\n",
    "2. 真实频率与观测频率  \n",
    " 1. 利用频率估计概率, 会出现真实频率和观测频率的区别. 真实频率: 时间发生的概率. 观测频率 : 观测到的时间发生频率.\n",
    " 2. 真实频率和观测频率之存在差别.   \n",
    "  如下例子:假设一个页面的购买转化率, 我们的先验认为转化率=5%(伯努利分布), 用MCMC抽样获得的转化率分布图如下: "
   ]
  },
  {
   "cell_type": "code",
   "execution_count": 3,
   "metadata": {},
   "outputs": [
    {
     "name": "stdout",
     "output_type": "stream",
     "text": [
      " [-----------------100%-----------------] 20000 of 20000 complete in 0.6 sec"
     ]
    },
    {
     "data": {
      "text/plain": [
       "array([False, False, False, ..., False, False, False])"
      ]
     },
     "execution_count": 3,
     "metadata": {},
     "output_type": "execute_result"
    }
   ],
   "source": [
    "p = 0.05\n",
    "obs = pm.Bernoulli('obs',p)\n",
    "mcmc = pm.MCMC([p,obs])\n",
    "mcmc.sample(20000,1000)\n",
    "mcmc.trace('obs')[:]"
   ]
  },
  {
   "cell_type": "markdown",
   "metadata": {},
   "source": [
    "#### 四. 二项分布\n",
    "1. $B(N,p)$ : N为实验进行的次数.P为时间发生的概率\n",
    "2. scipy.stats模块,可用于计算离散随机变量的概率质量值,或连续随机变量的概率密度值  \n",
    " 二项分布是离散型随机变量. 随机变量取值范围在[0,N]共N+1个结果. 表示N此实验中, 事件发生0~N次\n",
    " `binom.pmf(k,n,p)`: \n",
    "  1. k: 随机变量x的取值. 一个numpy数组\n",
    "  2. n: 二项分布实验次数\n",
    "  3. p: 二项分布每次实验,事件发生的概率"
   ]
  },
  {
   "cell_type": "code",
   "execution_count": 4,
   "metadata": {},
   "outputs": [
    {
     "data": {
      "text/plain": [
       "<matplotlib.axes._subplots.AxesSubplot at 0x7f645016a438>"
      ]
     },
     "execution_count": 4,
     "metadata": {},
     "output_type": "execute_result"
    },
    {
     "data": {
      "image/png": "[encoded data removed]",
      "text/plain": [
       "<Figure size 432x288 with 1 Axes>"
      ]
     },
     "metadata": {},
     "output_type": "display_data"
    }
   ],
   "source": [
    "n1=10;p1=.4\n",
    "# x取值为[0,1..10]~B(10,0.4), 这些值对应的概率质量值\n",
    "binomial_1 = stats.binom.pmf(np.arange(n1+1),n1,p1)\n",
    "n2=10;p2=.9\n",
    "binomial_2 = stats.binom.pmf(np.arange(n2+1),n2,p2)\n",
    "pd.Series(binomial_1).plot.bar(color='#348ABD',alpha=0.6,label='1qqqqq')\n",
    "pd.Series(binomial_2).plot.bar(color='#A60628',alpha=0.6)"
   ]
  },
  {
   "cell_type": "markdown",
   "metadata": {},
   "source": [
    "#### 五. 学生作弊问题建模\n",
    "1. 问题描述 :  \n",
    " 1. 目标 : 我们要采访确定一场考试中, 作弊人数的比率p.  \n",
    " 2. 符号 : N表示参加考试的学生人数, 每个考生考试结束后都会参加采访. 收到\"是的, 我作弊了\"的人数为X. \n",
    "2. 采访策略 :  \n",
    " 如果直接问学生是否作弊, 恐怕没有人会承认自己刚才作弊了.一次采用一种'隐私算法'  受采访的学生, 先抛一枚硬币:  \n",
    "  1. 若正面朝上,则必须诚实回答是否作弊了.\n",
    "  2. 若反面朝上, 则可再抛第二枚硬币.   \n",
    "    1. 第二枚硬币如果正面朝上, 回答'我作弊了';\n",
    "    2. 如果反面朝上, 回答'我没作弊'  \n",
    "    \n",
    " 因此, 当学生回答我作弊了, 就无法知道是第一次抛硬币说出的真话,还是第二次抛硬币的随即结果. 保护了学生的隐私\n",
    "\n",
    "3. 统计思路 : 给定N, 对作弊比率p做后验分布  \n",
    "  1. 简单假设P服从[0,1]的均匀分布\n",
    "  2. 模拟真是作弊数据 : 生成100个学生的真实情况, 为100个学生设置'伯努利随机变量' (1: 作弊,0: 没作弊)\n",
    "  3. 模拟采访过程生成的数据:  \n",
    "    1. 第一次扔硬币 : P(正面)=0.5的伯努利随机变量, 抽样100次  \n",
    "    2. 第二次扔硬币 : 同样为P(正面)=0.5的伯努利随机变量, 抽样100次  \n",
    "  4. '是的'回答的实现方式 : 第一次投币为正面&确实作弊了 + 第一次正面&第二次反面 \n",
    "  第四步,模拟了回答'作弊了'的结果\n",
    "  5. 加入证据 :   \n",
    "   采访之后, 共收到35个'是的'答案"
   ]
  },
  {
   "cell_type": "code",
   "execution_count": 5,
   "metadata": {},
   "outputs": [
    {
     "name": "stdout",
     "output_type": "stream",
     "text": [
      "0.67\n"
     ]
    }
   ],
   "source": [
    "# 受采访人数100人\n",
    "N=100\n",
    "# 1. 先验: 作弊概率服从[0,1]的均匀分布\n",
    "p = pm.Uniform('freq_cheating',0,1)\n",
    "# 2. 在先验作弊率的情况下100个学生真实情况的伯努利\n",
    "true_answers = pm.Bernoulli('truths',p,size=N)\n",
    "# 3. 模拟采访数据\n",
    "first_coin_flips = pm.Bernoulli('first_coin_flips',0.5,size=N)\n",
    "# print 'first_coin_flips: ',first_coin_flips.value\n",
    "second_coin_flips = pm.Bernoulli('second_coin_flips',0.5,size=N)\n",
    "# print 'second_coin_flips: ',second_coin_flips.value\n",
    "# 4. '是的'实现方式\n",
    "@pm.deterministic\n",
    "def observed_proportion(t_a=true_answers,fc=first_coin_flips,sc=second_coin_flips):  \n",
    "    observed = fc*t_a + (1-fc)*sc\n",
    "    return observed.sum()*1./N\n",
    "print (observed_proportion.value)"
   ]
  },
  {
   "cell_type": "code",
   "execution_count": 23,
   "metadata": {},
   "outputs": [
    {
     "name": "stderr",
     "output_type": "stream",
     "text": [
      "/devkit/anaconda3/lib/python3.6/site-packages/pymc/MCMC.py:81: UserWarning: Instantiating a Model object directly is deprecated. We recommend passing variables directly to the Model subclass.\n",
      "  warnings.warn(message)\n"
     ]
    },
    {
     "name": "stdout",
     "output_type": "stream",
     "text": [
      " [-----------------100%-----------------] 40000 of 40000 complete in 1.3 sec"
     ]
    }
   ],
   "source": [
    "# 受采访的结果中, 得到35个'是'回答\n",
    "X = 35\n",
    "obs_data = np.zeros(100)\n",
    "obs_data[:35] = 1\n",
    "# observations = pm.Binomial('obs',N,observed_proportion,value=X,observed=True)\n",
    "observations = pm.Bernoulli('obs',observed_proportion,size=N,value=obs_data,observed=True)\n",
    "# 所有变量加入模型中, 并进行MCMC抽样\n",
    "true_answers = pm.Bernoulli('truths',p)\n",
    "model = pm.Model([true_answers])\n",
    "mcmc = pm.MCMC(model)\n",
    "mcmc.sample(40000)"
   ]
  }
 ],
 "metadata": {
  "kernelspec": {
   "display_name": "Python 3",
   "language": "python",
   "name": "python3"
  },
  "language_info": {
   "codemirror_mode": {
    "name": "ipython",
    "version": 3
   },
   "file_extension": ".py",
   "mimetype": "text/x-python",
   "name": "python",
   "nbconvert_exporter": "python",
   "pygments_lexer": "ipython3",
   "version": "3.6.5"
  }
 },
 "nbformat": 4,
 "nbformat_minor": 2
}
